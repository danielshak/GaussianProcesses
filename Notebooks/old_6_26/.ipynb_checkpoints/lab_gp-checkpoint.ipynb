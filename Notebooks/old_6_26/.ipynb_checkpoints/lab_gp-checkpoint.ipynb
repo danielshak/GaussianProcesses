{
 "cells": [
  {
   "cell_type": "markdown",
   "metadata": {},
   "source": [
    "### Look into https://github.com/maartenbreddels/ipyvolume for plotting"
   ]
  },
  {
   "cell_type": "code",
   "execution_count": 39,
   "metadata": {},
   "outputs": [],
   "source": [
    "import pandas as pd\n",
    "import numpy as np\n",
    "import matplotlib.pyplot as plt\n",
    "from mpl_toolkits.mplot3d import Axes3D\n",
    "import scipy.stats\n",
    "from sklearn.gaussian_process import GaussianProcessRegressor\n",
    "from sklearn.gaussian_process.kernels import RBF, ConstantKernel as C\n",
    "import GPy\n",
    "%matplotlib widget\n",
    "#%matplotlib notebook"
   ]
  },
  {
   "cell_type": "markdown",
   "metadata": {},
   "source": [
    "### Plotting code from https://github.com/krasserm/bayesian-machine-learning/blob/master/gaussian_processes_util.py"
   ]
  },
  {
   "cell_type": "code",
   "execution_count": 17,
   "metadata": {},
   "outputs": [],
   "source": [
    "# from matplotlib import cm\n",
    "# from mpl_toolkits.mplot3d import Axes3D\n",
    "\n",
    "# def plot_gp(mu, cov, X, X_train=None, Y_train=None, samples=[]):\n",
    "#     X = X.ravel()\n",
    "#     mu = mu.ravel()\n",
    "#     uncertainty = 1.96 * np.sqrt(np.diag(cov))\n",
    "    \n",
    "#     plt.fill_between(X, mu + uncertainty, mu - uncertainty, alpha=0.1)\n",
    "#     plt.plot(X, mu, label='Mean')\n",
    "#     for i, sample in enumerate(samples):\n",
    "#         plt.plot(X, sample, lw=1, ls='--', label=f'Sample {i+1}')\n",
    "#     if X_train is not None:\n",
    "#         plt.plot(X_train, Y_train, 'rx')\n",
    "#     plt.legend()\n",
    "\n",
    "# def plot_gp_2D(gx, gy, mu, X_train, Y_train, title, i):\n",
    "#     ax = plt.gcf().add_subplot(1, 2, i, projection='3d')\n",
    "#     ax.plot_surface(gx, gy, mu.reshape(gx.shape), cmap=cm.coolwarm, linewidth=0, alpha=0.2, antialiased=False)\n",
    "#     ax.scatter(X_train[:,0], X_train[:,1], Y_train, c=Y_train, cmap=cm.coolwarm)\n",
    "#     ax.set_title(title)"
   ]
  },
  {
   "cell_type": "code",
   "execution_count": 2,
   "metadata": {},
   "outputs": [
    {
     "data": {
      "text/html": [
       "<div>\n",
       "<style scoped>\n",
       "    .dataframe tbody tr th:only-of-type {\n",
       "        vertical-align: middle;\n",
       "    }\n",
       "\n",
       "    .dataframe tbody tr th {\n",
       "        vertical-align: top;\n",
       "    }\n",
       "\n",
       "    .dataframe thead th {\n",
       "        text-align: right;\n",
       "    }\n",
       "</style>\n",
       "<table border=\"1\" class=\"dataframe\">\n",
       "  <thead>\n",
       "    <tr style=\"text-align: right;\">\n",
       "      <th></th>\n",
       "      <th>Gene.description</th>\n",
       "      <th>AvgChrs</th>\n",
       "      <th>AT2_18M_F10</th>\n",
       "      <th>WSU_Old</th>\n",
       "      <th>Gene start (bp)</th>\n",
       "      <th>Gene end (bp)</th>\n",
       "      <th>gene length</th>\n",
       "    </tr>\n",
       "    <tr>\n",
       "      <th>Gene.names</th>\n",
       "      <th></th>\n",
       "      <th></th>\n",
       "      <th></th>\n",
       "      <th></th>\n",
       "      <th></th>\n",
       "      <th></th>\n",
       "      <th></th>\n",
       "    </tr>\n",
       "  </thead>\n",
       "  <tbody>\n",
       "    <tr>\n",
       "      <th>0610037L13Rik</th>\n",
       "      <td>RIKEN cDNA 0610037L13 gene</td>\n",
       "      <td>3.689387</td>\n",
       "      <td>4.016506</td>\n",
       "      <td>23.808293</td>\n",
       "      <td>107889813</td>\n",
       "      <td>107899384</td>\n",
       "      <td>9571</td>\n",
       "    </tr>\n",
       "    <tr>\n",
       "      <th>1810009A15Rik</th>\n",
       "      <td>RIKEN cDNA 1810009A15 gene</td>\n",
       "      <td>18.144712</td>\n",
       "      <td>0.000000</td>\n",
       "      <td>23.182809</td>\n",
       "      <td>8888853</td>\n",
       "      <td>8890881</td>\n",
       "      <td>2028</td>\n",
       "    </tr>\n",
       "    <tr>\n",
       "      <th>2310011J03Rik</th>\n",
       "      <td>RIKEN cDNA 2310011J03 gene</td>\n",
       "      <td>9.614556</td>\n",
       "      <td>4.487340</td>\n",
       "      <td>23.487317</td>\n",
       "      <td>80318254</td>\n",
       "      <td>80320537</td>\n",
       "      <td>2283</td>\n",
       "    </tr>\n",
       "    <tr>\n",
       "      <th>2610301B20Rik</th>\n",
       "      <td>RIKEN cDNA 2610301B20 gene</td>\n",
       "      <td>3.069562</td>\n",
       "      <td>4.998258</td>\n",
       "      <td>17.000000</td>\n",
       "      <td>10874498</td>\n",
       "      <td>10899425</td>\n",
       "      <td>24927</td>\n",
       "    </tr>\n",
       "    <tr>\n",
       "      <th>2810006K23Rik</th>\n",
       "      <td>RIKEN cDNA 2810006K23 gene</td>\n",
       "      <td>4.818884</td>\n",
       "      <td>1.865742</td>\n",
       "      <td>17.000000</td>\n",
       "      <td>124328089</td>\n",
       "      <td>124341844</td>\n",
       "      <td>13755</td>\n",
       "    </tr>\n",
       "  </tbody>\n",
       "</table>\n",
       "</div>"
      ],
      "text/plain": [
       "                         Gene.description    AvgChrs  AT2_18M_F10    WSU_Old  \\\n",
       "Gene.names                                                                     \n",
       "0610037L13Rik  RIKEN cDNA 0610037L13 gene   3.689387     4.016506  23.808293   \n",
       "1810009A15Rik  RIKEN cDNA 1810009A15 gene  18.144712     0.000000  23.182809   \n",
       "2310011J03Rik  RIKEN cDNA 2310011J03 gene   9.614556     4.487340  23.487317   \n",
       "2610301B20Rik  RIKEN cDNA 2610301B20 gene   3.069562     4.998258  17.000000   \n",
       "2810006K23Rik  RIKEN cDNA 2810006K23 gene   4.818884     1.865742  17.000000   \n",
       "\n",
       "               Gene start (bp)  Gene end (bp)  gene length  \n",
       "Gene.names                                                  \n",
       "0610037L13Rik        107889813      107899384         9571  \n",
       "1810009A15Rik          8888853        8890881         2028  \n",
       "2310011J03Rik         80318254       80320537         2283  \n",
       "2610301B20Rik         10874498       10899425        24927  \n",
       "2810006K23Rik        124328089      124341844        13755  "
      ]
     },
     "execution_count": 2,
     "metadata": {},
     "output_type": "execute_result"
    }
   ],
   "source": [
    "vsp_input = pd.read_csv('Data/vsp_input.tsv', sep='\\t',index_col=0)\n",
    "vsp_input.head()"
   ]
  },
  {
   "cell_type": "code",
   "execution_count": 3,
   "metadata": {},
   "outputs": [
    {
     "data": {
      "text/html": [
       "<div>\n",
       "<style scoped>\n",
       "    .dataframe tbody tr th:only-of-type {\n",
       "        vertical-align: middle;\n",
       "    }\n",
       "\n",
       "    .dataframe tbody tr th {\n",
       "        vertical-align: top;\n",
       "    }\n",
       "\n",
       "    .dataframe thead th {\n",
       "        text-align: right;\n",
       "    }\n",
       "</style>\n",
       "<table border=\"1\" class=\"dataframe\">\n",
       "  <thead>\n",
       "    <tr style=\"text-align: right;\">\n",
       "      <th></th>\n",
       "      <th>AvgChrs</th>\n",
       "      <th>AT2_18M_F10</th>\n",
       "      <th>gene length</th>\n",
       "    </tr>\n",
       "    <tr>\n",
       "      <th>MGI.symbol</th>\n",
       "      <th></th>\n",
       "      <th></th>\n",
       "      <th></th>\n",
       "    </tr>\n",
       "  </thead>\n",
       "  <tbody>\n",
       "    <tr>\n",
       "      <th>Gnai3</th>\n",
       "      <td>2.675624</td>\n",
       "      <td>7.126699</td>\n",
       "      <td>38866</td>\n",
       "    </tr>\n",
       "    <tr>\n",
       "      <th>Cdc45</th>\n",
       "      <td>15.191392</td>\n",
       "      <td>1.091367</td>\n",
       "      <td>31540</td>\n",
       "    </tr>\n",
       "    <tr>\n",
       "      <th>Narf</th>\n",
       "      <td>10.993152</td>\n",
       "      <td>4.224477</td>\n",
       "      <td>18603</td>\n",
       "    </tr>\n",
       "    <tr>\n",
       "      <th>Cav2</th>\n",
       "      <td>5.115437</td>\n",
       "      <td>5.937759</td>\n",
       "      <td>7930</td>\n",
       "    </tr>\n",
       "    <tr>\n",
       "      <th>Klf6</th>\n",
       "      <td>12.048712</td>\n",
       "      <td>6.626275</td>\n",
       "      <td>8912</td>\n",
       "    </tr>\n",
       "  </tbody>\n",
       "</table>\n",
       "</div>"
      ],
      "text/plain": [
       "              AvgChrs  AT2_18M_F10  gene length\n",
       "MGI.symbol                                     \n",
       "Gnai3        2.675624     7.126699        38866\n",
       "Cdc45       15.191392     1.091367        31540\n",
       "Narf        10.993152     4.224477        18603\n",
       "Cav2         5.115437     5.937759         7930\n",
       "Klf6        12.048712     6.626275         8912"
      ]
     },
     "execution_count": 3,
     "metadata": {},
     "output_type": "execute_result"
    }
   ],
   "source": [
    "all_genes = pd.read_csv('Data/rna_seq_cov.tsv',sep='\\t',index_col=0,).iloc[:,[1,5,-1]]\n",
    "all_genes.head()"
   ]
  },
  {
   "cell_type": "code",
   "execution_count": 4,
   "metadata": {},
   "outputs": [],
   "source": [
    "#Subset data into different partitions to test how much data the GP needs\n",
    "data_percent = 0.5\n",
    "\n",
    "np.random.seed(1)\n",
    "msk = np.random.rand(len(all_genes)) < data_percent\n",
    "train = all_genes[msk]\n",
    "test = all_genes[~msk]"
   ]
  },
  {
   "cell_type": "code",
   "execution_count": 5,
   "metadata": {},
   "outputs": [],
   "source": [
    "chrm1 = train[train['AvgChrs']<=1]\n",
    "chrm1_test = test[test['AvgChrs']<=1]"
   ]
  },
  {
   "cell_type": "code",
   "execution_count": 6,
   "metadata": {},
   "outputs": [],
   "source": [
    "vsp_chrm1 = vsp_input[vsp_input['AvgChrs']<=1]"
   ]
  },
  {
   "cell_type": "code",
   "execution_count": 7,
   "metadata": {},
   "outputs": [
    {
     "data": {
      "text/html": [
       "<div>\n",
       "<style scoped>\n",
       "    .dataframe tbody tr th:only-of-type {\n",
       "        vertical-align: middle;\n",
       "    }\n",
       "\n",
       "    .dataframe tbody tr th {\n",
       "        vertical-align: top;\n",
       "    }\n",
       "\n",
       "    .dataframe thead th {\n",
       "        text-align: right;\n",
       "    }\n",
       "</style>\n",
       "<table border=\"1\" class=\"dataframe\">\n",
       "  <thead>\n",
       "    <tr style=\"text-align: right;\">\n",
       "      <th></th>\n",
       "      <th>AvgChrs</th>\n",
       "      <th>AT2_18M_F10</th>\n",
       "      <th>gene length</th>\n",
       "    </tr>\n",
       "    <tr>\n",
       "      <th>MGI.symbol</th>\n",
       "      <th></th>\n",
       "      <th></th>\n",
       "      <th></th>\n",
       "    </tr>\n",
       "  </thead>\n",
       "  <tbody>\n",
       "    <tr>\n",
       "      <th>Ddx18</th>\n",
       "      <td>0.621884</td>\n",
       "      <td>4.078079</td>\n",
       "      <td>14154</td>\n",
       "    </tr>\n",
       "    <tr>\n",
       "      <th>Nab1</th>\n",
       "      <td>0.268473</td>\n",
       "      <td>6.310246</td>\n",
       "      <td>43385</td>\n",
       "    </tr>\n",
       "    <tr>\n",
       "      <th>Elf3</th>\n",
       "      <td>0.691946</td>\n",
       "      <td>6.529142</td>\n",
       "      <td>4993</td>\n",
       "    </tr>\n",
       "    <tr>\n",
       "      <th>Tbc1d8</th>\n",
       "      <td>0.201692</td>\n",
       "      <td>6.070121</td>\n",
       "      <td>107263</td>\n",
       "    </tr>\n",
       "    <tr>\n",
       "      <th>Ncstn</th>\n",
       "      <td>0.880302</td>\n",
       "      <td>6.509513</td>\n",
       "      <td>16782</td>\n",
       "    </tr>\n",
       "  </tbody>\n",
       "</table>\n",
       "</div>"
      ],
      "text/plain": [
       "             AvgChrs  AT2_18M_F10  gene length\n",
       "MGI.symbol                                    \n",
       "Ddx18       0.621884     4.078079        14154\n",
       "Nab1        0.268473     6.310246        43385\n",
       "Elf3        0.691946     6.529142         4993\n",
       "Tbc1d8      0.201692     6.070121       107263\n",
       "Ncstn       0.880302     6.509513        16782"
      ]
     },
     "execution_count": 7,
     "metadata": {},
     "output_type": "execute_result"
    }
   ],
   "source": [
    "chrm1.head()"
   ]
  },
  {
   "cell_type": "code",
   "execution_count": 8,
   "metadata": {},
   "outputs": [
    {
     "data": {
      "text/html": [
       "<div>\n",
       "<style scoped>\n",
       "    .dataframe tbody tr th:only-of-type {\n",
       "        vertical-align: middle;\n",
       "    }\n",
       "\n",
       "    .dataframe tbody tr th {\n",
       "        vertical-align: top;\n",
       "    }\n",
       "\n",
       "    .dataframe thead th {\n",
       "        text-align: right;\n",
       "    }\n",
       "</style>\n",
       "<table border=\"1\" class=\"dataframe\">\n",
       "  <thead>\n",
       "    <tr style=\"text-align: right;\">\n",
       "      <th></th>\n",
       "      <th>AvgChrs</th>\n",
       "      <th>AT2_18M_F10</th>\n",
       "      <th>gene length</th>\n",
       "    </tr>\n",
       "    <tr>\n",
       "      <th>MGI.symbol</th>\n",
       "      <th></th>\n",
       "      <th></th>\n",
       "      <th></th>\n",
       "    </tr>\n",
       "  </thead>\n",
       "  <tbody>\n",
       "    <tr>\n",
       "      <th>Cnnm3</th>\n",
       "      <td>0.186830</td>\n",
       "      <td>5.231141</td>\n",
       "      <td>16370</td>\n",
       "    </tr>\n",
       "    <tr>\n",
       "      <th>Lman2l</th>\n",
       "      <td>0.186383</td>\n",
       "      <td>5.387627</td>\n",
       "      <td>25400</td>\n",
       "    </tr>\n",
       "    <tr>\n",
       "      <th>Rrp15</th>\n",
       "      <td>0.955304</td>\n",
       "      <td>2.544479</td>\n",
       "      <td>28380</td>\n",
       "    </tr>\n",
       "    <tr>\n",
       "      <th>Rgs20</th>\n",
       "      <td>0.025528</td>\n",
       "      <td>0.000000</td>\n",
       "      <td>160709</td>\n",
       "    </tr>\n",
       "    <tr>\n",
       "      <th>Cnot11</th>\n",
       "      <td>0.202284</td>\n",
       "      <td>4.351779</td>\n",
       "      <td>11897</td>\n",
       "    </tr>\n",
       "  </tbody>\n",
       "</table>\n",
       "</div>"
      ],
      "text/plain": [
       "             AvgChrs  AT2_18M_F10  gene length\n",
       "MGI.symbol                                    \n",
       "Cnnm3       0.186830     5.231141        16370\n",
       "Lman2l      0.186383     5.387627        25400\n",
       "Rrp15       0.955304     2.544479        28380\n",
       "Rgs20       0.025528     0.000000       160709\n",
       "Cnot11      0.202284     4.351779        11897"
      ]
     },
     "execution_count": 8,
     "metadata": {},
     "output_type": "execute_result"
    }
   ],
   "source": [
    "chrm1_test.head()"
   ]
  },
  {
   "cell_type": "code",
   "execution_count": 9,
   "metadata": {},
   "outputs": [
    {
     "data": {
      "text/html": [
       "<div>\n",
       "<style scoped>\n",
       "    .dataframe tbody tr th:only-of-type {\n",
       "        vertical-align: middle;\n",
       "    }\n",
       "\n",
       "    .dataframe tbody tr th {\n",
       "        vertical-align: top;\n",
       "    }\n",
       "\n",
       "    .dataframe thead th {\n",
       "        text-align: right;\n",
       "    }\n",
       "</style>\n",
       "<table border=\"1\" class=\"dataframe\">\n",
       "  <thead>\n",
       "    <tr style=\"text-align: right;\">\n",
       "      <th></th>\n",
       "      <th>Gene.description</th>\n",
       "      <th>AvgChrs</th>\n",
       "      <th>AT2_18M_F10</th>\n",
       "      <th>WSU_Old</th>\n",
       "      <th>Gene start (bp)</th>\n",
       "      <th>Gene end (bp)</th>\n",
       "      <th>gene length</th>\n",
       "    </tr>\n",
       "    <tr>\n",
       "      <th>Gene.names</th>\n",
       "      <th></th>\n",
       "      <th></th>\n",
       "      <th></th>\n",
       "      <th></th>\n",
       "      <th></th>\n",
       "      <th></th>\n",
       "      <th></th>\n",
       "    </tr>\n",
       "  </thead>\n",
       "  <tbody>\n",
       "    <tr>\n",
       "      <th>Acadl</th>\n",
       "      <td>acyl-Coenzyme A dehydrogenase, long-chain</td>\n",
       "      <td>0.341978</td>\n",
       "      <td>7.217256</td>\n",
       "      <td>28.021149</td>\n",
       "      <td>66830839</td>\n",
       "      <td>66863277</td>\n",
       "      <td>32438</td>\n",
       "    </tr>\n",
       "    <tr>\n",
       "      <th>Acbd3</th>\n",
       "      <td>acyl-Coenzyme A binding domain containing 3</td>\n",
       "      <td>0.924634</td>\n",
       "      <td>5.820596</td>\n",
       "      <td>24.807548</td>\n",
       "      <td>180726043</td>\n",
       "      <td>180754204</td>\n",
       "      <td>28161</td>\n",
       "    </tr>\n",
       "    <tr>\n",
       "      <th>Acsl3</th>\n",
       "      <td>acyl-CoA synthetase long-chain family member 3</td>\n",
       "      <td>0.402527</td>\n",
       "      <td>5.640054</td>\n",
       "      <td>17.000000</td>\n",
       "      <td>78657825</td>\n",
       "      <td>78707743</td>\n",
       "      <td>49918</td>\n",
       "    </tr>\n",
       "    <tr>\n",
       "      <th>Actr1b</th>\n",
       "      <td>ARP1 actin-related protein 1B, centractin beta</td>\n",
       "      <td>0.187783</td>\n",
       "      <td>6.712477</td>\n",
       "      <td>25.467643</td>\n",
       "      <td>36698114</td>\n",
       "      <td>36714422</td>\n",
       "      <td>16308</td>\n",
       "    </tr>\n",
       "    <tr>\n",
       "      <th>Actr3</th>\n",
       "      <td>ARP3 actin-related protein 3</td>\n",
       "      <td>0.641597</td>\n",
       "      <td>7.504811</td>\n",
       "      <td>26.892912</td>\n",
       "      <td>125392905</td>\n",
       "      <td>125435727</td>\n",
       "      <td>42822</td>\n",
       "    </tr>\n",
       "  </tbody>\n",
       "</table>\n",
       "</div>"
      ],
      "text/plain": [
       "                                          Gene.description   AvgChrs  \\\n",
       "Gene.names                                                             \n",
       "Acadl            acyl-Coenzyme A dehydrogenase, long-chain  0.341978   \n",
       "Acbd3          acyl-Coenzyme A binding domain containing 3  0.924634   \n",
       "Acsl3       acyl-CoA synthetase long-chain family member 3  0.402527   \n",
       "Actr1b      ARP1 actin-related protein 1B, centractin beta  0.187783   \n",
       "Actr3                         ARP3 actin-related protein 3  0.641597   \n",
       "\n",
       "            AT2_18M_F10    WSU_Old  Gene start (bp)  Gene end (bp)  \\\n",
       "Gene.names                                                           \n",
       "Acadl          7.217256  28.021149         66830839       66863277   \n",
       "Acbd3          5.820596  24.807548        180726043      180754204   \n",
       "Acsl3          5.640054  17.000000         78657825       78707743   \n",
       "Actr1b         6.712477  25.467643         36698114       36714422   \n",
       "Actr3          7.504811  26.892912        125392905      125435727   \n",
       "\n",
       "            gene length  \n",
       "Gene.names               \n",
       "Acadl             32438  \n",
       "Acbd3             28161  \n",
       "Acsl3             49918  \n",
       "Actr1b            16308  \n",
       "Actr3             42822  "
      ]
     },
     "execution_count": 9,
     "metadata": {},
     "output_type": "execute_result"
    }
   ],
   "source": [
    "vsp_chrm1.head()"
   ]
  },
  {
   "cell_type": "code",
   "execution_count": 10,
   "metadata": {},
   "outputs": [],
   "source": [
    "#Subset data into different partitions to test how much data the GP needs\n",
    "data_percent = 0.80\n",
    "\n",
    "np.random.seed(1)\n",
    "msk = np.random.rand(len(vsp_chrm1)) < data_percent\n",
    "vsp_chrm1_train = vsp_chrm1[msk]\n",
    "vsp_chrm1_test = vsp_chrm1[~msk]"
   ]
  },
  {
   "cell_type": "code",
   "execution_count": 11,
   "metadata": {},
   "outputs": [
    {
     "data": {
      "text/html": [
       "<div>\n",
       "<style scoped>\n",
       "    .dataframe tbody tr th:only-of-type {\n",
       "        vertical-align: middle;\n",
       "    }\n",
       "\n",
       "    .dataframe tbody tr th {\n",
       "        vertical-align: top;\n",
       "    }\n",
       "\n",
       "    .dataframe thead th {\n",
       "        text-align: right;\n",
       "    }\n",
       "</style>\n",
       "<table border=\"1\" class=\"dataframe\">\n",
       "  <thead>\n",
       "    <tr style=\"text-align: right;\">\n",
       "      <th></th>\n",
       "      <th>Gene.description</th>\n",
       "      <th>AvgChrs</th>\n",
       "      <th>AT2_18M_F10</th>\n",
       "      <th>WSU_Old</th>\n",
       "      <th>Gene start (bp)</th>\n",
       "      <th>Gene end (bp)</th>\n",
       "      <th>gene length</th>\n",
       "    </tr>\n",
       "    <tr>\n",
       "      <th>Gene.names</th>\n",
       "      <th></th>\n",
       "      <th></th>\n",
       "      <th></th>\n",
       "      <th></th>\n",
       "      <th></th>\n",
       "      <th></th>\n",
       "      <th></th>\n",
       "    </tr>\n",
       "  </thead>\n",
       "  <tbody>\n",
       "    <tr>\n",
       "      <th>Acadl</th>\n",
       "      <td>acyl-Coenzyme A dehydrogenase, long-chain</td>\n",
       "      <td>0.341978</td>\n",
       "      <td>7.217256</td>\n",
       "      <td>28.021149</td>\n",
       "      <td>66830839</td>\n",
       "      <td>66863277</td>\n",
       "      <td>32438</td>\n",
       "    </tr>\n",
       "    <tr>\n",
       "      <th>Acbd3</th>\n",
       "      <td>acyl-Coenzyme A binding domain containing 3</td>\n",
       "      <td>0.924634</td>\n",
       "      <td>5.820596</td>\n",
       "      <td>24.807548</td>\n",
       "      <td>180726043</td>\n",
       "      <td>180754204</td>\n",
       "      <td>28161</td>\n",
       "    </tr>\n",
       "    <tr>\n",
       "      <th>Acsl3</th>\n",
       "      <td>acyl-CoA synthetase long-chain family member 3</td>\n",
       "      <td>0.402527</td>\n",
       "      <td>5.640054</td>\n",
       "      <td>17.000000</td>\n",
       "      <td>78657825</td>\n",
       "      <td>78707743</td>\n",
       "      <td>49918</td>\n",
       "    </tr>\n",
       "    <tr>\n",
       "      <th>Actr1b</th>\n",
       "      <td>ARP1 actin-related protein 1B, centractin beta</td>\n",
       "      <td>0.187783</td>\n",
       "      <td>6.712477</td>\n",
       "      <td>25.467643</td>\n",
       "      <td>36698114</td>\n",
       "      <td>36714422</td>\n",
       "      <td>16308</td>\n",
       "    </tr>\n",
       "    <tr>\n",
       "      <th>Actr3</th>\n",
       "      <td>ARP3 actin-related protein 3</td>\n",
       "      <td>0.641597</td>\n",
       "      <td>7.504811</td>\n",
       "      <td>26.892912</td>\n",
       "      <td>125392905</td>\n",
       "      <td>125435727</td>\n",
       "      <td>42822</td>\n",
       "    </tr>\n",
       "  </tbody>\n",
       "</table>\n",
       "</div>"
      ],
      "text/plain": [
       "                                          Gene.description   AvgChrs  \\\n",
       "Gene.names                                                             \n",
       "Acadl            acyl-Coenzyme A dehydrogenase, long-chain  0.341978   \n",
       "Acbd3          acyl-Coenzyme A binding domain containing 3  0.924634   \n",
       "Acsl3       acyl-CoA synthetase long-chain family member 3  0.402527   \n",
       "Actr1b      ARP1 actin-related protein 1B, centractin beta  0.187783   \n",
       "Actr3                         ARP3 actin-related protein 3  0.641597   \n",
       "\n",
       "            AT2_18M_F10    WSU_Old  Gene start (bp)  Gene end (bp)  \\\n",
       "Gene.names                                                           \n",
       "Acadl          7.217256  28.021149         66830839       66863277   \n",
       "Acbd3          5.820596  24.807548        180726043      180754204   \n",
       "Acsl3          5.640054  17.000000         78657825       78707743   \n",
       "Actr1b         6.712477  25.467643         36698114       36714422   \n",
       "Actr3          7.504811  26.892912        125392905      125435727   \n",
       "\n",
       "            gene length  \n",
       "Gene.names               \n",
       "Acadl             32438  \n",
       "Acbd3             28161  \n",
       "Acsl3             49918  \n",
       "Actr1b            16308  \n",
       "Actr3             42822  "
      ]
     },
     "execution_count": 11,
     "metadata": {},
     "output_type": "execute_result"
    }
   ],
   "source": [
    "vsp_chrm1_train.head()"
   ]
  },
  {
   "cell_type": "code",
   "execution_count": 12,
   "metadata": {},
   "outputs": [],
   "source": [
    "pos_train = np.array(vsp_chrm1_train['AvgChrs'])\n",
    "rna_train = np.array(vsp_chrm1_train['AT2_18M_F10'])\n",
    "X = np.stack((pos_train,rna_train),axis=1)\n",
    "protein_train = np.array(vsp_chrm1_train['WSU_Old'])\n",
    "\n",
    "#Kernel definition\n",
    "kernel = RBF([10,10])\n",
    "\n",
    "#Initialize gp regressor\n",
    "#alpha is noise parameter (nugget value) diagonal noise matrix? deafult 1e-10\n",
    "gp = GaussianProcessRegressor(kernel=kernel, alpha = 1e-5, normalize_y=True,n_restarts_optimizer=15)\n",
    "#gp = GaussianProcessRegressor(kernel=kernel, alpha = 1e-5,n_restarts_optimizer=15)\n",
    "\n",
    "#Fit gp regressor with observation points\n",
    "gp.fit(X, protein_train)\n",
    "\n",
    "x1_test = np.array(vsp_chrm1_test['AvgChrs'])\n",
    "x2_test = np.array(vsp_chrm1_test['AT2_18M_F10'])\n",
    "X_test = np.stack((x1_test,x2_test),axis=1)\n",
    "protein_truth = np.array(vsp_chrm1_test['WSU_Old'])\n",
    "\n",
    "#Prediction\n",
    "y_pred, MSE = gp.predict(X_test, return_std=True)"
   ]
  },
  {
   "cell_type": "code",
   "execution_count": 106,
   "metadata": {},
   "outputs": [
    {
     "data": {
      "application/vnd.jupyter.widget-view+json": {
       "model_id": "9b096feffb274f7ba2e6682a7eb1de62",
       "version_major": 2,
       "version_minor": 0
      },
      "text/plain": [
       "FigureCanvasNbAgg()"
      ]
     },
     "metadata": {},
     "output_type": "display_data"
    },
    {
     "ename": "IndexError",
     "evalue": "index 1 is out of bounds for axis 1 with size 1",
     "output_type": "error",
     "traceback": [
      "\u001b[0;31m---------------------------------------------------------------------------\u001b[0m",
      "\u001b[0;31mIndexError\u001b[0m                                Traceback (most recent call last)",
      "\u001b[0;32m<ipython-input-106-6969fc41cf68>\u001b[0m in \u001b[0;36m<module>\u001b[0;34m\u001b[0m\n\u001b[1;32m      9\u001b[0m \u001b[0max\u001b[0m \u001b[0;34m=\u001b[0m \u001b[0mfig1\u001b[0m\u001b[0;34m.\u001b[0m\u001b[0madd_subplot\u001b[0m\u001b[0;34m(\u001b[0m\u001b[0;36m111\u001b[0m\u001b[0;34m,\u001b[0m \u001b[0mprojection\u001b[0m\u001b[0;34m=\u001b[0m\u001b[0;34m'3d'\u001b[0m\u001b[0;34m)\u001b[0m\u001b[0;34m\u001b[0m\u001b[0;34m\u001b[0m\u001b[0m\n\u001b[1;32m     10\u001b[0m \u001b[0;31m#ax.plot_surface(gx, gy, mu.reshape(gx.shape), cmap=cm.coolwarm, linewidth=0, alpha=0.2, antialiased=False)\u001b[0m\u001b[0;34m\u001b[0m\u001b[0;34m\u001b[0m\u001b[0;34m\u001b[0m\u001b[0m\n\u001b[0;32m---> 11\u001b[0;31m \u001b[0max\u001b[0m\u001b[0;34m.\u001b[0m\u001b[0mscatter\u001b[0m\u001b[0;34m(\u001b[0m\u001b[0mX_train\u001b[0m\u001b[0;34m[\u001b[0m\u001b[0;34m:\u001b[0m\u001b[0;34m,\u001b[0m\u001b[0;36m0\u001b[0m\u001b[0;34m]\u001b[0m\u001b[0;34m,\u001b[0m \u001b[0mX_train\u001b[0m\u001b[0;34m[\u001b[0m\u001b[0;34m:\u001b[0m\u001b[0;34m,\u001b[0m\u001b[0;36m1\u001b[0m\u001b[0;34m]\u001b[0m\u001b[0;34m,\u001b[0m \u001b[0mY_train\u001b[0m\u001b[0;34m,\u001b[0m \u001b[0mc\u001b[0m\u001b[0;34m=\u001b[0m\u001b[0;34m'r'\u001b[0m\u001b[0;34m)\u001b[0m\u001b[0;34m\u001b[0m\u001b[0;34m\u001b[0m\u001b[0m\n\u001b[0m\u001b[1;32m     12\u001b[0m \u001b[0max\u001b[0m\u001b[0;34m.\u001b[0m\u001b[0mscatter\u001b[0m\u001b[0;34m(\u001b[0m\u001b[0mx1_test\u001b[0m\u001b[0;34m,\u001b[0m\u001b[0mx2_test\u001b[0m\u001b[0;34m,\u001b[0m\u001b[0my_pred\u001b[0m\u001b[0;34m,\u001b[0m\u001b[0mc\u001b[0m\u001b[0;34m=\u001b[0m\u001b[0;34m'b'\u001b[0m\u001b[0;34m)\u001b[0m\u001b[0;34m\u001b[0m\u001b[0;34m\u001b[0m\u001b[0m\n\u001b[1;32m     13\u001b[0m \u001b[0max\u001b[0m\u001b[0;34m.\u001b[0m\u001b[0mscatter\u001b[0m\u001b[0;34m(\u001b[0m\u001b[0mx1_test\u001b[0m\u001b[0;34m,\u001b[0m\u001b[0mx2_test\u001b[0m\u001b[0;34m,\u001b[0m\u001b[0mprotein_truth\u001b[0m\u001b[0;34m,\u001b[0m\u001b[0mc\u001b[0m\u001b[0;34m=\u001b[0m\u001b[0;34m'g'\u001b[0m\u001b[0;34m)\u001b[0m\u001b[0;34m\u001b[0m\u001b[0;34m\u001b[0m\u001b[0m\n",
      "\u001b[0;31mIndexError\u001b[0m: index 1 is out of bounds for axis 1 with size 1"
     ]
    }
   ],
   "source": [
    "gx = x1_test.reshape(-1,1)\n",
    "gy = x2_test.reshape(-1,1)\n",
    "mu = y_pred.reshape(-1,1)\n",
    "X_train = X\n",
    "Y_train = protein_train\n",
    "\n",
    "fig1 = plt.figure()\n",
    "fig1.set_size_inches((5,5))\n",
    "ax = fig1.add_subplot(111, projection='3d')\n",
    "#ax.plot_surface(gx, gy, mu.reshape(gx.shape), cmap=cm.coolwarm, linewidth=0, alpha=0.2, antialiased=False)\n",
    "ax.scatter(X_train[:,0], X_train[:,1], Y_train, c='r')\n",
    "ax.scatter(x1_test,x2_test,y_pred,c='b')\n",
    "ax.scatter(x1_test,x2_test,protein_truth,c='g')"
   ]
  },
  {
   "cell_type": "code",
   "execution_count": 15,
   "metadata": {},
   "outputs": [
    {
     "data": {
      "text/plain": [
       "Text(0, 0.5, 'Protein Level')"
      ]
     },
     "execution_count": 15,
     "metadata": {},
     "output_type": "execute_result"
    },
    {
     "data": {
      "image/png": "[encoded data removed]",
      "text/plain": [
       "<Figure size 3600x360 with 1 Axes>"
      ]
     },
     "metadata": {
      "needs_background": "light"
     },
     "output_type": "display_data"
    }
   ],
   "source": [
    "#plt.close('all')\n",
    "fig1 = plt.figure()\n",
    "fig1.set_size_inches((50,5))\n",
    "ax = fig1.add_subplot(111)\n",
    "#ax.plot_surface(gx, gy, mu.reshape(gx.shape), cmap=cm.coolwarm, linewidth=0, alpha=0.2, antialiased=False)\n",
    "ax.scatter(X_train[:,0], Y_train, c='r',label='Train')\n",
    "ax.scatter(x1_test,y_pred,c='b',label='Predicted')\n",
    "ax.scatter(x1_test,protein_truth,c='g',label='Truth')\n",
    "ax.legend()\n",
    "ax.set_xlabel('Gene Position')\n",
    "ax.set_ylabel('Protein Level')"
   ]
  },
  {
   "cell_type": "code",
   "execution_count": 16,
   "metadata": {},
   "outputs": [
    {
     "data": {
      "text/plain": [
       "<matplotlib.collections.QuadMesh at 0x7f3caa02f2e8>"
      ]
     },
     "execution_count": 16,
     "metadata": {},
     "output_type": "execute_result"
    },
    {
     "data": {
      "image/png": "[encoded data removed]",
      "text/plain": [
       "<Figure size 360x360 with 1 Axes>"
      ]
     },
     "metadata": {
      "needs_background": "light"
     },
     "output_type": "display_data"
    }
   ],
   "source": [
    "fig = plt.figure(figsize=(5,5))\n",
    "ax = fig.add_subplot(111)\n",
    "ax.pcolormesh(x1_test.reshape(-1,1), x2_test.reshape(-1,1), y_pred.reshape(-1,1))"
   ]
  },
  {
   "cell_type": "code",
   "execution_count": 17,
   "metadata": {},
   "outputs": [],
   "source": [
    "from __future__ import division\n",
    "import numpy as np\n",
    "import matplotlib.pyplot as pl\n",
    "\"\"\" This is code for simple GP regression. It assumes a zero mean GP Prior \"\"\"\n",
    "\n",
    "# This is the true unknown function we are trying to approximate\n",
    "f = lambda x: np.sin(0.9*x).flatten()\n",
    "#f = lambda x: (0.25*(x**2)).flatten()\n",
    "\n",
    "# Define the kernel\n",
    "def kernel(a, b):\n",
    "    \"\"\" GP squared exponential kernel \"\"\"\n",
    "    kernelParameter = 0.1\n",
    "    sqdist = np.sum(a**2,1).reshape(-1,1) + np.sum(b**2,1) - 2*np.dot(a, b.T)\n",
    "    return np.exp(-.5 * (1/kernelParameter) * sqdist)"
   ]
  },
  {
   "cell_type": "code",
   "execution_count": 18,
   "metadata": {},
   "outputs": [
    {
     "data": {
      "text/plain": [
       "3.1607278445544993"
      ]
     },
     "execution_count": 18,
     "metadata": {},
     "output_type": "execute_result"
    }
   ],
   "source": [
    "s = 0.00005    # noise variance.\n",
    "X = np.array(vsp_chrm1_train['AvgChrs']).reshape(-1,1)\n",
    "Y = np.array(vsp_chrm1_train['WSU_Old'])\n",
    "cov = kernel(X,X)\n",
    "L = np.linalg.cholesky(cov + s*np.eye(len(X)))\n",
    "\n",
    "X_test = np.array(vsp_chrm1_test['AvgChrs']).reshape(-1,1)\n",
    "protein_truth = np.array(vsp_chrm1_test['WSU_Old'])\n",
    "\n",
    "# compute the mean at our test points.\n",
    "Lk = np.linalg.solve(L, kernel(X, X_test))\n",
    "mu = np.dot(Lk.T, np.linalg.solve(L, Y))\n",
    "\n",
    "# compute the variance at our test points.\n",
    "K_ = kernel(X_test, X_test)\n",
    "s2 = np.diag(K_) - np.sum(Lk**2, axis=0)\n",
    "s = np.sqrt(s2)\n",
    "\n",
    "np.mean((protein_truth - mu)**2)"
   ]
  },
  {
   "cell_type": "code",
   "execution_count": 19,
   "metadata": {},
   "outputs": [
    {
     "data": {
      "text/plain": [
       "<matplotlib.legend.Legend at 0x7f3ca9f75cc0>"
      ]
     },
     "execution_count": 19,
     "metadata": {},
     "output_type": "execute_result"
    },
    {
     "data": {
      "image/png": "[encoded data removed]",
      "text/plain": [
       "<Figure size 2160x288 with 1 Axes>"
      ]
     },
     "metadata": {
      "needs_background": "light"
     },
     "output_type": "display_data"
    }
   ],
   "source": [
    "# PLOTS:\n",
    "fig1 = pl.figure()\n",
    "fig1.set_size_inches((30,4))\n",
    "ax = fig1.add_subplot(111)\n",
    "ax.plot(X, Y, 'r+', ms=20, label='truth data points') #truth values that we are given\n",
    "#pl.gca().fill_between(X_test.flat, mu-3*s, mu+3*s, color=\"#dddddd\")\n",
    "pl.plot(X_test, mu, 'b+', lw=1, label='predicted means') #mean values of prediction\n",
    "pl.plot(X_test, protein_truth, 'g+',label='ground truth')#what the test values should be\n",
    "pl.title('Mean predictions plus 3 st.deviations')\n",
    "ax.plot()\n",
    "ax.legend()"
   ]
  },
  {
   "cell_type": "code",
   "execution_count": null,
   "metadata": {},
   "outputs": [],
   "source": [
    "# pos_train = np.array(vsp_chrm1_train['AvgChrs'])\n",
    "# rna_train = np.array(vsp_chrm1_train['AT2_18M_F10'])\n",
    "# X = np.stack((pos_train,rna_train),axis=1)\n",
    "# protein_train = np.array(vsp_chrm1_train['WSU_Old'])\n",
    "\n",
    "# #Kernel definition\n",
    "# kernel = RBF([10,10])\n",
    "\n",
    "# #Initialize gp regressor\n",
    "# #alpha is noise parameter (nugget value) diagonal noise matrix? deafult 1e-10\n",
    "# gp = GaussianProcessRegressor(kernel=kernel, alpha = 1e-5, normalize_y=True,n_restarts_optimizer=15)\n",
    "# #gp = GaussianProcessRegressor(kernel=kernel, alpha = 1e-5,n_restarts_optimizer=15)\n",
    "\n",
    "# #Fit gp regressor with observation points\n",
    "# gp.fit(X, protein_train)\n",
    "\n",
    "# x1_test = np.array(vsp_chrm1_test['AvgChrs'])\n",
    "# x2_test = np.array(vsp_chrm1_test['AT2_18M_F10'])\n",
    "# X_test = np.stack((x1_test,x2_test),axis=1)\n",
    "# protein_truth = np.array(vsp_chrm1_test['WSU_Old'])"
   ]
  },
  {
   "cell_type": "code",
   "execution_count": 103,
   "metadata": {},
   "outputs": [
    {
     "data": {
      "application/vnd.jupyter.widget-view+json": {
       "model_id": "36779b44c05d43e6812e8f3e413b1cec",
       "version_major": 2,
       "version_minor": 0
      },
      "text/plain": [
       "FigureCanvasNbAgg()"
      ]
     },
     "metadata": {},
     "output_type": "display_data"
    },
    {
     "data": {
      "text/plain": [
       "<matplotlib.collections.PathCollection at 0x7f6359e1da90>"
      ]
     },
     "execution_count": 103,
     "metadata": {},
     "output_type": "execute_result"
    }
   ],
   "source": [
    "X_pos = np.array(vsp_chrm1_train['AvgChrs']).reshape(-1,1)\n",
    "Y_rna = np.array(vsp_chrm1_train['AT2_18M_F10']).reshape(-1,1)\n",
    "Y_rna = Y_rna - Y_rna.mean()\n",
    "fig = plt.figure()\n",
    "ax = fig.add_subplot(111)\n",
    "ax.scatter(X_pos,Y_rna)"
   ]
  },
  {
   "cell_type": "code",
   "execution_count": 76,
   "metadata": {},
   "outputs": [
    {
     "data": {
      "text/html": [
       "<style type=\"text/css\">\n",
       ".pd{\n",
       "    font-family: \"Courier New\", Courier, monospace !important;\n",
       "    width: 100%;\n",
       "    padding: 3px;\n",
       "}\n",
       "</style>\n",
       "\n",
       "<p class=pd>\n",
       "<b>Model</b>: GP regression<br>\n",
       "<b>Objective</b>: 327.14803695281<br>\n",
       "<b>Number of Parameters</b>: 3<br>\n",
       "<b>Number of Optimization Parameters</b>: 3<br>\n",
       "<b>Updates</b>: True<br>\n",
       "</p>\n",
       "<style type=\"text/css\">\n",
       ".tg  {font-family:\"Courier New\", Courier, monospace !important;padding:2px 3px;word-break:normal;border-collapse:collapse;border-spacing:0;border-color:#DCDCDC;margin:0px auto;width:100%;}\n",
       ".tg td{font-family:\"Courier New\", Courier, monospace !important;font-weight:bold;color:#444;background-color:#F7FDFA;border-style:solid;border-width:1px;overflow:hidden;word-break:normal;border-color:#DCDCDC;}\n",
       ".tg th{font-family:\"Courier New\", Courier, monospace !important;font-weight:normal;color:#fff;background-color:#26ADE4;border-style:solid;border-width:1px;overflow:hidden;word-break:normal;border-color:#DCDCDC;}\n",
       ".tg .tg-left{font-family:\"Courier New\", Courier, monospace !important;font-weight:normal;text-align:left;}\n",
       ".tg .tg-center{font-family:\"Courier New\", Courier, monospace !important;font-weight:normal;text-align:center;}\n",
       ".tg .tg-right{font-family:\"Courier New\", Courier, monospace !important;font-weight:normal;text-align:right;}\n",
       "</style>\n",
       "<table class=\"tg\"><tr><th><b>  GP_regression.         </b></th><th><b>value</b></th><th><b>constraints</b></th><th><b>priors</b></th></tr>\n",
       "<tr><td class=tg-left>  rbf.variance           </td><td class=tg-right>  1.0</td><td class=tg-center>    +ve    </td><td class=tg-center>      </td></tr>\n",
       "<tr><td class=tg-left>  rbf.lengthscale        </td><td class=tg-right>  1.0</td><td class=tg-center>    +ve    </td><td class=tg-center>      </td></tr>\n",
       "<tr><td class=tg-left>  Gaussian_noise.variance</td><td class=tg-right>  1.0</td><td class=tg-center>    +ve    </td><td class=tg-center>      </td></tr>\n",
       "</table>"
      ],
      "text/plain": [
       "<GPy.models.gp_regression.GPRegression at 0x7f635a3f0d30>"
      ]
     },
     "execution_count": 76,
     "metadata": {},
     "output_type": "execute_result"
    }
   ],
   "source": [
    "m = GPy.models.GPRegression(X_pos, Y_rna)\n",
    "m"
   ]
  },
  {
   "cell_type": "code",
   "execution_count": 77,
   "metadata": {},
   "outputs": [
    {
     "data": {
      "application/vnd.jupyter.widget-view+json": {
       "model_id": "",
       "version_major": 2,
       "version_minor": 0
      },
      "text/plain": [
       "FigureCanvasNbAgg()"
      ]
     },
     "metadata": {},
     "output_type": "display_data"
    }
   ],
   "source": [
    "_ = m.plot()"
   ]
  },
  {
   "cell_type": "code",
   "execution_count": 78,
   "metadata": {},
   "outputs": [
    {
     "data": {
      "application/vnd.jupyter.widget-view+json": {
       "model_id": "296cfc324212472ba6365f1430bd8e6c",
       "version_major": 2,
       "version_minor": 0
      },
      "text/plain": [
       "HBox(children=(VBox(children=(IntProgress(value=0, max=1000), HTML(value=''))), Box(children=(HTML(value=''),)…"
      ]
     },
     "metadata": {},
     "output_type": "display_data"
    },
    {
     "data": {
      "text/plain": [
       "<paramz.optimization.optimization.opt_lbfgsb at 0x7f635a652a58>"
      ]
     },
     "execution_count": 78,
     "metadata": {},
     "output_type": "execute_result"
    }
   ],
   "source": [
    "m.optimize(messages=1, ipython_notebook=True)  # Messages indicates you wish to see the progress of the optimizer, needs ipywidgets to be installed"
   ]
  },
  {
   "cell_type": "code",
   "execution_count": 96,
   "metadata": {},
   "outputs": [],
   "source": [
    "m.rbf.lengthscale = 1\n",
    "m.Gaussian_noise.variance = 1\n",
    "m.rbf.variance = 1"
   ]
  },
  {
   "cell_type": "code",
   "execution_count": 97,
   "metadata": {},
   "outputs": [
    {
     "name": "stderr",
     "output_type": "stream",
     "text": [
      " /home/balchlab/anaconda3/lib/python3.7/site-packages/matplotlib/pyplot.py:514: RuntimeWarning:More than 20 figures have been opened. Figures created through the pyplot interface (`matplotlib.pyplot.figure`) are retained until explicitly closed and may consume too much memory. (To control this warning, see the rcParam `figure.max_open_warning`).\n"
     ]
    },
    {
     "data": {
      "application/vnd.jupyter.widget-view+json": {
       "model_id": "",
       "version_major": 2,
       "version_minor": 0
      },
      "text/plain": [
       "FigureCanvasNbAgg()"
      ]
     },
     "metadata": {},
     "output_type": "display_data"
    }
   ],
   "source": [
    "_ = m.plot()"
   ]
  },
  {
   "cell_type": "code",
   "execution_count": 118,
   "metadata": {},
   "outputs": [],
   "source": [
    "pos_train = np.array(vsp_chrm1_train['AvgChrs'])\n",
    "rna_train = np.array(vsp_chrm1_train['AT2_18M_F10'])\n",
    "X2 = np.stack((pos_train,rna_train),axis=1)\n",
    "Y2 = np.array(vsp_chrm1_train['WSU_Old']).reshape(-1,1)\n",
    "Y2 = Y2 - Y2.mean()"
   ]
  },
  {
   "cell_type": "code",
   "execution_count": 131,
   "metadata": {},
   "outputs": [
    {
     "data": {
      "application/vnd.jupyter.widget-view+json": {
       "model_id": "b6c17a472201404f9ecd8dcf906160b0",
       "version_major": 2,
       "version_minor": 0
      },
      "text/plain": [
       "FigureCanvasNbAgg()"
      ]
     },
     "metadata": {},
     "output_type": "display_data"
    },
    {
     "name": "stderr",
     "output_type": "stream",
     "text": [
      " /home/balchlab/anaconda3/lib/python3.7/site-packages/matplotlib/contour.py:1000: UserWarning:The following kwargs were not used by contour: 'label', 'linewidth'\n"
     ]
    }
   ],
   "source": [
    "ker = GPy.kern.RBF(input_dim=2, ARD=True)\n",
    "\n",
    "m2 = GPy.models.GPRegression(X2,Y2,ker)\n",
    "m2.optimize()\n",
    "_ = m2.plot(cmap=cmhot)"
   ]
  },
  {
   "cell_type": "code",
   "execution_count": 130,
   "metadata": {},
   "outputs": [
    {
     "data": {
      "application/vnd.jupyter.widget-view+json": {
       "model_id": "9ca112c6dd0840499e3ae3d06a7b2afd",
       "version_major": 2,
       "version_minor": 0
      },
      "text/plain": [
       "FigureCanvasNbAgg()"
      ]
     },
     "metadata": {},
     "output_type": "display_data"
    },
    {
     "data": {
      "text/plain": [
       "<mpl_toolkits.mplot3d.art3d.Path3DCollection at 0x7f635261b4a8>"
      ]
     },
     "execution_count": 130,
     "metadata": {},
     "output_type": "execute_result"
    }
   ],
   "source": [
    "fig = plt.figure()\n",
    "ax = fig.add_subplot(111, projection='3d')\n",
    "cmhot = plt.get_cmap(\"viridis\")\n",
    "ax.scatter(X2[:,0],X2[:,1],Y2.squeeze(),c=Y2.squeeze(),cmap = cmhot)"
   ]
  },
  {
   "cell_type": "code",
   "execution_count": 121,
   "metadata": {},
   "outputs": [],
   "source": [
    "x1_test = np.array(vsp_chrm1_test['AvgChrs'])\n",
    "x2_test = np.array(vsp_chrm1_test['AT2_18M_F10'])\n",
    "X2_test = np.stack((x1_test,x2_test),axis=1)\n",
    "Y2_truth = np.array(vsp_chrm1_test['WSU_Old'])\n",
    "Y2_truth = Y2_truth - Y2_truth.mean()\n",
    "mean,var = m.predict(X2_test)"
   ]
  },
  {
   "cell_type": "code",
   "execution_count": 133,
   "metadata": {},
   "outputs": [
    {
     "data": {
      "text/plain": [
       "(0.27042402456004594, 0.07583292622268965)"
      ]
     },
     "execution_count": 133,
     "metadata": {},
     "output_type": "execute_result"
    }
   ],
   "source": [
    "scipy.stats.pearsonr(Y2_truth.squeeze(),mean.squeeze())"
   ]
  },
  {
   "cell_type": "code",
   "execution_count": 126,
   "metadata": {},
   "outputs": [
    {
     "data": {
      "application/vnd.jupyter.widget-view+json": {
       "model_id": "0fc20f69358a440c97a4f449346f2909",
       "version_major": 2,
       "version_minor": 0
      },
      "text/plain": [
       "FigureCanvasNbAgg()"
      ]
     },
     "metadata": {},
     "output_type": "display_data"
    },
    {
     "data": {
      "text/plain": [
       "<mpl_toolkits.mplot3d.art3d.Path3DCollection at 0x7f635839d898>"
      ]
     },
     "execution_count": 126,
     "metadata": {},
     "output_type": "execute_result"
    }
   ],
   "source": [
    "fig = plt.figure()\n",
    "ax = fig.add_subplot(111, projection='3d')\n",
    "cmhot = plt.get_cmap(\"hot\")\n",
    "ax.scatter(X2[:,0],X2[:,1],Y2.squeeze(),c='b')\n",
    "ax.scatter(X2_test[:,0],X2_test[:,1],mean.squeeze(),c='r')\n",
    "ax.scatter(X2_test[:,0],X2_test[:,1],Y2_truth.squeeze(),c='g')"
   ]
  },
  {
   "cell_type": "code",
   "execution_count": null,
   "metadata": {},
   "outputs": [],
   "source": []
  },
  {
   "cell_type": "code",
   "execution_count": null,
   "metadata": {},
   "outputs": [],
   "source": []
  },
  {
   "cell_type": "code",
   "execution_count": 66,
   "metadata": {},
   "outputs": [],
   "source": [
    "X = np.random.uniform(0, 10, (200, 1))\n",
    "f = np.sin(.3*X) + .3*np.cos(1.3*X)\n",
    "f -= f.mean() #Mean center\n",
    "Y = f+np.random.normal(0, .1, f.shape) #adding noise\n",
    "plt.scatter(X,Y)\n",
    "plt.show()\n",
    "# fig = plt.figure()\n",
    "# fig.set_size_inches((5,5))\n",
    "# ax = fig.add_subplot(111)\n",
    "# ax.scatter(X,Y)"
   ]
  },
  {
   "cell_type": "code",
   "execution_count": 42,
   "metadata": {},
   "outputs": [
    {
     "data": {
      "text/html": [
       "<style type=\"text/css\">\n",
       ".pd{\n",
       "    font-family: \"Courier New\", Courier, monospace !important;\n",
       "    width: 100%;\n",
       "    padding: 3px;\n",
       "}\n",
       "</style>\n",
       "\n",
       "<p class=pd>\n",
       "<b>Model</b>: GP regression<br>\n",
       "<b>Objective</b>: 198.3220776281624<br>\n",
       "<b>Number of Parameters</b>: 3<br>\n",
       "<b>Number of Optimization Parameters</b>: 3<br>\n",
       "<b>Updates</b>: True<br>\n",
       "</p>\n",
       "<style type=\"text/css\">\n",
       ".tg  {font-family:\"Courier New\", Courier, monospace !important;padding:2px 3px;word-break:normal;border-collapse:collapse;border-spacing:0;border-color:#DCDCDC;margin:0px auto;width:100%;}\n",
       ".tg td{font-family:\"Courier New\", Courier, monospace !important;font-weight:bold;color:#444;background-color:#F7FDFA;border-style:solid;border-width:1px;overflow:hidden;word-break:normal;border-color:#DCDCDC;}\n",
       ".tg th{font-family:\"Courier New\", Courier, monospace !important;font-weight:normal;color:#fff;background-color:#26ADE4;border-style:solid;border-width:1px;overflow:hidden;word-break:normal;border-color:#DCDCDC;}\n",
       ".tg .tg-left{font-family:\"Courier New\", Courier, monospace !important;font-weight:normal;text-align:left;}\n",
       ".tg .tg-center{font-family:\"Courier New\", Courier, monospace !important;font-weight:normal;text-align:center;}\n",
       ".tg .tg-right{font-family:\"Courier New\", Courier, monospace !important;font-weight:normal;text-align:right;}\n",
       "</style>\n",
       "<table class=\"tg\"><tr><th><b>  GP_regression.         </b></th><th><b>value</b></th><th><b>constraints</b></th><th><b>priors</b></th></tr>\n",
       "<tr><td class=tg-left>  rbf.variance           </td><td class=tg-right>  1.0</td><td class=tg-center>    +ve    </td><td class=tg-center>      </td></tr>\n",
       "<tr><td class=tg-left>  rbf.lengthscale        </td><td class=tg-right>  1.0</td><td class=tg-center>    +ve    </td><td class=tg-center>      </td></tr>\n",
       "<tr><td class=tg-left>  Gaussian_noise.variance</td><td class=tg-right>  1.0</td><td class=tg-center>    +ve    </td><td class=tg-center>      </td></tr>\n",
       "</table>"
      ],
      "text/plain": [
       "<GPy.models.gp_regression.GPRegression at 0x7f635b481e10>"
      ]
     },
     "execution_count": 42,
     "metadata": {},
     "output_type": "execute_result"
    }
   ],
   "source": [
    "m = GPy.models.GPRegression(X, Y)\n",
    "m"
   ]
  },
  {
   "cell_type": "code",
   "execution_count": 45,
   "metadata": {},
   "outputs": [
    {
     "data": {
      "application/vnd.jupyter.widget-view+json": {
       "model_id": "",
       "version_major": 2,
       "version_minor": 0
      },
      "text/plain": [
       "FigureCanvasNbAgg()"
      ]
     },
     "metadata": {},
     "output_type": "display_data"
    }
   ],
   "source": [
    "_ = m.plot()"
   ]
  },
  {
   "cell_type": "code",
   "execution_count": 46,
   "metadata": {},
   "outputs": [
    {
     "data": {
      "application/vnd.jupyter.widget-view+json": {
       "model_id": "4022ce57de39471fb7131b4b0fce25a8",
       "version_major": 2,
       "version_minor": 0
      },
      "text/plain": [
       "HBox(children=(VBox(children=(IntProgress(value=0, max=1000), HTML(value=''))), Box(children=(HTML(value=''),)…"
      ]
     },
     "metadata": {},
     "output_type": "display_data"
    },
    {
     "data": {
      "text/plain": [
       "<paramz.optimization.optimization.opt_lbfgsb at 0x7f635b356c50>"
      ]
     },
     "execution_count": 46,
     "metadata": {},
     "output_type": "execute_result"
    }
   ],
   "source": [
    "m.optimize(messages=1, ipython_notebook=True)  # Messages indicates you wish to see the progress of the optimizer, needs ipywidgets to be installed"
   ]
  },
  {
   "cell_type": "code",
   "execution_count": 65,
   "metadata": {},
   "outputs": [
    {
     "data": {
      "application/vnd.jupyter.widget-view+json": {
       "model_id": "",
       "version_major": 2,
       "version_minor": 0
      },
      "text/plain": [
       "FigureCanvasNbAgg()"
      ]
     },
     "metadata": {},
     "output_type": "display_data"
    }
   ],
   "source": [
    "_ = m.plot()"
   ]
  },
  {
   "cell_type": "code",
   "execution_count": 49,
   "metadata": {},
   "outputs": [
    {
     "data": {
      "text/html": [
       "<style type=\"text/css\">\n",
       ".pd{\n",
       "    font-family: \"Courier New\", Courier, monospace !important;\n",
       "    width: 100%;\n",
       "    padding: 3px;\n",
       "}\n",
       "</style>\n",
       "\n",
       "<p class=pd>\n",
       "<b>Model</b>: GP regression<br>\n",
       "<b>Objective</b>: -87.4996579634237<br>\n",
       "<b>Number of Parameters</b>: 3<br>\n",
       "<b>Number of Optimization Parameters</b>: 3<br>\n",
       "<b>Updates</b>: True<br>\n",
       "</p>\n",
       "<style type=\"text/css\">\n",
       ".tg  {font-family:\"Courier New\", Courier, monospace !important;padding:2px 3px;word-break:normal;border-collapse:collapse;border-spacing:0;border-color:#DCDCDC;margin:0px auto;width:100%;}\n",
       ".tg td{font-family:\"Courier New\", Courier, monospace !important;font-weight:bold;color:#444;background-color:#F7FDFA;border-style:solid;border-width:1px;overflow:hidden;word-break:normal;border-color:#DCDCDC;}\n",
       ".tg th{font-family:\"Courier New\", Courier, monospace !important;font-weight:normal;color:#fff;background-color:#26ADE4;border-style:solid;border-width:1px;overflow:hidden;word-break:normal;border-color:#DCDCDC;}\n",
       ".tg .tg-left{font-family:\"Courier New\", Courier, monospace !important;font-weight:normal;text-align:left;}\n",
       ".tg .tg-center{font-family:\"Courier New\", Courier, monospace !important;font-weight:normal;text-align:center;}\n",
       ".tg .tg-right{font-family:\"Courier New\", Courier, monospace !important;font-weight:normal;text-align:right;}\n",
       "</style>\n",
       "<table class=\"tg\"><tr><th><b>  GP_regression.         </b></th><th><b>               value</b></th><th><b>constraints</b></th><th><b>priors</b></th></tr>\n",
       "<tr><td class=tg-left>  rbf.variance           </td><td class=tg-right> 0.14007943638325743</td><td class=tg-center>    +ve    </td><td class=tg-center>      </td></tr>\n",
       "<tr><td class=tg-left>  rbf.lengthscale        </td><td class=tg-right>                 0.1</td><td class=tg-center>    +ve    </td><td class=tg-center>      </td></tr>\n",
       "<tr><td class=tg-left>  Gaussian_noise.variance</td><td class=tg-right>0.009878844580201726</td><td class=tg-center>    +ve    </td><td class=tg-center>      </td></tr>\n",
       "</table>"
      ],
      "text/plain": [
       "<GPy.models.gp_regression.GPRegression at 0x7f635b481e10>"
      ]
     },
     "execution_count": 49,
     "metadata": {},
     "output_type": "execute_result"
    }
   ],
   "source": [
    "m.rbf.lengthscale[:] = 0.1\n",
    "m"
   ]
  },
  {
   "cell_type": "code",
   "execution_count": 50,
   "metadata": {},
   "outputs": [
    {
     "data": {
      "text/html": [
       "<style type=\"text/css\">\n",
       ".pd{\n",
       "    font-family: \"Courier New\", Courier, monospace !important;\n",
       "    width: 100%;\n",
       "    padding: 3px;\n",
       "}\n",
       "</style>\n",
       "\n",
       "<p class=pd>\n",
       "<b>Model</b>: GP regression<br>\n",
       "<b>Objective</b>: -120.24667055868026<br>\n",
       "<b>Number of Parameters</b>: 3<br>\n",
       "<b>Number of Optimization Parameters</b>: 3<br>\n",
       "<b>Updates</b>: True<br>\n",
       "</p>\n",
       "<style type=\"text/css\">\n",
       ".tg  {font-family:\"Courier New\", Courier, monospace !important;padding:2px 3px;word-break:normal;border-collapse:collapse;border-spacing:0;border-color:#DCDCDC;margin:0px auto;width:100%;}\n",
       ".tg td{font-family:\"Courier New\", Courier, monospace !important;font-weight:bold;color:#444;background-color:#F7FDFA;border-style:solid;border-width:1px;overflow:hidden;word-break:normal;border-color:#DCDCDC;}\n",
       ".tg th{font-family:\"Courier New\", Courier, monospace !important;font-weight:normal;color:#fff;background-color:#26ADE4;border-style:solid;border-width:1px;overflow:hidden;word-break:normal;border-color:#DCDCDC;}\n",
       ".tg .tg-left{font-family:\"Courier New\", Courier, monospace !important;font-weight:normal;text-align:left;}\n",
       ".tg .tg-center{font-family:\"Courier New\", Courier, monospace !important;font-weight:normal;text-align:center;}\n",
       ".tg .tg-right{font-family:\"Courier New\", Courier, monospace !important;font-weight:normal;text-align:right;}\n",
       "</style>\n",
       "<table class=\"tg\"><tr><th><b>  GP_regression.         </b></th><th><b>               value</b></th><th><b>constraints</b></th><th><b>priors</b></th></tr>\n",
       "<tr><td class=tg-left>  rbf.variance           </td><td class=tg-right>                 0.3</td><td class=tg-center>    +ve    </td><td class=tg-center>      </td></tr>\n",
       "<tr><td class=tg-left>  rbf.lengthscale        </td><td class=tg-right>                 0.3</td><td class=tg-center>    +ve    </td><td class=tg-center>      </td></tr>\n",
       "<tr><td class=tg-left>  Gaussian_noise.variance</td><td class=tg-right>0.009878844580201726</td><td class=tg-center>    +ve    </td><td class=tg-center>      </td></tr>\n",
       "</table>"
      ],
      "text/plain": [
       "<GPy.models.gp_regression.GPRegression at 0x7f635b481e10>"
      ]
     },
     "execution_count": 50,
     "metadata": {},
     "output_type": "execute_result"
    }
   ],
   "source": [
    "m.rbf[:] = 0.3\n",
    "m"
   ]
  },
  {
   "cell_type": "code",
   "execution_count": 51,
   "metadata": {},
   "outputs": [
    {
     "name": "stderr",
     "output_type": "stream",
     "text": [
      "reconstraining parameters GP_regression.rbf.lengthscale\n"
     ]
    },
    {
     "data": {
      "text/html": [
       "<style type=\"text/css\">\n",
       ".pd{\n",
       "    font-family: \"Courier New\", Courier, monospace !important;\n",
       "    width: 100%;\n",
       "    padding: 3px;\n",
       "}\n",
       "</style>\n",
       "\n",
       "<p class=pd>\n",
       "<b>Model</b>: GP regression<br>\n",
       "<b>Objective</b>: -100.57500749848828<br>\n",
       "<b>Number of Parameters</b>: 3<br>\n",
       "<b>Number of Optimization Parameters</b>: 2<br>\n",
       "<b>Updates</b>: True<br>\n",
       "</p>\n",
       "<style type=\"text/css\">\n",
       ".tg  {font-family:\"Courier New\", Courier, monospace !important;padding:2px 3px;word-break:normal;border-collapse:collapse;border-spacing:0;border-color:#DCDCDC;margin:0px auto;width:100%;}\n",
       ".tg td{font-family:\"Courier New\", Courier, monospace !important;font-weight:bold;color:#444;background-color:#F7FDFA;border-style:solid;border-width:1px;overflow:hidden;word-break:normal;border-color:#DCDCDC;}\n",
       ".tg th{font-family:\"Courier New\", Courier, monospace !important;font-weight:normal;color:#fff;background-color:#26ADE4;border-style:solid;border-width:1px;overflow:hidden;word-break:normal;border-color:#DCDCDC;}\n",
       ".tg .tg-left{font-family:\"Courier New\", Courier, monospace !important;font-weight:normal;text-align:left;}\n",
       ".tg .tg-center{font-family:\"Courier New\", Courier, monospace !important;font-weight:normal;text-align:center;}\n",
       ".tg .tg-right{font-family:\"Courier New\", Courier, monospace !important;font-weight:normal;text-align:right;}\n",
       "</style>\n",
       "<table class=\"tg\"><tr><th><b>  GP_regression.         </b></th><th><b>value</b></th><th><b>constraints</b></th><th><b>priors</b></th></tr>\n",
       "<tr><td class=tg-left>  rbf.variance           </td><td class=tg-right>  1.0</td><td class=tg-center>    +ve    </td><td class=tg-center>      </td></tr>\n",
       "<tr><td class=tg-left>  rbf.lengthscale        </td><td class=tg-right>  0.3</td><td class=tg-center>  0.1,0.5  </td><td class=tg-center>      </td></tr>\n",
       "<tr><td class=tg-left>  Gaussian_noise.variance</td><td class=tg-right> 0.01</td><td class=tg-center> +ve fixed </td><td class=tg-center>      </td></tr>\n",
       "</table>"
      ],
      "text/plain": [
       "<GPy.models.gp_regression.GPRegression at 0x7f635b481e10>"
      ]
     },
     "execution_count": 51,
     "metadata": {},
     "output_type": "execute_result"
    }
   ],
   "source": [
    "m.Gaussian_noise[:] = 0.01\n",
    "m.Gaussian_noise.fix()\n",
    "m.rbf.lengthscale.constrain_bounded(0.1, 0.5)\n",
    "m.rbf.variance[:] = 1.0\n",
    "m"
   ]
  },
  {
   "cell_type": "code",
   "execution_count": 64,
   "metadata": {},
   "outputs": [
    {
     "data": {
      "application/vnd.jupyter.widget-view+json": {
       "model_id": "6ec68c30f49d4de6b1594163953cf69d",
       "version_major": 2,
       "version_minor": 0
      },
      "text/plain": [
       "HBox(children=(VBox(children=(IntProgress(value=0, max=1000), HTML(value=''))), Box(children=(HTML(value=''),)…"
      ]
     },
     "metadata": {},
     "output_type": "display_data"
    },
    {
     "data": {
      "application/vnd.jupyter.widget-view+json": {
       "model_id": "",
       "version_major": 2,
       "version_minor": 0
      },
      "text/plain": [
       "FigureCanvasNbAgg()"
      ]
     },
     "metadata": {},
     "output_type": "display_data"
    },
    {
     "data": {
      "text/html": [
       "<style type=\"text/css\">\n",
       ".pd{\n",
       "    font-family: \"Courier New\", Courier, monospace !important;\n",
       "    width: 100%;\n",
       "    padding: 3px;\n",
       "}\n",
       "</style>\n",
       "\n",
       "<p class=pd>\n",
       "<b>Model</b>: GP regression<br>\n",
       "<b>Objective</b>: -155.63468785915674<br>\n",
       "<b>Number of Parameters</b>: 3<br>\n",
       "<b>Number of Optimization Parameters</b>: 3<br>\n",
       "<b>Updates</b>: True<br>\n",
       "</p>\n",
       "<style type=\"text/css\">\n",
       ".tg  {font-family:\"Courier New\", Courier, monospace !important;padding:2px 3px;word-break:normal;border-collapse:collapse;border-spacing:0;border-color:#DCDCDC;margin:0px auto;width:100%;}\n",
       ".tg td{font-family:\"Courier New\", Courier, monospace !important;font-weight:bold;color:#444;background-color:#F7FDFA;border-style:solid;border-width:1px;overflow:hidden;word-break:normal;border-color:#DCDCDC;}\n",
       ".tg th{font-family:\"Courier New\", Courier, monospace !important;font-weight:normal;color:#fff;background-color:#26ADE4;border-style:solid;border-width:1px;overflow:hidden;word-break:normal;border-color:#DCDCDC;}\n",
       ".tg .tg-left{font-family:\"Courier New\", Courier, monospace !important;font-weight:normal;text-align:left;}\n",
       ".tg .tg-center{font-family:\"Courier New\", Courier, monospace !important;font-weight:normal;text-align:center;}\n",
       ".tg .tg-right{font-family:\"Courier New\", Courier, monospace !important;font-weight:normal;text-align:right;}\n",
       "</style>\n",
       "<table class=\"tg\"><tr><th><b>  GP_regression.         </b></th><th><b>               value</b></th><th><b>constraints</b></th><th><b>   priors   </b></th></tr>\n",
       "<tr><td class=tg-left>  rbf.variance           </td><td class=tg-right>  0.1338898377882006</td><td class=tg-center>    +ve    </td><td class=tg-center>            </td></tr>\n",
       "<tr><td class=tg-left>  rbf.lengthscale        </td><td class=tg-right>  1.4637010518748683</td><td class=tg-center>    +ve    </td><td class=tg-center>Ga(3.2, 2.1)</td></tr>\n",
       "<tr><td class=tg-left>  Gaussian_noise.variance</td><td class=tg-right>0.009879093134513756</td><td class=tg-center>    +ve    </td><td class=tg-center>            </td></tr>\n",
       "</table>"
      ],
      "text/plain": [
       "<GPy.models.gp_regression.GPRegression at 0x7f635b481e10>"
      ]
     },
     "execution_count": 64,
     "metadata": {},
     "output_type": "execute_result"
    }
   ],
   "source": [
    "m.optimize(messages=1, ipython_notebook=True)  # Messages indicates you wish to see the progress of the optimizer\n",
    "_ = m.plot()\n",
    "m"
   ]
  },
  {
   "cell_type": "code",
   "execution_count": 58,
   "metadata": {},
   "outputs": [
    {
     "data": {
      "text/html": [
       "<style type=\"text/css\">\n",
       ".pd{\n",
       "    font-family: \"Courier New\", Courier, monospace !important;\n",
       "    width: 100%;\n",
       "    padding: 3px;\n",
       "}\n",
       "</style>\n",
       "\n",
       "<p class=pd>\n",
       "<b>Model</b>: GP regression<br>\n",
       "<b>Objective</b>: 199.37358530435023<br>\n",
       "<b>Number of Parameters</b>: 3<br>\n",
       "<b>Number of Optimization Parameters</b>: 3<br>\n",
       "<b>Updates</b>: True<br>\n",
       "</p>\n",
       "<style type=\"text/css\">\n",
       ".tg  {font-family:\"Courier New\", Courier, monospace !important;padding:2px 3px;word-break:normal;border-collapse:collapse;border-spacing:0;border-color:#DCDCDC;margin:0px auto;width:100%;}\n",
       ".tg td{font-family:\"Courier New\", Courier, monospace !important;font-weight:bold;color:#444;background-color:#F7FDFA;border-style:solid;border-width:1px;overflow:hidden;word-break:normal;border-color:#DCDCDC;}\n",
       ".tg th{font-family:\"Courier New\", Courier, monospace !important;font-weight:normal;color:#fff;background-color:#26ADE4;border-style:solid;border-width:1px;overflow:hidden;word-break:normal;border-color:#DCDCDC;}\n",
       ".tg .tg-left{font-family:\"Courier New\", Courier, monospace !important;font-weight:normal;text-align:left;}\n",
       ".tg .tg-center{font-family:\"Courier New\", Courier, monospace !important;font-weight:normal;text-align:center;}\n",
       ".tg .tg-right{font-family:\"Courier New\", Courier, monospace !important;font-weight:normal;text-align:right;}\n",
       "</style>\n",
       "<table class=\"tg\"><tr><th><b>  GP_regression.         </b></th><th><b>value</b></th><th><b>constraints</b></th><th><b>   priors   </b></th></tr>\n",
       "<tr><td class=tg-left>  rbf.variance           </td><td class=tg-right>  1.0</td><td class=tg-center>    +ve    </td><td class=tg-center>            </td></tr>\n",
       "<tr><td class=tg-left>  rbf.lengthscale        </td><td class=tg-right>  1.0</td><td class=tg-center>    +ve    </td><td class=tg-center>Ga(3.2, 2.1)</td></tr>\n",
       "<tr><td class=tg-left>  Gaussian_noise.variance</td><td class=tg-right>  1.0</td><td class=tg-center>    +ve    </td><td class=tg-center>            </td></tr>\n",
       "</table>"
      ],
      "text/plain": [
       "<GPy.models.gp_regression.GPRegression at 0x7f635b481e10>"
      ]
     },
     "execution_count": 58,
     "metadata": {},
     "output_type": "execute_result"
    }
   ],
   "source": [
    "# Reset model\n",
    "m.unconstrain()\n",
    "m[:] = 1.0\n",
    "m.constrain_positive()\n",
    "m"
   ]
  },
  {
   "cell_type": "code",
   "execution_count": 59,
   "metadata": {},
   "outputs": [
    {
     "name": "stderr",
     "output_type": "stream",
     "text": [
      " /home/balchlab/anaconda3/lib/python3.7/site-packages/matplotlib/axes/_axes.py:6521: MatplotlibDeprecationWarning:\n",
      "The 'normed' kwarg was deprecated in Matplotlib 2.1 and will be removed in 3.1. Use 'density' instead.\n",
      " /home/balchlab/anaconda3/lib/python3.7/site-packages/GPy/core/parameterization/priors.py:319: RuntimeWarning:invalid value encountered in log\n",
      "reconstraining parameters GP_regression.rbf.lengthscale\n",
      "reconstraining parameters GP_regression.rbf.lengthscale\n"
     ]
    },
    {
     "data": {
      "text/html": [
       "<style type=\"text/css\">\n",
       ".pd{\n",
       "    font-family: \"Courier New\", Courier, monospace !important;\n",
       "    width: 100%;\n",
       "    padding: 3px;\n",
       "}\n",
       "</style>\n",
       "\n",
       "<p class=pd>\n",
       "<b>Model</b>: GP regression<br>\n",
       "<b>Objective</b>: 199.37358530435023<br>\n",
       "<b>Number of Parameters</b>: 3<br>\n",
       "<b>Number of Optimization Parameters</b>: 3<br>\n",
       "<b>Updates</b>: True<br>\n",
       "</p>\n",
       "<style type=\"text/css\">\n",
       ".tg  {font-family:\"Courier New\", Courier, monospace !important;padding:2px 3px;word-break:normal;border-collapse:collapse;border-spacing:0;border-color:#DCDCDC;margin:0px auto;width:100%;}\n",
       ".tg td{font-family:\"Courier New\", Courier, monospace !important;font-weight:bold;color:#444;background-color:#F7FDFA;border-style:solid;border-width:1px;overflow:hidden;word-break:normal;border-color:#DCDCDC;}\n",
       ".tg th{font-family:\"Courier New\", Courier, monospace !important;font-weight:normal;color:#fff;background-color:#26ADE4;border-style:solid;border-width:1px;overflow:hidden;word-break:normal;border-color:#DCDCDC;}\n",
       ".tg .tg-left{font-family:\"Courier New\", Courier, monospace !important;font-weight:normal;text-align:left;}\n",
       ".tg .tg-center{font-family:\"Courier New\", Courier, monospace !important;font-weight:normal;text-align:center;}\n",
       ".tg .tg-right{font-family:\"Courier New\", Courier, monospace !important;font-weight:normal;text-align:right;}\n",
       "</style>\n",
       "<table class=\"tg\"><tr><th><b>  GP_regression.         </b></th><th><b>value</b></th><th><b>constraints</b></th><th><b>   priors   </b></th></tr>\n",
       "<tr><td class=tg-left>  rbf.variance           </td><td class=tg-right>  1.0</td><td class=tg-center>    +ve    </td><td class=tg-center>            </td></tr>\n",
       "<tr><td class=tg-left>  rbf.lengthscale        </td><td class=tg-right>  1.0</td><td class=tg-center>    +ve    </td><td class=tg-center>Ga(3.2, 2.1)</td></tr>\n",
       "<tr><td class=tg-left>  Gaussian_noise.variance</td><td class=tg-right>  1.0</td><td class=tg-center>    +ve    </td><td class=tg-center>            </td></tr>\n",
       "</table>"
      ],
      "text/plain": [
       "<GPy.models.gp_regression.GPRegression at 0x7f635b481e10>"
      ]
     },
     "execution_count": 59,
     "metadata": {},
     "output_type": "execute_result"
    }
   ],
   "source": [
    "# Make a gamma prior and set it as the prior for the lengthscale\n",
    "gamma_prior = GPy.priors.Gamma.from_EV(1.5, 0.7)\n",
    "gamma_prior.plot()\n",
    "m.rbf.lengthscale.set_prior(gamma_prior)\n",
    "m"
   ]
  },
  {
   "cell_type": "code",
   "execution_count": 56,
   "metadata": {},
   "outputs": [
    {
     "data": {
      "application/vnd.jupyter.widget-view+json": {
       "model_id": "",
       "version_major": 2,
       "version_minor": 0
      },
      "text/plain": [
       "FigureCanvasNbAgg()"
      ]
     },
     "metadata": {},
     "output_type": "display_data"
    },
    {
     "data": {
      "text/html": [
       "<style type=\"text/css\">\n",
       ".pd{\n",
       "    font-family: \"Courier New\", Courier, monospace !important;\n",
       "    width: 100%;\n",
       "    padding: 3px;\n",
       "}\n",
       "</style>\n",
       "\n",
       "<p class=pd>\n",
       "<b>Model</b>: GP regression<br>\n",
       "<b>Objective</b>: -155.63468784264765<br>\n",
       "<b>Number of Parameters</b>: 3<br>\n",
       "<b>Number of Optimization Parameters</b>: 3<br>\n",
       "<b>Updates</b>: True<br>\n",
       "</p>\n",
       "<style type=\"text/css\">\n",
       ".tg  {font-family:\"Courier New\", Courier, monospace !important;padding:2px 3px;word-break:normal;border-collapse:collapse;border-spacing:0;border-color:#DCDCDC;margin:0px auto;width:100%;}\n",
       ".tg td{font-family:\"Courier New\", Courier, monospace !important;font-weight:bold;color:#444;background-color:#F7FDFA;border-style:solid;border-width:1px;overflow:hidden;word-break:normal;border-color:#DCDCDC;}\n",
       ".tg th{font-family:\"Courier New\", Courier, monospace !important;font-weight:normal;color:#fff;background-color:#26ADE4;border-style:solid;border-width:1px;overflow:hidden;word-break:normal;border-color:#DCDCDC;}\n",
       ".tg .tg-left{font-family:\"Courier New\", Courier, monospace !important;font-weight:normal;text-align:left;}\n",
       ".tg .tg-center{font-family:\"Courier New\", Courier, monospace !important;font-weight:normal;text-align:center;}\n",
       ".tg .tg-right{font-family:\"Courier New\", Courier, monospace !important;font-weight:normal;text-align:right;}\n",
       "</style>\n",
       "<table class=\"tg\"><tr><th><b>  GP_regression.         </b></th><th><b>               value</b></th><th><b>constraints</b></th><th><b>   priors   </b></th></tr>\n",
       "<tr><td class=tg-left>  rbf.variance           </td><td class=tg-right> 0.13388982382577466</td><td class=tg-center>    +ve    </td><td class=tg-center>            </td></tr>\n",
       "<tr><td class=tg-left>  rbf.lengthscale        </td><td class=tg-right>   1.463705503747071</td><td class=tg-center>    +ve    </td><td class=tg-center>Ga(3.2, 2.1)</td></tr>\n",
       "<tr><td class=tg-left>  Gaussian_noise.variance</td><td class=tg-right>0.009879260571407967</td><td class=tg-center>    +ve    </td><td class=tg-center>            </td></tr>\n",
       "</table>"
      ],
      "text/plain": [
       "<GPy.models.gp_regression.GPRegression at 0x7f635b481e10>"
      ]
     },
     "execution_count": 56,
     "metadata": {},
     "output_type": "execute_result"
    }
   ],
   "source": [
    "m.optimize()  # Messages indicates you wish to see the progress of the optimizer\n",
    "_ = m.plot()\n",
    "m"
   ]
  }
 ],
 "metadata": {
  "kernelspec": {
   "display_name": "base",
   "language": "python",
   "name": "base"
  },
  "language_info": {
   "codemirror_mode": {
    "name": "ipython",
    "version": 3
   },
   "file_extension": ".py",
   "mimetype": "text/x-python",
   "name": "python",
   "nbconvert_exporter": "python",
   "pygments_lexer": "ipython3",
   "version": "3.7.1"
  }
 },
 "nbformat": 4,
 "nbformat_minor": 2
}
