{
 "cells": [
  {
   "cell_type": "code",
   "execution_count": 1,
   "metadata": {},
   "outputs": [],
   "source": [
    "import pandas as pd\n",
    "import numpy as np\n",
    "import matplotlib.pyplot as plt\n",
    "import scipy\n",
    "import scipy.stats"
   ]
  },
  {
   "cell_type": "code",
   "execution_count": 8,
   "metadata": {},
   "outputs": [
    {
     "data": {
      "text/html": [
       "<div>\n",
       "<style scoped>\n",
       "    .dataframe tbody tr th:only-of-type {\n",
       "        vertical-align: middle;\n",
       "    }\n",
       "\n",
       "    .dataframe tbody tr th {\n",
       "        vertical-align: top;\n",
       "    }\n",
       "\n",
       "    .dataframe thead th {\n",
       "        text-align: right;\n",
       "    }\n",
       "</style>\n",
       "<table border=\"1\" class=\"dataframe\">\n",
       "  <thead>\n",
       "    <tr style=\"text-align: right;\">\n",
       "      <th></th>\n",
       "      <th>MGI.symbol</th>\n",
       "      <th>Gene.description</th>\n",
       "      <th>AvgChrs</th>\n",
       "      <th>AT2_04M_F0</th>\n",
       "      <th>AT2_18M_F0</th>\n",
       "      <th>AT2_04M_F10</th>\n",
       "      <th>AT2_18M_F10</th>\n",
       "    </tr>\n",
       "  </thead>\n",
       "  <tbody>\n",
       "    <tr>\n",
       "      <th>0</th>\n",
       "      <td>Gnai3</td>\n",
       "      <td>guanine nucleotide binding protein (G protein)...</td>\n",
       "      <td>2.675624</td>\n",
       "      <td>7.151432</td>\n",
       "      <td>7.134999</td>\n",
       "      <td>7.301802</td>\n",
       "      <td>7.126699</td>\n",
       "    </tr>\n",
       "    <tr>\n",
       "      <th>1</th>\n",
       "      <td>Cdc45</td>\n",
       "      <td>cell division cycle 45</td>\n",
       "      <td>15.191392</td>\n",
       "      <td>1.347537</td>\n",
       "      <td>0.520289</td>\n",
       "      <td>1.752669</td>\n",
       "      <td>1.091367</td>\n",
       "    </tr>\n",
       "    <tr>\n",
       "      <th>2</th>\n",
       "      <td>Narf</td>\n",
       "      <td>nuclear prelamin A recognition factor</td>\n",
       "      <td>10.993152</td>\n",
       "      <td>4.248040</td>\n",
       "      <td>4.163523</td>\n",
       "      <td>4.249110</td>\n",
       "      <td>4.224477</td>\n",
       "    </tr>\n",
       "    <tr>\n",
       "      <th>3</th>\n",
       "      <td>Cav2</td>\n",
       "      <td>caveolin 2</td>\n",
       "      <td>5.115437</td>\n",
       "      <td>6.162987</td>\n",
       "      <td>5.953024</td>\n",
       "      <td>6.113755</td>\n",
       "      <td>5.937759</td>\n",
       "    </tr>\n",
       "    <tr>\n",
       "      <th>4</th>\n",
       "      <td>Klf6</td>\n",
       "      <td>Kruppel-like factor 6</td>\n",
       "      <td>12.048712</td>\n",
       "      <td>6.635019</td>\n",
       "      <td>6.649572</td>\n",
       "      <td>6.795728</td>\n",
       "      <td>6.626275</td>\n",
       "    </tr>\n",
       "  </tbody>\n",
       "</table>\n",
       "</div>"
      ],
      "text/plain": [
       "  MGI.symbol                                   Gene.description    AvgChrs  \\\n",
       "0      Gnai3  guanine nucleotide binding protein (G protein)...   2.675624   \n",
       "1      Cdc45                             cell division cycle 45  15.191392   \n",
       "2       Narf              nuclear prelamin A recognition factor  10.993152   \n",
       "3       Cav2                                         caveolin 2   5.115437   \n",
       "4       Klf6                              Kruppel-like factor 6  12.048712   \n",
       "\n",
       "   AT2_04M_F0  AT2_18M_F0  AT2_04M_F10  AT2_18M_F10  \n",
       "0    7.151432    7.134999     7.301802     7.126699  \n",
       "1    1.347537    0.520289     1.752669     1.091367  \n",
       "2    4.248040    4.163523     4.249110     4.224477  \n",
       "3    6.162987    5.953024     6.113755     5.937759  \n",
       "4    6.635019    6.649572     6.795728     6.626275  "
      ]
     },
     "execution_count": 8,
     "metadata": {},
     "output_type": "execute_result"
    }
   ],
   "source": [
    "all_genes = pd.read_csv('../../Data/PPG_AT2_RNAseq_covariance_input_filt_0419.tsv',sep='\\t')\n",
    "all_genes.head()"
   ]
  },
  {
   "cell_type": "code",
   "execution_count": 10,
   "metadata": {},
   "outputs": [
    {
     "name": "stdout",
     "output_type": "stream",
     "text": [
      "Numer of missing genes 916\n",
      "Numer of total genes 13118\n"
     ]
    }
   ],
   "source": [
    "#Data frame containing missing genes\n",
    "missing_genes = all_genes[all_genes['AT2_04M_F0']==0]\n",
    "print(f'Numer of missing genes {len(missing_genes)}')\n",
    "#Data frame containing genes we have\n",
    "gene_exp = all_genes[all_genes['AT2_04M_F0']!=0]\n",
    "print(f'Numer of total genes {len(gene_exp)}')"
   ]
  },
  {
   "cell_type": "code",
   "execution_count": 11,
   "metadata": {},
   "outputs": [],
   "source": [
    "sal_EnsembleIds_StartEnd = pd.read_csv('../../Data/mart_exports/PPG_WCP/mart_export_mm_gr38_82718.txt',sep='\\t',index_col=0)"
   ]
  },
  {
   "cell_type": "code",
   "execution_count": 12,
   "metadata": {},
   "outputs": [
    {
     "data": {
      "text/html": [
       "<div>\n",
       "<style scoped>\n",
       "    .dataframe tbody tr th:only-of-type {\n",
       "        vertical-align: middle;\n",
       "    }\n",
       "\n",
       "    .dataframe tbody tr th {\n",
       "        vertical-align: top;\n",
       "    }\n",
       "\n",
       "    .dataframe thead th {\n",
       "        text-align: right;\n",
       "    }\n",
       "</style>\n",
       "<table border=\"1\" class=\"dataframe\">\n",
       "  <thead>\n",
       "    <tr style=\"text-align: right;\">\n",
       "      <th></th>\n",
       "      <th>Gene start (bp)</th>\n",
       "      <th>Gene end (bp)</th>\n",
       "      <th>Chromosome/scaffold name</th>\n",
       "    </tr>\n",
       "    <tr>\n",
       "      <th>Gene stable ID</th>\n",
       "      <th></th>\n",
       "      <th></th>\n",
       "      <th></th>\n",
       "    </tr>\n",
       "  </thead>\n",
       "  <tbody>\n",
       "    <tr>\n",
       "      <th>ENSMUSG00000064372</th>\n",
       "      <td>15356</td>\n",
       "      <td>15422</td>\n",
       "      <td>MT</td>\n",
       "    </tr>\n",
       "    <tr>\n",
       "      <th>ENSMUSG00000064371</th>\n",
       "      <td>15289</td>\n",
       "      <td>15355</td>\n",
       "      <td>MT</td>\n",
       "    </tr>\n",
       "    <tr>\n",
       "      <th>ENSMUSG00000064370</th>\n",
       "      <td>14145</td>\n",
       "      <td>15288</td>\n",
       "      <td>MT</td>\n",
       "    </tr>\n",
       "    <tr>\n",
       "      <th>ENSMUSG00000064369</th>\n",
       "      <td>14071</td>\n",
       "      <td>14139</td>\n",
       "      <td>MT</td>\n",
       "    </tr>\n",
       "    <tr>\n",
       "      <th>ENSMUSG00000064368</th>\n",
       "      <td>13552</td>\n",
       "      <td>14070</td>\n",
       "      <td>MT</td>\n",
       "    </tr>\n",
       "  </tbody>\n",
       "</table>\n",
       "</div>"
      ],
      "text/plain": [
       "                    Gene start (bp)  Gene end (bp) Chromosome/scaffold name\n",
       "Gene stable ID                                                             \n",
       "ENSMUSG00000064372            15356          15422                       MT\n",
       "ENSMUSG00000064371            15289          15355                       MT\n",
       "ENSMUSG00000064370            14145          15288                       MT\n",
       "ENSMUSG00000064369            14071          14139                       MT\n",
       "ENSMUSG00000064368            13552          14070                       MT"
      ]
     },
     "execution_count": 12,
     "metadata": {},
     "output_type": "execute_result"
    }
   ],
   "source": [
    "sal_EnsembleIds_StartEnd.head()"
   ]
  },
  {
   "cell_type": "code",
   "execution_count": 13,
   "metadata": {},
   "outputs": [
    {
     "data": {
      "text/plain": [
       "{'1',\n",
       " '10',\n",
       " '11',\n",
       " '12',\n",
       " '13',\n",
       " '14',\n",
       " '15',\n",
       " '16',\n",
       " '17',\n",
       " '18',\n",
       " '19',\n",
       " '2',\n",
       " '3',\n",
       " '4',\n",
       " '5',\n",
       " '6',\n",
       " '7',\n",
       " '8',\n",
       " '9',\n",
       " 'CHR_CAST_EI_MMCHR11_CTG4',\n",
       " 'CHR_CAST_EI_MMCHR11_CTG5',\n",
       " 'CHR_MG104_PATCH',\n",
       " 'CHR_MG117_PATCH',\n",
       " 'CHR_MG132_PATCH',\n",
       " 'CHR_MG153_PATCH',\n",
       " 'CHR_MG171_PATCH',\n",
       " 'CHR_MG184_PATCH',\n",
       " 'CHR_MG190_MG3751_PATCH',\n",
       " 'CHR_MG191_PATCH',\n",
       " 'CHR_MG209_PATCH',\n",
       " 'CHR_MG3172_PATCH',\n",
       " 'CHR_MG3231_PATCH',\n",
       " 'CHR_MG3251_PATCH',\n",
       " 'CHR_MG3490_PATCH',\n",
       " 'CHR_MG3496_PATCH',\n",
       " 'CHR_MG3530_PATCH',\n",
       " 'CHR_MG3561_PATCH',\n",
       " 'CHR_MG3562_PATCH',\n",
       " 'CHR_MG3609_PATCH',\n",
       " 'CHR_MG3618_PATCH',\n",
       " 'CHR_MG3627_PATCH',\n",
       " 'CHR_MG3648_PATCH',\n",
       " 'CHR_MG3656_PATCH',\n",
       " 'CHR_MG3683_PATCH',\n",
       " 'CHR_MG3686_PATCH',\n",
       " 'CHR_MG3700_PATCH',\n",
       " 'CHR_MG3712_PATCH',\n",
       " 'CHR_MG3714_PATCH',\n",
       " 'CHR_MG3829_PATCH',\n",
       " 'CHR_MG3833_MG4220_PATCH',\n",
       " 'CHR_MG3835_PATCH',\n",
       " 'CHR_MG3836_PATCH',\n",
       " 'CHR_MG3999_PATCH',\n",
       " 'CHR_MG4136_PATCH',\n",
       " 'CHR_MG4138_PATCH',\n",
       " 'CHR_MG4151_PATCH',\n",
       " 'CHR_MG4162_PATCH',\n",
       " 'CHR_MG4180_PATCH',\n",
       " 'CHR_MG4198_PATCH',\n",
       " 'CHR_MG4200_PATCH',\n",
       " 'CHR_MG4209_PATCH',\n",
       " 'CHR_MG4211_PATCH',\n",
       " 'CHR_MG4212_PATCH',\n",
       " 'CHR_MG4213_PATCH',\n",
       " 'CHR_MG4214_PATCH',\n",
       " 'CHR_MG4222_MG3908_PATCH',\n",
       " 'CHR_MG4243_PATCH',\n",
       " 'CHR_MG4248_PATCH',\n",
       " 'CHR_MG4249_PATCH',\n",
       " 'CHR_MG4254_PATCH',\n",
       " 'CHR_MG4255_PATCH',\n",
       " 'CHR_MG4259_PATCH',\n",
       " 'CHR_MG4261_PATCH',\n",
       " 'CHR_MG4264_PATCH',\n",
       " 'CHR_MG4265_PATCH',\n",
       " 'CHR_MG4266_PATCH',\n",
       " 'CHR_MG4281_PATCH',\n",
       " 'CHR_MG4288_PATCH',\n",
       " 'CHR_MG4308_PATCH',\n",
       " 'CHR_MG4310_MG4311_PATCH',\n",
       " 'CHR_MG51_PATCH',\n",
       " 'CHR_MG65_PATCH',\n",
       " 'CHR_MG74_PATCH',\n",
       " 'CHR_MG89_PATCH',\n",
       " 'CHR_MMCHR1_CHORI29_IDD5_1',\n",
       " 'CHR_PWK_PHJ_MMCHR11_CTG1',\n",
       " 'CHR_PWK_PHJ_MMCHR11_CTG2',\n",
       " 'CHR_PWK_PHJ_MMCHR11_CTG3',\n",
       " 'CHR_WSB_EIJ_MMCHR11_CTG1',\n",
       " 'CHR_WSB_EIJ_MMCHR11_CTG2',\n",
       " 'CHR_WSB_EIJ_MMCHR11_CTG3',\n",
       " 'GL456210.1',\n",
       " 'GL456211.1',\n",
       " 'GL456212.1',\n",
       " 'GL456216.1',\n",
       " 'GL456219.1',\n",
       " 'GL456221.1',\n",
       " 'GL456233.1',\n",
       " 'GL456239.1',\n",
       " 'GL456350.1',\n",
       " 'GL456354.1',\n",
       " 'GL456372.1',\n",
       " 'GL456381.1',\n",
       " 'GL456385.1',\n",
       " 'JH584292.1',\n",
       " 'JH584293.1',\n",
       " 'JH584294.1',\n",
       " 'JH584295.1',\n",
       " 'JH584296.1',\n",
       " 'JH584297.1',\n",
       " 'JH584298.1',\n",
       " 'JH584299.1',\n",
       " 'JH584303.1',\n",
       " 'JH584304.1',\n",
       " 'MT',\n",
       " 'X',\n",
       " 'Y'}"
      ]
     },
     "execution_count": 13,
     "metadata": {},
     "output_type": "execute_result"
    }
   ],
   "source": [
    "set(sal_EnsembleIds_StartEnd['Chromosome/scaffold name'])"
   ]
  },
  {
   "cell_type": "code",
   "execution_count": 15,
   "metadata": {},
   "outputs": [],
   "source": [
    "sal_mgi_symbol = pd.read_csv('../../Data/mart_exports/PPG_WCP/mm_genes_anno.txt',sep='\\t',index_col=0)"
   ]
  },
  {
   "cell_type": "code",
   "execution_count": 16,
   "metadata": {},
   "outputs": [
    {
     "data": {
      "text/html": [
       "<div>\n",
       "<style scoped>\n",
       "    .dataframe tbody tr th:only-of-type {\n",
       "        vertical-align: middle;\n",
       "    }\n",
       "\n",
       "    .dataframe tbody tr th {\n",
       "        vertical-align: top;\n",
       "    }\n",
       "\n",
       "    .dataframe thead th {\n",
       "        text-align: right;\n",
       "    }\n",
       "</style>\n",
       "<table border=\"1\" class=\"dataframe\">\n",
       "  <thead>\n",
       "    <tr style=\"text-align: right;\">\n",
       "      <th></th>\n",
       "      <th>MGI symbol</th>\n",
       "      <th>Gene description</th>\n",
       "    </tr>\n",
       "    <tr>\n",
       "      <th>Gene stable ID</th>\n",
       "      <th></th>\n",
       "      <th></th>\n",
       "    </tr>\n",
       "  </thead>\n",
       "  <tbody>\n",
       "    <tr>\n",
       "      <th>ENSMUSG00000064336</th>\n",
       "      <td>mt-Tf</td>\n",
       "      <td>mitochondrially encoded tRNA phenylalanine [So...</td>\n",
       "    </tr>\n",
       "    <tr>\n",
       "      <th>ENSMUSG00000064337</th>\n",
       "      <td>mt-Rnr1</td>\n",
       "      <td>mitochondrially encoded 12S rRNA [Source:MGI S...</td>\n",
       "    </tr>\n",
       "    <tr>\n",
       "      <th>ENSMUSG00000064338</th>\n",
       "      <td>mt-Tv</td>\n",
       "      <td>mitochondrially encoded tRNA valine [Source:MG...</td>\n",
       "    </tr>\n",
       "    <tr>\n",
       "      <th>ENSMUSG00000064339</th>\n",
       "      <td>mt-Rnr2</td>\n",
       "      <td>mitochondrially encoded 16S rRNA [Source:MGI S...</td>\n",
       "    </tr>\n",
       "    <tr>\n",
       "      <th>ENSMUSG00000064340</th>\n",
       "      <td>mt-Tl1</td>\n",
       "      <td>mitochondrially encoded tRNA leucine 1 [Source...</td>\n",
       "    </tr>\n",
       "  </tbody>\n",
       "</table>\n",
       "</div>"
      ],
      "text/plain": [
       "                   MGI symbol  \\\n",
       "Gene stable ID                  \n",
       "ENSMUSG00000064336      mt-Tf   \n",
       "ENSMUSG00000064337    mt-Rnr1   \n",
       "ENSMUSG00000064338      mt-Tv   \n",
       "ENSMUSG00000064339    mt-Rnr2   \n",
       "ENSMUSG00000064340     mt-Tl1   \n",
       "\n",
       "                                                     Gene description  \n",
       "Gene stable ID                                                         \n",
       "ENSMUSG00000064336  mitochondrially encoded tRNA phenylalanine [So...  \n",
       "ENSMUSG00000064337  mitochondrially encoded 12S rRNA [Source:MGI S...  \n",
       "ENSMUSG00000064338  mitochondrially encoded tRNA valine [Source:MG...  \n",
       "ENSMUSG00000064339  mitochondrially encoded 16S rRNA [Source:MGI S...  \n",
       "ENSMUSG00000064340  mitochondrially encoded tRNA leucine 1 [Source...  "
      ]
     },
     "execution_count": 16,
     "metadata": {},
     "output_type": "execute_result"
    }
   ],
   "source": [
    "sal_mgi_symbol.head()"
   ]
  },
  {
   "cell_type": "code",
   "execution_count": 17,
   "metadata": {},
   "outputs": [],
   "source": [
    "combined = sal_EnsembleIds_StartEnd.join(sal_mgi_symbol,how='outer')"
   ]
  },
  {
   "cell_type": "code",
   "execution_count": 18,
   "metadata": {},
   "outputs": [
    {
     "data": {
      "text/html": [
       "<div>\n",
       "<style scoped>\n",
       "    .dataframe tbody tr th:only-of-type {\n",
       "        vertical-align: middle;\n",
       "    }\n",
       "\n",
       "    .dataframe tbody tr th {\n",
       "        vertical-align: top;\n",
       "    }\n",
       "\n",
       "    .dataframe thead th {\n",
       "        text-align: right;\n",
       "    }\n",
       "</style>\n",
       "<table border=\"1\" class=\"dataframe\">\n",
       "  <thead>\n",
       "    <tr style=\"text-align: right;\">\n",
       "      <th></th>\n",
       "      <th>MGI symbol</th>\n",
       "      <th>Gene description</th>\n",
       "    </tr>\n",
       "    <tr>\n",
       "      <th>Gene stable ID</th>\n",
       "      <th></th>\n",
       "      <th></th>\n",
       "    </tr>\n",
       "  </thead>\n",
       "  <tbody>\n",
       "    <tr>\n",
       "      <th>ENSMUSG00000000001</th>\n",
       "      <td>Gnai3</td>\n",
       "      <td>guanine nucleotide binding protein (G protein)...</td>\n",
       "    </tr>\n",
       "    <tr>\n",
       "      <th>ENSMUSG00000000003</th>\n",
       "      <td>Pbsn</td>\n",
       "      <td>probasin [Source:MGI Symbol;Acc:MGI:1860484]</td>\n",
       "    </tr>\n",
       "    <tr>\n",
       "      <th>ENSMUSG00000000028</th>\n",
       "      <td>Cdc45</td>\n",
       "      <td>cell division cycle 45 [Source:MGI Symbol;Acc:...</td>\n",
       "    </tr>\n",
       "    <tr>\n",
       "      <th>ENSMUSG00000000031</th>\n",
       "      <td>H19</td>\n",
       "      <td>H19, imprinted maternally expressed transcript...</td>\n",
       "    </tr>\n",
       "    <tr>\n",
       "      <th>ENSMUSG00000000037</th>\n",
       "      <td>Scml2</td>\n",
       "      <td>Scm polycomb group protein like 2 [Source:MGI ...</td>\n",
       "    </tr>\n",
       "  </tbody>\n",
       "</table>\n",
       "</div>"
      ],
      "text/plain": [
       "                   MGI symbol  \\\n",
       "Gene stable ID                  \n",
       "ENSMUSG00000000001      Gnai3   \n",
       "ENSMUSG00000000003       Pbsn   \n",
       "ENSMUSG00000000028      Cdc45   \n",
       "ENSMUSG00000000031        H19   \n",
       "ENSMUSG00000000037      Scml2   \n",
       "\n",
       "                                                     Gene description  \n",
       "Gene stable ID                                                         \n",
       "ENSMUSG00000000001  guanine nucleotide binding protein (G protein)...  \n",
       "ENSMUSG00000000003       probasin [Source:MGI Symbol;Acc:MGI:1860484]  \n",
       "ENSMUSG00000000028  cell division cycle 45 [Source:MGI Symbol;Acc:...  \n",
       "ENSMUSG00000000031  H19, imprinted maternally expressed transcript...  \n",
       "ENSMUSG00000000037  Scm polycomb group protein like 2 [Source:MGI ...  "
      ]
     },
     "execution_count": 18,
     "metadata": {},
     "output_type": "execute_result"
    }
   ],
   "source": [
    "sal_mgi_symbol.sort_index().head()"
   ]
  },
  {
   "cell_type": "code",
   "execution_count": 19,
   "metadata": {},
   "outputs": [
    {
     "data": {
      "text/html": [
       "<div>\n",
       "<style scoped>\n",
       "    .dataframe tbody tr th:only-of-type {\n",
       "        vertical-align: middle;\n",
       "    }\n",
       "\n",
       "    .dataframe tbody tr th {\n",
       "        vertical-align: top;\n",
       "    }\n",
       "\n",
       "    .dataframe thead th {\n",
       "        text-align: right;\n",
       "    }\n",
       "</style>\n",
       "<table border=\"1\" class=\"dataframe\">\n",
       "  <thead>\n",
       "    <tr style=\"text-align: right;\">\n",
       "      <th></th>\n",
       "      <th>Gene start (bp)</th>\n",
       "      <th>Gene end (bp)</th>\n",
       "      <th>Chromosome/scaffold name</th>\n",
       "    </tr>\n",
       "    <tr>\n",
       "      <th>Gene stable ID</th>\n",
       "      <th></th>\n",
       "      <th></th>\n",
       "      <th></th>\n",
       "    </tr>\n",
       "  </thead>\n",
       "  <tbody>\n",
       "    <tr>\n",
       "      <th>ENSMUSG00000000001</th>\n",
       "      <td>108107280</td>\n",
       "      <td>108146146</td>\n",
       "      <td>3</td>\n",
       "    </tr>\n",
       "    <tr>\n",
       "      <th>ENSMUSG00000000003</th>\n",
       "      <td>77837901</td>\n",
       "      <td>77853623</td>\n",
       "      <td>X</td>\n",
       "    </tr>\n",
       "    <tr>\n",
       "      <th>ENSMUSG00000000028</th>\n",
       "      <td>18780447</td>\n",
       "      <td>18811987</td>\n",
       "      <td>16</td>\n",
       "    </tr>\n",
       "    <tr>\n",
       "      <th>ENSMUSG00000000031</th>\n",
       "      <td>142575529</td>\n",
       "      <td>142578143</td>\n",
       "      <td>7</td>\n",
       "    </tr>\n",
       "    <tr>\n",
       "      <th>ENSMUSG00000000037</th>\n",
       "      <td>161117193</td>\n",
       "      <td>161258213</td>\n",
       "      <td>X</td>\n",
       "    </tr>\n",
       "  </tbody>\n",
       "</table>\n",
       "</div>"
      ],
      "text/plain": [
       "                    Gene start (bp)  Gene end (bp) Chromosome/scaffold name\n",
       "Gene stable ID                                                             \n",
       "ENSMUSG00000000001        108107280      108146146                        3\n",
       "ENSMUSG00000000003         77837901       77853623                        X\n",
       "ENSMUSG00000000028         18780447       18811987                       16\n",
       "ENSMUSG00000000031        142575529      142578143                        7\n",
       "ENSMUSG00000000037        161117193      161258213                        X"
      ]
     },
     "execution_count": 19,
     "metadata": {},
     "output_type": "execute_result"
    }
   ],
   "source": [
    "sal_EnsembleIds_StartEnd.sort_index().head()"
   ]
  },
  {
   "cell_type": "code",
   "execution_count": 22,
   "metadata": {},
   "outputs": [
    {
     "data": {
      "text/html": [
       "<div>\n",
       "<style scoped>\n",
       "    .dataframe tbody tr th:only-of-type {\n",
       "        vertical-align: middle;\n",
       "    }\n",
       "\n",
       "    .dataframe tbody tr th {\n",
       "        vertical-align: top;\n",
       "    }\n",
       "\n",
       "    .dataframe thead th {\n",
       "        text-align: right;\n",
       "    }\n",
       "</style>\n",
       "<table border=\"1\" class=\"dataframe\">\n",
       "  <thead>\n",
       "    <tr style=\"text-align: right;\">\n",
       "      <th></th>\n",
       "      <th>Gene start (bp)</th>\n",
       "      <th>Gene end (bp)</th>\n",
       "      <th>Chromosome/scaffold name</th>\n",
       "      <th>MGI symbol</th>\n",
       "      <th>Gene description</th>\n",
       "    </tr>\n",
       "    <tr>\n",
       "      <th>Gene stable ID</th>\n",
       "      <th></th>\n",
       "      <th></th>\n",
       "      <th></th>\n",
       "      <th></th>\n",
       "      <th></th>\n",
       "    </tr>\n",
       "  </thead>\n",
       "  <tbody>\n",
       "    <tr>\n",
       "      <th>ENSMUSG00000000001</th>\n",
       "      <td>108107280</td>\n",
       "      <td>108146146</td>\n",
       "      <td>3</td>\n",
       "      <td>Gnai3</td>\n",
       "      <td>guanine nucleotide binding protein (G protein)...</td>\n",
       "    </tr>\n",
       "    <tr>\n",
       "      <th>ENSMUSG00000000003</th>\n",
       "      <td>77837901</td>\n",
       "      <td>77853623</td>\n",
       "      <td>X</td>\n",
       "      <td>Pbsn</td>\n",
       "      <td>probasin [Source:MGI Symbol;Acc:MGI:1860484]</td>\n",
       "    </tr>\n",
       "    <tr>\n",
       "      <th>ENSMUSG00000000028</th>\n",
       "      <td>18780447</td>\n",
       "      <td>18811987</td>\n",
       "      <td>16</td>\n",
       "      <td>Cdc45</td>\n",
       "      <td>cell division cycle 45 [Source:MGI Symbol;Acc:...</td>\n",
       "    </tr>\n",
       "    <tr>\n",
       "      <th>ENSMUSG00000000031</th>\n",
       "      <td>142575529</td>\n",
       "      <td>142578143</td>\n",
       "      <td>7</td>\n",
       "      <td>H19</td>\n",
       "      <td>H19, imprinted maternally expressed transcript...</td>\n",
       "    </tr>\n",
       "    <tr>\n",
       "      <th>ENSMUSG00000000037</th>\n",
       "      <td>161117193</td>\n",
       "      <td>161258213</td>\n",
       "      <td>X</td>\n",
       "      <td>Scml2</td>\n",
       "      <td>Scm polycomb group protein like 2 [Source:MGI ...</td>\n",
       "    </tr>\n",
       "  </tbody>\n",
       "</table>\n",
       "</div>"
      ],
      "text/plain": [
       "                    Gene start (bp)  Gene end (bp) Chromosome/scaffold name  \\\n",
       "Gene stable ID                                                                \n",
       "ENSMUSG00000000001        108107280      108146146                        3   \n",
       "ENSMUSG00000000003         77837901       77853623                        X   \n",
       "ENSMUSG00000000028         18780447       18811987                       16   \n",
       "ENSMUSG00000000031        142575529      142578143                        7   \n",
       "ENSMUSG00000000037        161117193      161258213                        X   \n",
       "\n",
       "                   MGI symbol  \\\n",
       "Gene stable ID                  \n",
       "ENSMUSG00000000001      Gnai3   \n",
       "ENSMUSG00000000003       Pbsn   \n",
       "ENSMUSG00000000028      Cdc45   \n",
       "ENSMUSG00000000031        H19   \n",
       "ENSMUSG00000000037      Scml2   \n",
       "\n",
       "                                                     Gene description  \n",
       "Gene stable ID                                                         \n",
       "ENSMUSG00000000001  guanine nucleotide binding protein (G protein)...  \n",
       "ENSMUSG00000000003       probasin [Source:MGI Symbol;Acc:MGI:1860484]  \n",
       "ENSMUSG00000000028  cell division cycle 45 [Source:MGI Symbol;Acc:...  \n",
       "ENSMUSG00000000031  H19, imprinted maternally expressed transcript...  \n",
       "ENSMUSG00000000037  Scm polycomb group protein like 2 [Source:MGI ...  "
      ]
     },
     "execution_count": 22,
     "metadata": {},
     "output_type": "execute_result"
    }
   ],
   "source": [
    "combined.head()"
   ]
  },
  {
   "cell_type": "code",
   "execution_count": 23,
   "metadata": {},
   "outputs": [
    {
     "data": {
      "text/plain": [
       "55029"
      ]
     },
     "execution_count": 23,
     "metadata": {},
     "output_type": "execute_result"
    }
   ],
   "source": [
    "len(sal_EnsembleIds_StartEnd)"
   ]
  },
  {
   "cell_type": "code",
   "execution_count": 24,
   "metadata": {},
   "outputs": [
    {
     "data": {
      "text/plain": [
       "55034"
      ]
     },
     "execution_count": 24,
     "metadata": {},
     "output_type": "execute_result"
    }
   ],
   "source": [
    "len(sal_mgi_symbol)"
   ]
  },
  {
   "cell_type": "code",
   "execution_count": 25,
   "metadata": {},
   "outputs": [
    {
     "data": {
      "text/plain": [
       "Gene start (bp)                0\n",
       "Gene end (bp)                  0\n",
       "Chromosome/scaffold name       0\n",
       "MGI symbol                  1136\n",
       "Gene description            1048\n",
       "dtype: int64"
      ]
     },
     "execution_count": 25,
     "metadata": {},
     "output_type": "execute_result"
    }
   ],
   "source": [
    "combined.isnull().sum()"
   ]
  },
  {
   "cell_type": "code",
   "execution_count": 26,
   "metadata": {},
   "outputs": [
    {
     "data": {
      "text/plain": [
       "(array([17820, 20934, 20934, ..., 55032, 55033, 55033]),\n",
       " array([3, 3, 4, ..., 4, 3, 4]))"
      ]
     },
     "execution_count": 26,
     "metadata": {},
     "output_type": "execute_result"
    }
   ],
   "source": [
    "np.where(pd.isnull(combined))"
   ]
  },
  {
   "cell_type": "code",
   "execution_count": 27,
   "metadata": {},
   "outputs": [
    {
     "data": {
      "text/plain": [
       "Gene start (bp)                                                         15881\n",
       "Gene end (bp)                                                           36183\n",
       "Chromosome/scaffold name                                           GL456216.1\n",
       "MGI symbol                                                                NaN\n",
       "Gene description            dehydrogenase/reductase (SDR family) X chromos...\n",
       "Name: ENSMUSG00000063897, dtype: object"
      ]
     },
     "execution_count": 27,
     "metadata": {},
     "output_type": "execute_result"
    }
   ],
   "source": [
    "combined.iloc[17820,:]"
   ]
  },
  {
   "cell_type": "code",
   "execution_count": 28,
   "metadata": {},
   "outputs": [
    {
     "data": {
      "text/plain": [
       "Gene start (bp)                  15881\n",
       "Gene end (bp)                    36183\n",
       "Chromosome/scaffold name    GL456216.1\n",
       "Name: ENSMUSG00000063897, dtype: object"
      ]
     },
     "execution_count": 28,
     "metadata": {},
     "output_type": "execute_result"
    }
   ],
   "source": [
    "sal_EnsembleIds_StartEnd.loc['ENSMUSG00000063897']"
   ]
  },
  {
   "cell_type": "code",
   "execution_count": 29,
   "metadata": {},
   "outputs": [
    {
     "data": {
      "text/plain": [
       "MGI symbol                                                        NaN\n",
       "Gene description    dehydrogenase/reductase (SDR family) X chromos...\n",
       "Name: ENSMUSG00000063897, dtype: object"
      ]
     },
     "execution_count": 29,
     "metadata": {},
     "output_type": "execute_result"
    }
   ],
   "source": [
    "sal_mgi_symbol.loc['ENSMUSG00000063897']"
   ]
  },
  {
   "cell_type": "code",
   "execution_count": 30,
   "metadata": {},
   "outputs": [
    {
     "data": {
      "text/plain": [
       "Index(['ENSMUSG00000063897', 'ENSMUSG00000074720', 'ENSMUSG00000074720',\n",
       "       'ENSMUSG00000079190', 'ENSMUSG00000079192', 'ENSMUSG00000079192',\n",
       "       'ENSMUSG00000079222', 'ENSMUSG00000079222', 'ENSMUSG00000079764',\n",
       "       'ENSMUSG00000079764',\n",
       "       ...\n",
       "       'ENSMUSG00000116995', 'ENSMUSG00000116995', 'ENSMUSG00000116996',\n",
       "       'ENSMUSG00000116996', 'ENSMUSG00000116997', 'ENSMUSG00000116997',\n",
       "       'ENSMUSG00000116998', 'ENSMUSG00000116998', 'ENSMUSG00000116999',\n",
       "       'ENSMUSG00000116999'],\n",
       "      dtype='object', name='Gene stable ID', length=2184)"
      ]
     },
     "execution_count": 30,
     "metadata": {},
     "output_type": "execute_result"
    }
   ],
   "source": [
    "combined.iloc[np.where(pd.isnull(combined))[0]].index"
   ]
  },
  {
   "cell_type": "code",
   "execution_count": 31,
   "metadata": {},
   "outputs": [],
   "source": [
    "#combined.to_csv('Data/mart_exports/PPG_WCP/combined_mgi.tsv',sep = '\\t')"
   ]
  },
  {
   "cell_type": "code",
   "execution_count": 35,
   "metadata": {},
   "outputs": [],
   "source": [
    "removed_null = combined.drop(combined.iloc[np.where(pd.isnull(combined))[0]].index)"
   ]
  },
  {
   "cell_type": "code",
   "execution_count": 36,
   "metadata": {},
   "outputs": [
    {
     "data": {
      "text/plain": [
       "Gene start (bp)             0\n",
       "Gene end (bp)               0\n",
       "Chromosome/scaffold name    0\n",
       "MGI symbol                  0\n",
       "Gene description            0\n",
       "dtype: int64"
      ]
     },
     "execution_count": 36,
     "metadata": {},
     "output_type": "execute_result"
    }
   ],
   "source": [
    "removed_null.isnull().sum()"
   ]
  },
  {
   "cell_type": "code",
   "execution_count": 37,
   "metadata": {},
   "outputs": [
    {
     "data": {
      "text/html": [
       "<div>\n",
       "<style scoped>\n",
       "    .dataframe tbody tr th:only-of-type {\n",
       "        vertical-align: middle;\n",
       "    }\n",
       "\n",
       "    .dataframe tbody tr th {\n",
       "        vertical-align: top;\n",
       "    }\n",
       "\n",
       "    .dataframe thead th {\n",
       "        text-align: right;\n",
       "    }\n",
       "</style>\n",
       "<table border=\"1\" class=\"dataframe\">\n",
       "  <thead>\n",
       "    <tr style=\"text-align: right;\">\n",
       "      <th></th>\n",
       "      <th>MGI.symbol</th>\n",
       "      <th>Gene.description</th>\n",
       "      <th>AvgChrs</th>\n",
       "      <th>AT2_04M_F0</th>\n",
       "      <th>AT2_18M_F0</th>\n",
       "      <th>AT2_04M_F10</th>\n",
       "      <th>AT2_18M_F10</th>\n",
       "    </tr>\n",
       "  </thead>\n",
       "  <tbody>\n",
       "    <tr>\n",
       "      <th>0</th>\n",
       "      <td>Gnai3</td>\n",
       "      <td>guanine nucleotide binding protein (G protein)...</td>\n",
       "      <td>2.675624</td>\n",
       "      <td>7.151432</td>\n",
       "      <td>7.134999</td>\n",
       "      <td>7.301802</td>\n",
       "      <td>7.126699</td>\n",
       "    </tr>\n",
       "    <tr>\n",
       "      <th>1</th>\n",
       "      <td>Cdc45</td>\n",
       "      <td>cell division cycle 45</td>\n",
       "      <td>15.191392</td>\n",
       "      <td>1.347537</td>\n",
       "      <td>0.520289</td>\n",
       "      <td>1.752669</td>\n",
       "      <td>1.091367</td>\n",
       "    </tr>\n",
       "    <tr>\n",
       "      <th>2</th>\n",
       "      <td>Narf</td>\n",
       "      <td>nuclear prelamin A recognition factor</td>\n",
       "      <td>10.993152</td>\n",
       "      <td>4.248040</td>\n",
       "      <td>4.163523</td>\n",
       "      <td>4.249110</td>\n",
       "      <td>4.224477</td>\n",
       "    </tr>\n",
       "    <tr>\n",
       "      <th>3</th>\n",
       "      <td>Cav2</td>\n",
       "      <td>caveolin 2</td>\n",
       "      <td>5.115437</td>\n",
       "      <td>6.162987</td>\n",
       "      <td>5.953024</td>\n",
       "      <td>6.113755</td>\n",
       "      <td>5.937759</td>\n",
       "    </tr>\n",
       "    <tr>\n",
       "      <th>4</th>\n",
       "      <td>Klf6</td>\n",
       "      <td>Kruppel-like factor 6</td>\n",
       "      <td>12.048712</td>\n",
       "      <td>6.635019</td>\n",
       "      <td>6.649572</td>\n",
       "      <td>6.795728</td>\n",
       "      <td>6.626275</td>\n",
       "    </tr>\n",
       "  </tbody>\n",
       "</table>\n",
       "</div>"
      ],
      "text/plain": [
       "  MGI.symbol                                   Gene.description    AvgChrs  \\\n",
       "0      Gnai3  guanine nucleotide binding protein (G protein)...   2.675624   \n",
       "1      Cdc45                             cell division cycle 45  15.191392   \n",
       "2       Narf              nuclear prelamin A recognition factor  10.993152   \n",
       "3       Cav2                                         caveolin 2   5.115437   \n",
       "4       Klf6                              Kruppel-like factor 6  12.048712   \n",
       "\n",
       "   AT2_04M_F0  AT2_18M_F0  AT2_04M_F10  AT2_18M_F10  \n",
       "0    7.151432    7.134999     7.301802     7.126699  \n",
       "1    1.347537    0.520289     1.752669     1.091367  \n",
       "2    4.248040    4.163523     4.249110     4.224477  \n",
       "3    6.162987    5.953024     6.113755     5.937759  \n",
       "4    6.635019    6.649572     6.795728     6.626275  "
      ]
     },
     "execution_count": 37,
     "metadata": {},
     "output_type": "execute_result"
    }
   ],
   "source": [
    "all_genes.head()"
   ]
  },
  {
   "cell_type": "code",
   "execution_count": 38,
   "metadata": {},
   "outputs": [
    {
     "name": "stderr",
     "output_type": "stream",
     "text": [
      "/gpfs/home/dshak/anaconda3/lib/python3.7/site-packages/pandas/core/frame.py:3781: SettingWithCopyWarning: \n",
      "A value is trying to be set on a copy of a slice from a DataFrame\n",
      "\n",
      "See the caveats in the documentation: http://pandas.pydata.org/pandas-docs/stable/indexing.html#indexing-view-versus-copy\n",
      "  return super(DataFrame, self).rename(**kwargs)\n"
     ]
    },
    {
     "data": {
      "text/html": [
       "<div>\n",
       "<style scoped>\n",
       "    .dataframe tbody tr th:only-of-type {\n",
       "        vertical-align: middle;\n",
       "    }\n",
       "\n",
       "    .dataframe tbody tr th {\n",
       "        vertical-align: top;\n",
       "    }\n",
       "\n",
       "    .dataframe thead th {\n",
       "        text-align: right;\n",
       "    }\n",
       "</style>\n",
       "<table border=\"1\" class=\"dataframe\">\n",
       "  <thead>\n",
       "    <tr style=\"text-align: right;\">\n",
       "      <th></th>\n",
       "      <th>Gene start (bp)</th>\n",
       "      <th>Gene end (bp)</th>\n",
       "      <th>Chromosome/scaffold name</th>\n",
       "      <th>MGI.symbol</th>\n",
       "      <th>Gene description</th>\n",
       "    </tr>\n",
       "    <tr>\n",
       "      <th>Gene stable ID</th>\n",
       "      <th></th>\n",
       "      <th></th>\n",
       "      <th></th>\n",
       "      <th></th>\n",
       "      <th></th>\n",
       "    </tr>\n",
       "  </thead>\n",
       "  <tbody>\n",
       "    <tr>\n",
       "      <th>ENSMUSG00000000001</th>\n",
       "      <td>108107280</td>\n",
       "      <td>108146146</td>\n",
       "      <td>3</td>\n",
       "      <td>Gnai3</td>\n",
       "      <td>guanine nucleotide binding protein (G protein)...</td>\n",
       "    </tr>\n",
       "    <tr>\n",
       "      <th>ENSMUSG00000000003</th>\n",
       "      <td>77837901</td>\n",
       "      <td>77853623</td>\n",
       "      <td>X</td>\n",
       "      <td>Pbsn</td>\n",
       "      <td>probasin [Source:MGI Symbol;Acc:MGI:1860484]</td>\n",
       "    </tr>\n",
       "    <tr>\n",
       "      <th>ENSMUSG00000000028</th>\n",
       "      <td>18780447</td>\n",
       "      <td>18811987</td>\n",
       "      <td>16</td>\n",
       "      <td>Cdc45</td>\n",
       "      <td>cell division cycle 45 [Source:MGI Symbol;Acc:...</td>\n",
       "    </tr>\n",
       "    <tr>\n",
       "      <th>ENSMUSG00000000031</th>\n",
       "      <td>142575529</td>\n",
       "      <td>142578143</td>\n",
       "      <td>7</td>\n",
       "      <td>H19</td>\n",
       "      <td>H19, imprinted maternally expressed transcript...</td>\n",
       "    </tr>\n",
       "    <tr>\n",
       "      <th>ENSMUSG00000000037</th>\n",
       "      <td>161117193</td>\n",
       "      <td>161258213</td>\n",
       "      <td>X</td>\n",
       "      <td>Scml2</td>\n",
       "      <td>Scm polycomb group protein like 2 [Source:MGI ...</td>\n",
       "    </tr>\n",
       "  </tbody>\n",
       "</table>\n",
       "</div>"
      ],
      "text/plain": [
       "                    Gene start (bp)  Gene end (bp) Chromosome/scaffold name  \\\n",
       "Gene stable ID                                                                \n",
       "ENSMUSG00000000001        108107280      108146146                        3   \n",
       "ENSMUSG00000000003         77837901       77853623                        X   \n",
       "ENSMUSG00000000028         18780447       18811987                       16   \n",
       "ENSMUSG00000000031        142575529      142578143                        7   \n",
       "ENSMUSG00000000037        161117193      161258213                        X   \n",
       "\n",
       "                   MGI.symbol  \\\n",
       "Gene stable ID                  \n",
       "ENSMUSG00000000001      Gnai3   \n",
       "ENSMUSG00000000003       Pbsn   \n",
       "ENSMUSG00000000028      Cdc45   \n",
       "ENSMUSG00000000031        H19   \n",
       "ENSMUSG00000000037      Scml2   \n",
       "\n",
       "                                                     Gene description  \n",
       "Gene stable ID                                                         \n",
       "ENSMUSG00000000001  guanine nucleotide binding protein (G protein)...  \n",
       "ENSMUSG00000000003       probasin [Source:MGI Symbol;Acc:MGI:1860484]  \n",
       "ENSMUSG00000000028  cell division cycle 45 [Source:MGI Symbol;Acc:...  \n",
       "ENSMUSG00000000031  H19, imprinted maternally expressed transcript...  \n",
       "ENSMUSG00000000037  Scm polycomb group protein like 2 [Source:MGI ...  "
      ]
     },
     "execution_count": 38,
     "metadata": {},
     "output_type": "execute_result"
    }
   ],
   "source": [
    "removed_null.rename(columns={'MGI symbol':'MGI.symbol'},inplace=True)\n",
    "removed_null.head()"
   ]
  },
  {
   "cell_type": "code",
   "execution_count": 183,
   "metadata": {},
   "outputs": [
    {
     "data": {
      "text/plain": [
       "53888"
      ]
     },
     "execution_count": 183,
     "metadata": {},
     "output_type": "execute_result"
    }
   ],
   "source": [
    "len(removed_null['MGI.symbol'])"
   ]
  },
  {
   "cell_type": "code",
   "execution_count": 184,
   "metadata": {},
   "outputs": [
    {
     "data": {
      "text/plain": [
       "53160"
      ]
     },
     "execution_count": 184,
     "metadata": {},
     "output_type": "execute_result"
    }
   ],
   "source": [
    "len(set(removed_null['MGI.symbol']))"
   ]
  },
  {
   "cell_type": "code",
   "execution_count": 39,
   "metadata": {},
   "outputs": [],
   "source": [
    "intersect = pd.merge(all_genes,removed_null,on=['MGI.symbol'])"
   ]
  },
  {
   "cell_type": "code",
   "execution_count": 40,
   "metadata": {},
   "outputs": [
    {
     "data": {
      "text/plain": [
       "14034"
      ]
     },
     "execution_count": 40,
     "metadata": {},
     "output_type": "execute_result"
    }
   ],
   "source": [
    "len(all_genes)"
   ]
  },
  {
   "cell_type": "code",
   "execution_count": 41,
   "metadata": {},
   "outputs": [
    {
     "data": {
      "text/plain": [
       "14224"
      ]
     },
     "execution_count": 41,
     "metadata": {},
     "output_type": "execute_result"
    }
   ],
   "source": [
    "len(intersect)"
   ]
  },
  {
   "cell_type": "code",
   "execution_count": 42,
   "metadata": {},
   "outputs": [
    {
     "data": {
      "text/html": [
       "<div>\n",
       "<style scoped>\n",
       "    .dataframe tbody tr th:only-of-type {\n",
       "        vertical-align: middle;\n",
       "    }\n",
       "\n",
       "    .dataframe tbody tr th {\n",
       "        vertical-align: top;\n",
       "    }\n",
       "\n",
       "    .dataframe thead th {\n",
       "        text-align: right;\n",
       "    }\n",
       "</style>\n",
       "<table border=\"1\" class=\"dataframe\">\n",
       "  <thead>\n",
       "    <tr style=\"text-align: right;\">\n",
       "      <th></th>\n",
       "      <th>MGI.symbol</th>\n",
       "      <th>Gene.description</th>\n",
       "      <th>AvgChrs</th>\n",
       "      <th>AT2_04M_F0</th>\n",
       "      <th>AT2_18M_F0</th>\n",
       "      <th>AT2_04M_F10</th>\n",
       "      <th>AT2_18M_F10</th>\n",
       "      <th>Gene start (bp)</th>\n",
       "      <th>Gene end (bp)</th>\n",
       "      <th>Chromosome/scaffold name</th>\n",
       "      <th>Gene description</th>\n",
       "    </tr>\n",
       "  </thead>\n",
       "  <tbody>\n",
       "    <tr>\n",
       "      <th>0</th>\n",
       "      <td>Gnai3</td>\n",
       "      <td>guanine nucleotide binding protein (G protein)...</td>\n",
       "      <td>2.675624</td>\n",
       "      <td>7.151432</td>\n",
       "      <td>7.134999</td>\n",
       "      <td>7.301802</td>\n",
       "      <td>7.126699</td>\n",
       "      <td>108107280</td>\n",
       "      <td>108146146</td>\n",
       "      <td>3</td>\n",
       "      <td>guanine nucleotide binding protein (G protein)...</td>\n",
       "    </tr>\n",
       "    <tr>\n",
       "      <th>1</th>\n",
       "      <td>Cdc45</td>\n",
       "      <td>cell division cycle 45</td>\n",
       "      <td>15.191392</td>\n",
       "      <td>1.347537</td>\n",
       "      <td>0.520289</td>\n",
       "      <td>1.752669</td>\n",
       "      <td>1.091367</td>\n",
       "      <td>18780447</td>\n",
       "      <td>18811987</td>\n",
       "      <td>16</td>\n",
       "      <td>cell division cycle 45 [Source:MGI Symbol;Acc:...</td>\n",
       "    </tr>\n",
       "    <tr>\n",
       "      <th>2</th>\n",
       "      <td>Narf</td>\n",
       "      <td>nuclear prelamin A recognition factor</td>\n",
       "      <td>10.993152</td>\n",
       "      <td>4.248040</td>\n",
       "      <td>4.163523</td>\n",
       "      <td>4.249110</td>\n",
       "      <td>4.224477</td>\n",
       "      <td>121237253</td>\n",
       "      <td>121255856</td>\n",
       "      <td>11</td>\n",
       "      <td>nuclear prelamin A recognition factor [Source:...</td>\n",
       "    </tr>\n",
       "    <tr>\n",
       "      <th>3</th>\n",
       "      <td>Cav2</td>\n",
       "      <td>caveolin 2</td>\n",
       "      <td>5.115437</td>\n",
       "      <td>6.162987</td>\n",
       "      <td>5.953024</td>\n",
       "      <td>6.113755</td>\n",
       "      <td>5.937759</td>\n",
       "      <td>17281185</td>\n",
       "      <td>17289115</td>\n",
       "      <td>6</td>\n",
       "      <td>caveolin 2 [Source:MGI Symbol;Acc:MGI:107571]</td>\n",
       "    </tr>\n",
       "    <tr>\n",
       "      <th>4</th>\n",
       "      <td>Klf6</td>\n",
       "      <td>Kruppel-like factor 6</td>\n",
       "      <td>12.048712</td>\n",
       "      <td>6.635019</td>\n",
       "      <td>6.649572</td>\n",
       "      <td>6.795728</td>\n",
       "      <td>6.626275</td>\n",
       "      <td>5861482</td>\n",
       "      <td>5870394</td>\n",
       "      <td>13</td>\n",
       "      <td>Kruppel-like factor 6 [Source:MGI Symbol;Acc:M...</td>\n",
       "    </tr>\n",
       "  </tbody>\n",
       "</table>\n",
       "</div>"
      ],
      "text/plain": [
       "  MGI.symbol                                   Gene.description    AvgChrs  \\\n",
       "0      Gnai3  guanine nucleotide binding protein (G protein)...   2.675624   \n",
       "1      Cdc45                             cell division cycle 45  15.191392   \n",
       "2       Narf              nuclear prelamin A recognition factor  10.993152   \n",
       "3       Cav2                                         caveolin 2   5.115437   \n",
       "4       Klf6                              Kruppel-like factor 6  12.048712   \n",
       "\n",
       "   AT2_04M_F0  AT2_18M_F0  AT2_04M_F10  AT2_18M_F10  Gene start (bp)  \\\n",
       "0    7.151432    7.134999     7.301802     7.126699        108107280   \n",
       "1    1.347537    0.520289     1.752669     1.091367         18780447   \n",
       "2    4.248040    4.163523     4.249110     4.224477        121237253   \n",
       "3    6.162987    5.953024     6.113755     5.937759         17281185   \n",
       "4    6.635019    6.649572     6.795728     6.626275          5861482   \n",
       "\n",
       "   Gene end (bp) Chromosome/scaffold name  \\\n",
       "0      108146146                        3   \n",
       "1       18811987                       16   \n",
       "2      121255856                       11   \n",
       "3       17289115                        6   \n",
       "4        5870394                       13   \n",
       "\n",
       "                                    Gene description  \n",
       "0  guanine nucleotide binding protein (G protein)...  \n",
       "1  cell division cycle 45 [Source:MGI Symbol;Acc:...  \n",
       "2  nuclear prelamin A recognition factor [Source:...  \n",
       "3      caveolin 2 [Source:MGI Symbol;Acc:MGI:107571]  \n",
       "4  Kruppel-like factor 6 [Source:MGI Symbol;Acc:M...  "
      ]
     },
     "execution_count": 42,
     "metadata": {},
     "output_type": "execute_result"
    }
   ],
   "source": [
    "intersect.head()"
   ]
  },
  {
   "cell_type": "code",
   "execution_count": 43,
   "metadata": {},
   "outputs": [
    {
     "data": {
      "text/plain": [
       "14224"
      ]
     },
     "execution_count": 43,
     "metadata": {},
     "output_type": "execute_result"
    }
   ],
   "source": [
    "len(intersect['MGI.symbol'])"
   ]
  },
  {
   "cell_type": "code",
   "execution_count": 44,
   "metadata": {},
   "outputs": [],
   "source": [
    "#intersect.to_csv('Data/mart_exports/PPG_WCP/intersect.tsv',sep = '\\t')"
   ]
  },
  {
   "cell_type": "code",
   "execution_count": 45,
   "metadata": {},
   "outputs": [
    {
     "data": {
      "text/plain": [
       "14033"
      ]
     },
     "execution_count": 45,
     "metadata": {},
     "output_type": "execute_result"
    }
   ],
   "source": [
    "len(set(intersect['MGI.symbol']))"
   ]
  },
  {
   "cell_type": "code",
   "execution_count": 46,
   "metadata": {},
   "outputs": [
    {
     "data": {
      "text/plain": [
       "14034"
      ]
     },
     "execution_count": 46,
     "metadata": {},
     "output_type": "execute_result"
    }
   ],
   "source": [
    "len(set(all_genes['MGI.symbol']))"
   ]
  },
  {
   "cell_type": "code",
   "execution_count": 47,
   "metadata": {},
   "outputs": [
    {
     "data": {
      "text/plain": [
       "{nan}"
      ]
     },
     "execution_count": 47,
     "metadata": {},
     "output_type": "execute_result"
    }
   ],
   "source": [
    "set(all_genes['MGI.symbol'])-set(intersect['MGI.symbol'])"
   ]
  },
  {
   "cell_type": "code",
   "execution_count": 48,
   "metadata": {},
   "outputs": [
    {
     "data": {
      "text/plain": [
       "(array([   40,    42,   280,   392,   474,   478,   673,   675,   677,\n",
       "          705,   710,   783,  1087,  1109,  1298,  1467,  1469,  1471,\n",
       "         1651,  1653,  1655,  2542,  2544,  2552,  2709,  2724,  2726,\n",
       "         2728,  2730,  2752,  2754,  2756,  2758,  2760,  2926,  2928,\n",
       "         3122,  3130,  3148,  3208,  3210,  3297,  3523,  3525,  3527,\n",
       "         3530,  3554,  3558,  3562,  3568,  3570,  3573,  3576,  3578,\n",
       "         3584,  3620,  3622,  3624,  3647,  3829,  3831,  3908,  3912,\n",
       "         3933,  3935,  3937,  3951,  3954,  4146,  4240,  4242,  4286,\n",
       "         4555,  4838,  5090,  5109,  5113,  5203,  6187,  6244,  6246,\n",
       "         6434,  6436,  6439,  6442,  6445,  6449,  6784,  6786,  6869,\n",
       "         7052,  7310,  7426,  7509,  7885,  7890,  7968,  7981,  8022,\n",
       "         8087,  8099,  8101,  8156,  8196,  8633,  8642,  8699,  8747,\n",
       "         8754,  8762,  8844,  8909,  8912,  8927,  8963,  8968,  8976,\n",
       "         9191,  9523,  9916,  9956,  9997, 10231, 10388, 10409, 10475,\n",
       "        10547, 10549, 10687, 10714, 10741, 10771, 10945, 10949, 10956,\n",
       "        11001, 11005, 11066, 11082, 11101, 11180, 11228, 11349, 11361,\n",
       "        11407, 11410, 11591, 11653, 11852, 11854, 11892, 12053, 12145,\n",
       "        12166, 12184, 12256, 12265, 12267, 12287, 12393, 12412, 12428,\n",
       "        12442, 12461, 12542, 12543, 12544, 12623, 12638, 12671, 12799,\n",
       "        12946, 12972, 13040, 13075, 13168, 13331, 13345, 13372, 13423,\n",
       "        13487, 13508, 13611, 13680, 13727, 13977, 14022, 14089, 14099,\n",
       "        14102, 14197]),)"
      ]
     },
     "execution_count": 48,
     "metadata": {},
     "output_type": "execute_result"
    }
   ],
   "source": [
    "np.where(intersect.duplicated(subset='MGI.symbol'))"
   ]
  },
  {
   "cell_type": "code",
   "execution_count": 49,
   "metadata": {},
   "outputs": [
    {
     "data": {
      "text/plain": [
       "'Arvcf'"
      ]
     },
     "execution_count": 49,
     "metadata": {},
     "output_type": "execute_result"
    }
   ],
   "source": [
    "intersect['MGI.symbol'].iloc[40]"
   ]
  },
  {
   "cell_type": "code",
   "execution_count": 198,
   "metadata": {},
   "outputs": [
    {
     "data": {
      "text/plain": [
       "0                       3\n",
       "1                      16\n",
       "2                      11\n",
       "3                       6\n",
       "4                      13\n",
       "5                       4\n",
       "6                       9\n",
       "7                      11\n",
       "8                      17\n",
       "9                       7\n",
       "10                      X\n",
       "11                     11\n",
       "12                      5\n",
       "13                      5\n",
       "14                      7\n",
       "15                     16\n",
       "16                     16\n",
       "17                      9\n",
       "18                      9\n",
       "19                      9\n",
       "20                      6\n",
       "21                      2\n",
       "22                     11\n",
       "23                     11\n",
       "24                      7\n",
       "25                     13\n",
       "26                      X\n",
       "27                     11\n",
       "28                     11\n",
       "29                     11\n",
       "               ...       \n",
       "14194                   4\n",
       "14195                   6\n",
       "14196                   1\n",
       "14197    CHR_MG4281_PATCH\n",
       "14198                   3\n",
       "14199                  15\n",
       "14200                   3\n",
       "14201                   3\n",
       "14202                   9\n",
       "14203                  18\n",
       "14204                   1\n",
       "14205                   1\n",
       "14206                   1\n",
       "14207                   1\n",
       "14208                   3\n",
       "14209                   1\n",
       "14210                   9\n",
       "14211                   1\n",
       "14212                   1\n",
       "14213                  10\n",
       "14214                   3\n",
       "14215                   3\n",
       "14216                   3\n",
       "14217                   7\n",
       "14218                   1\n",
       "14219                   1\n",
       "14220                  18\n",
       "14221                   1\n",
       "14222                   1\n",
       "14223                   1\n",
       "Name: Chromosome/scaffold name, Length: 14224, dtype: object"
      ]
     },
     "execution_count": 198,
     "metadata": {},
     "output_type": "execute_result"
    }
   ],
   "source": [
    "intersect['Chromosome/scaffold name']"
   ]
  },
  {
   "cell_type": "code",
   "execution_count": 50,
   "metadata": {},
   "outputs": [],
   "source": [
    "chroms = [str(num) for num in range(20)] + ['X','Y']"
   ]
  },
  {
   "cell_type": "code",
   "execution_count": 51,
   "metadata": {},
   "outputs": [
    {
     "data": {
      "text/plain": [
       "['0',\n",
       " '1',\n",
       " '2',\n",
       " '3',\n",
       " '4',\n",
       " '5',\n",
       " '6',\n",
       " '7',\n",
       " '8',\n",
       " '9',\n",
       " '10',\n",
       " '11',\n",
       " '12',\n",
       " '13',\n",
       " '14',\n",
       " '15',\n",
       " '16',\n",
       " '17',\n",
       " '18',\n",
       " '19',\n",
       " 'X',\n",
       " 'Y']"
      ]
     },
     "execution_count": 51,
     "metadata": {},
     "output_type": "execute_result"
    }
   ],
   "source": [
    "chroms"
   ]
  },
  {
   "cell_type": "code",
   "execution_count": 52,
   "metadata": {},
   "outputs": [],
   "source": [
    "intersect_chroms_only=intersect[intersect['Chromosome/scaffold name'].isin(chroms)]"
   ]
  },
  {
   "cell_type": "code",
   "execution_count": 53,
   "metadata": {},
   "outputs": [
    {
     "data": {
      "text/html": [
       "<div>\n",
       "<style scoped>\n",
       "    .dataframe tbody tr th:only-of-type {\n",
       "        vertical-align: middle;\n",
       "    }\n",
       "\n",
       "    .dataframe tbody tr th {\n",
       "        vertical-align: top;\n",
       "    }\n",
       "\n",
       "    .dataframe thead th {\n",
       "        text-align: right;\n",
       "    }\n",
       "</style>\n",
       "<table border=\"1\" class=\"dataframe\">\n",
       "  <thead>\n",
       "    <tr style=\"text-align: right;\">\n",
       "      <th></th>\n",
       "      <th>MGI.symbol</th>\n",
       "      <th>Gene.description</th>\n",
       "      <th>AvgChrs</th>\n",
       "      <th>AT2_04M_F0</th>\n",
       "      <th>AT2_18M_F0</th>\n",
       "      <th>AT2_04M_F10</th>\n",
       "      <th>AT2_18M_F10</th>\n",
       "      <th>Gene start (bp)</th>\n",
       "      <th>Gene end (bp)</th>\n",
       "      <th>Chromosome/scaffold name</th>\n",
       "      <th>Gene description</th>\n",
       "    </tr>\n",
       "  </thead>\n",
       "  <tbody>\n",
       "    <tr>\n",
       "      <th>0</th>\n",
       "      <td>Gnai3</td>\n",
       "      <td>guanine nucleotide binding protein (G protein)...</td>\n",
       "      <td>2.675624</td>\n",
       "      <td>7.151432</td>\n",
       "      <td>7.134999</td>\n",
       "      <td>7.301802</td>\n",
       "      <td>7.126699</td>\n",
       "      <td>108107280</td>\n",
       "      <td>108146146</td>\n",
       "      <td>3</td>\n",
       "      <td>guanine nucleotide binding protein (G protein)...</td>\n",
       "    </tr>\n",
       "    <tr>\n",
       "      <th>1</th>\n",
       "      <td>Cdc45</td>\n",
       "      <td>cell division cycle 45</td>\n",
       "      <td>15.191392</td>\n",
       "      <td>1.347537</td>\n",
       "      <td>0.520289</td>\n",
       "      <td>1.752669</td>\n",
       "      <td>1.091367</td>\n",
       "      <td>18780447</td>\n",
       "      <td>18811987</td>\n",
       "      <td>16</td>\n",
       "      <td>cell division cycle 45 [Source:MGI Symbol;Acc:...</td>\n",
       "    </tr>\n",
       "    <tr>\n",
       "      <th>2</th>\n",
       "      <td>Narf</td>\n",
       "      <td>nuclear prelamin A recognition factor</td>\n",
       "      <td>10.993152</td>\n",
       "      <td>4.248040</td>\n",
       "      <td>4.163523</td>\n",
       "      <td>4.249110</td>\n",
       "      <td>4.224477</td>\n",
       "      <td>121237253</td>\n",
       "      <td>121255856</td>\n",
       "      <td>11</td>\n",
       "      <td>nuclear prelamin A recognition factor [Source:...</td>\n",
       "    </tr>\n",
       "    <tr>\n",
       "      <th>3</th>\n",
       "      <td>Cav2</td>\n",
       "      <td>caveolin 2</td>\n",
       "      <td>5.115437</td>\n",
       "      <td>6.162987</td>\n",
       "      <td>5.953024</td>\n",
       "      <td>6.113755</td>\n",
       "      <td>5.937759</td>\n",
       "      <td>17281185</td>\n",
       "      <td>17289115</td>\n",
       "      <td>6</td>\n",
       "      <td>caveolin 2 [Source:MGI Symbol;Acc:MGI:107571]</td>\n",
       "    </tr>\n",
       "    <tr>\n",
       "      <th>4</th>\n",
       "      <td>Klf6</td>\n",
       "      <td>Kruppel-like factor 6</td>\n",
       "      <td>12.048712</td>\n",
       "      <td>6.635019</td>\n",
       "      <td>6.649572</td>\n",
       "      <td>6.795728</td>\n",
       "      <td>6.626275</td>\n",
       "      <td>5861482</td>\n",
       "      <td>5870394</td>\n",
       "      <td>13</td>\n",
       "      <td>Kruppel-like factor 6 [Source:MGI Symbol;Acc:M...</td>\n",
       "    </tr>\n",
       "  </tbody>\n",
       "</table>\n",
       "</div>"
      ],
      "text/plain": [
       "  MGI.symbol                                   Gene.description    AvgChrs  \\\n",
       "0      Gnai3  guanine nucleotide binding protein (G protein)...   2.675624   \n",
       "1      Cdc45                             cell division cycle 45  15.191392   \n",
       "2       Narf              nuclear prelamin A recognition factor  10.993152   \n",
       "3       Cav2                                         caveolin 2   5.115437   \n",
       "4       Klf6                              Kruppel-like factor 6  12.048712   \n",
       "\n",
       "   AT2_04M_F0  AT2_18M_F0  AT2_04M_F10  AT2_18M_F10  Gene start (bp)  \\\n",
       "0    7.151432    7.134999     7.301802     7.126699        108107280   \n",
       "1    1.347537    0.520289     1.752669     1.091367         18780447   \n",
       "2    4.248040    4.163523     4.249110     4.224477        121237253   \n",
       "3    6.162987    5.953024     6.113755     5.937759         17281185   \n",
       "4    6.635019    6.649572     6.795728     6.626275          5861482   \n",
       "\n",
       "   Gene end (bp) Chromosome/scaffold name  \\\n",
       "0      108146146                        3   \n",
       "1       18811987                       16   \n",
       "2      121255856                       11   \n",
       "3       17289115                        6   \n",
       "4        5870394                       13   \n",
       "\n",
       "                                    Gene description  \n",
       "0  guanine nucleotide binding protein (G protein)...  \n",
       "1  cell division cycle 45 [Source:MGI Symbol;Acc:...  \n",
       "2  nuclear prelamin A recognition factor [Source:...  \n",
       "3      caveolin 2 [Source:MGI Symbol;Acc:MGI:107571]  \n",
       "4  Kruppel-like factor 6 [Source:MGI Symbol;Acc:M...  "
      ]
     },
     "execution_count": 53,
     "metadata": {},
     "output_type": "execute_result"
    }
   ],
   "source": [
    "intersect_chroms_only.head()"
   ]
  },
  {
   "cell_type": "code",
   "execution_count": 54,
   "metadata": {},
   "outputs": [],
   "source": [
    "#intersect_chroms_only.to_csv('Data/mart_exports/PPG_WCP/intersect_chroms_only.tsv',sep = '\\t')"
   ]
  },
  {
   "cell_type": "code",
   "execution_count": 55,
   "metadata": {},
   "outputs": [
    {
     "name": "stderr",
     "output_type": "stream",
     "text": [
      "/gpfs/home/dshak/anaconda3/lib/python3.7/site-packages/ipykernel_launcher.py:1: SettingWithCopyWarning: \n",
      "A value is trying to be set on a copy of a slice from a DataFrame.\n",
      "Try using .loc[row_indexer,col_indexer] = value instead\n",
      "\n",
      "See the caveats in the documentation: http://pandas.pydata.org/pandas-docs/stable/indexing.html#indexing-view-versus-copy\n",
      "  \"\"\"Entry point for launching an IPython kernel.\n"
     ]
    }
   ],
   "source": [
    "intersect_chroms_only['gene length'] = intersect_chroms_only['Gene end (bp)'] - intersect_chroms_only['Gene start (bp)']"
   ]
  },
  {
   "cell_type": "code",
   "execution_count": 56,
   "metadata": {},
   "outputs": [
    {
     "data": {
      "text/html": [
       "<div>\n",
       "<style scoped>\n",
       "    .dataframe tbody tr th:only-of-type {\n",
       "        vertical-align: middle;\n",
       "    }\n",
       "\n",
       "    .dataframe tbody tr th {\n",
       "        vertical-align: top;\n",
       "    }\n",
       "\n",
       "    .dataframe thead th {\n",
       "        text-align: right;\n",
       "    }\n",
       "</style>\n",
       "<table border=\"1\" class=\"dataframe\">\n",
       "  <thead>\n",
       "    <tr style=\"text-align: right;\">\n",
       "      <th></th>\n",
       "      <th>MGI.symbol</th>\n",
       "      <th>Gene.description</th>\n",
       "      <th>AvgChrs</th>\n",
       "      <th>AT2_04M_F0</th>\n",
       "      <th>AT2_18M_F0</th>\n",
       "      <th>AT2_04M_F10</th>\n",
       "      <th>AT2_18M_F10</th>\n",
       "      <th>Gene start (bp)</th>\n",
       "      <th>Gene end (bp)</th>\n",
       "      <th>Chromosome/scaffold name</th>\n",
       "      <th>Gene description</th>\n",
       "      <th>gene length</th>\n",
       "    </tr>\n",
       "  </thead>\n",
       "  <tbody>\n",
       "    <tr>\n",
       "      <th>0</th>\n",
       "      <td>Gnai3</td>\n",
       "      <td>guanine nucleotide binding protein (G protein)...</td>\n",
       "      <td>2.675624</td>\n",
       "      <td>7.151432</td>\n",
       "      <td>7.134999</td>\n",
       "      <td>7.301802</td>\n",
       "      <td>7.126699</td>\n",
       "      <td>108107280</td>\n",
       "      <td>108146146</td>\n",
       "      <td>3</td>\n",
       "      <td>guanine nucleotide binding protein (G protein)...</td>\n",
       "      <td>38866</td>\n",
       "    </tr>\n",
       "    <tr>\n",
       "      <th>1</th>\n",
       "      <td>Cdc45</td>\n",
       "      <td>cell division cycle 45</td>\n",
       "      <td>15.191392</td>\n",
       "      <td>1.347537</td>\n",
       "      <td>0.520289</td>\n",
       "      <td>1.752669</td>\n",
       "      <td>1.091367</td>\n",
       "      <td>18780447</td>\n",
       "      <td>18811987</td>\n",
       "      <td>16</td>\n",
       "      <td>cell division cycle 45 [Source:MGI Symbol;Acc:...</td>\n",
       "      <td>31540</td>\n",
       "    </tr>\n",
       "    <tr>\n",
       "      <th>2</th>\n",
       "      <td>Narf</td>\n",
       "      <td>nuclear prelamin A recognition factor</td>\n",
       "      <td>10.993152</td>\n",
       "      <td>4.248040</td>\n",
       "      <td>4.163523</td>\n",
       "      <td>4.249110</td>\n",
       "      <td>4.224477</td>\n",
       "      <td>121237253</td>\n",
       "      <td>121255856</td>\n",
       "      <td>11</td>\n",
       "      <td>nuclear prelamin A recognition factor [Source:...</td>\n",
       "      <td>18603</td>\n",
       "    </tr>\n",
       "    <tr>\n",
       "      <th>3</th>\n",
       "      <td>Cav2</td>\n",
       "      <td>caveolin 2</td>\n",
       "      <td>5.115437</td>\n",
       "      <td>6.162987</td>\n",
       "      <td>5.953024</td>\n",
       "      <td>6.113755</td>\n",
       "      <td>5.937759</td>\n",
       "      <td>17281185</td>\n",
       "      <td>17289115</td>\n",
       "      <td>6</td>\n",
       "      <td>caveolin 2 [Source:MGI Symbol;Acc:MGI:107571]</td>\n",
       "      <td>7930</td>\n",
       "    </tr>\n",
       "    <tr>\n",
       "      <th>4</th>\n",
       "      <td>Klf6</td>\n",
       "      <td>Kruppel-like factor 6</td>\n",
       "      <td>12.048712</td>\n",
       "      <td>6.635019</td>\n",
       "      <td>6.649572</td>\n",
       "      <td>6.795728</td>\n",
       "      <td>6.626275</td>\n",
       "      <td>5861482</td>\n",
       "      <td>5870394</td>\n",
       "      <td>13</td>\n",
       "      <td>Kruppel-like factor 6 [Source:MGI Symbol;Acc:M...</td>\n",
       "      <td>8912</td>\n",
       "    </tr>\n",
       "  </tbody>\n",
       "</table>\n",
       "</div>"
      ],
      "text/plain": [
       "  MGI.symbol                                   Gene.description    AvgChrs  \\\n",
       "0      Gnai3  guanine nucleotide binding protein (G protein)...   2.675624   \n",
       "1      Cdc45                             cell division cycle 45  15.191392   \n",
       "2       Narf              nuclear prelamin A recognition factor  10.993152   \n",
       "3       Cav2                                         caveolin 2   5.115437   \n",
       "4       Klf6                              Kruppel-like factor 6  12.048712   \n",
       "\n",
       "   AT2_04M_F0  AT2_18M_F0  AT2_04M_F10  AT2_18M_F10  Gene start (bp)  \\\n",
       "0    7.151432    7.134999     7.301802     7.126699        108107280   \n",
       "1    1.347537    0.520289     1.752669     1.091367         18780447   \n",
       "2    4.248040    4.163523     4.249110     4.224477        121237253   \n",
       "3    6.162987    5.953024     6.113755     5.937759         17281185   \n",
       "4    6.635019    6.649572     6.795728     6.626275          5861482   \n",
       "\n",
       "   Gene end (bp) Chromosome/scaffold name  \\\n",
       "0      108146146                        3   \n",
       "1       18811987                       16   \n",
       "2      121255856                       11   \n",
       "3       17289115                        6   \n",
       "4        5870394                       13   \n",
       "\n",
       "                                    Gene description  gene length  \n",
       "0  guanine nucleotide binding protein (G protein)...        38866  \n",
       "1  cell division cycle 45 [Source:MGI Symbol;Acc:...        31540  \n",
       "2  nuclear prelamin A recognition factor [Source:...        18603  \n",
       "3      caveolin 2 [Source:MGI Symbol;Acc:MGI:107571]         7930  \n",
       "4  Kruppel-like factor 6 [Source:MGI Symbol;Acc:M...         8912  "
      ]
     },
     "execution_count": 56,
     "metadata": {},
     "output_type": "execute_result"
    }
   ],
   "source": [
    "intersect_chroms_only.head()"
   ]
  },
  {
   "cell_type": "code",
   "execution_count": 57,
   "metadata": {},
   "outputs": [
    {
     "data": {
      "text/plain": [
       "14033"
      ]
     },
     "execution_count": 57,
     "metadata": {},
     "output_type": "execute_result"
    }
   ],
   "source": [
    "len(set(intersect_chroms_only['MGI.symbol']))"
   ]
  },
  {
   "cell_type": "code",
   "execution_count": 60,
   "metadata": {},
   "outputs": [],
   "source": [
    "chrom_info = pd.read_csv('../../Data/mart_exports/PPG_WCP/ChromosomeLength_MmG38p6.tsv',sep='\\t',index_col=0)"
   ]
  },
  {
   "cell_type": "code",
   "execution_count": 61,
   "metadata": {},
   "outputs": [],
   "source": [
    "chrom_nums = {val: num for num,val in enumerate(chrom_info.index)}"
   ]
  },
  {
   "cell_type": "code",
   "execution_count": 62,
   "metadata": {},
   "outputs": [
    {
     "data": {
      "text/plain": [
       "{'1': 195471971,\n",
       " '2': 182113224,\n",
       " '3': 160039680,\n",
       " '4': 156508116,\n",
       " '5': 151834684,\n",
       " '6': 149736546,\n",
       " '7': 145441459,\n",
       " '8': 129401213,\n",
       " '9': 124595110,\n",
       " '10': 130694993,\n",
       " '11': 122082543,\n",
       " '12': 120129022,\n",
       " '13': 120421639,\n",
       " '14': 124902244,\n",
       " '15': 104043685,\n",
       " '16': 98207768,\n",
       " '17': 94987271,\n",
       " '18': 90702639,\n",
       " '19': 61431566,\n",
       " 'X': 171031299,\n",
       " 'Y': 91744698}"
      ]
     },
     "execution_count": 62,
     "metadata": {},
     "output_type": "execute_result"
    }
   ],
   "source": [
    "dict(chrom_info['length'])"
   ]
  },
  {
   "cell_type": "code",
   "execution_count": 63,
   "metadata": {},
   "outputs": [],
   "source": [
    "chrom_lengths = dict(chrom_info['length'])"
   ]
  },
  {
   "cell_type": "code",
   "execution_count": 64,
   "metadata": {},
   "outputs": [
    {
     "data": {
      "text/html": [
       "<div>\n",
       "<style scoped>\n",
       "    .dataframe tbody tr th:only-of-type {\n",
       "        vertical-align: middle;\n",
       "    }\n",
       "\n",
       "    .dataframe tbody tr th {\n",
       "        vertical-align: top;\n",
       "    }\n",
       "\n",
       "    .dataframe thead th {\n",
       "        text-align: right;\n",
       "    }\n",
       "</style>\n",
       "<table border=\"1\" class=\"dataframe\">\n",
       "  <thead>\n",
       "    <tr style=\"text-align: right;\">\n",
       "      <th></th>\n",
       "      <th>MGI.symbol</th>\n",
       "      <th>Gene.description</th>\n",
       "      <th>AvgChrs</th>\n",
       "      <th>AT2_04M_F0</th>\n",
       "      <th>AT2_18M_F0</th>\n",
       "      <th>AT2_04M_F10</th>\n",
       "      <th>AT2_18M_F10</th>\n",
       "      <th>Gene start (bp)</th>\n",
       "      <th>Gene end (bp)</th>\n",
       "      <th>Chromosome/scaffold name</th>\n",
       "      <th>Gene description</th>\n",
       "      <th>gene length</th>\n",
       "    </tr>\n",
       "  </thead>\n",
       "  <tbody>\n",
       "    <tr>\n",
       "      <th>0</th>\n",
       "      <td>Gnai3</td>\n",
       "      <td>guanine nucleotide binding protein (G protein)...</td>\n",
       "      <td>2.675624</td>\n",
       "      <td>7.151432</td>\n",
       "      <td>7.134999</td>\n",
       "      <td>7.301802</td>\n",
       "      <td>7.126699</td>\n",
       "      <td>108107280</td>\n",
       "      <td>108146146</td>\n",
       "      <td>3</td>\n",
       "      <td>guanine nucleotide binding protein (G protein)...</td>\n",
       "      <td>38866</td>\n",
       "    </tr>\n",
       "    <tr>\n",
       "      <th>1</th>\n",
       "      <td>Cdc45</td>\n",
       "      <td>cell division cycle 45</td>\n",
       "      <td>15.191392</td>\n",
       "      <td>1.347537</td>\n",
       "      <td>0.520289</td>\n",
       "      <td>1.752669</td>\n",
       "      <td>1.091367</td>\n",
       "      <td>18780447</td>\n",
       "      <td>18811987</td>\n",
       "      <td>16</td>\n",
       "      <td>cell division cycle 45 [Source:MGI Symbol;Acc:...</td>\n",
       "      <td>31540</td>\n",
       "    </tr>\n",
       "    <tr>\n",
       "      <th>2</th>\n",
       "      <td>Narf</td>\n",
       "      <td>nuclear prelamin A recognition factor</td>\n",
       "      <td>10.993152</td>\n",
       "      <td>4.248040</td>\n",
       "      <td>4.163523</td>\n",
       "      <td>4.249110</td>\n",
       "      <td>4.224477</td>\n",
       "      <td>121237253</td>\n",
       "      <td>121255856</td>\n",
       "      <td>11</td>\n",
       "      <td>nuclear prelamin A recognition factor [Source:...</td>\n",
       "      <td>18603</td>\n",
       "    </tr>\n",
       "    <tr>\n",
       "      <th>3</th>\n",
       "      <td>Cav2</td>\n",
       "      <td>caveolin 2</td>\n",
       "      <td>5.115437</td>\n",
       "      <td>6.162987</td>\n",
       "      <td>5.953024</td>\n",
       "      <td>6.113755</td>\n",
       "      <td>5.937759</td>\n",
       "      <td>17281185</td>\n",
       "      <td>17289115</td>\n",
       "      <td>6</td>\n",
       "      <td>caveolin 2 [Source:MGI Symbol;Acc:MGI:107571]</td>\n",
       "      <td>7930</td>\n",
       "    </tr>\n",
       "    <tr>\n",
       "      <th>4</th>\n",
       "      <td>Klf6</td>\n",
       "      <td>Kruppel-like factor 6</td>\n",
       "      <td>12.048712</td>\n",
       "      <td>6.635019</td>\n",
       "      <td>6.649572</td>\n",
       "      <td>6.795728</td>\n",
       "      <td>6.626275</td>\n",
       "      <td>5861482</td>\n",
       "      <td>5870394</td>\n",
       "      <td>13</td>\n",
       "      <td>Kruppel-like factor 6 [Source:MGI Symbol;Acc:M...</td>\n",
       "      <td>8912</td>\n",
       "    </tr>\n",
       "  </tbody>\n",
       "</table>\n",
       "</div>"
      ],
      "text/plain": [
       "  MGI.symbol                                   Gene.description    AvgChrs  \\\n",
       "0      Gnai3  guanine nucleotide binding protein (G protein)...   2.675624   \n",
       "1      Cdc45                             cell division cycle 45  15.191392   \n",
       "2       Narf              nuclear prelamin A recognition factor  10.993152   \n",
       "3       Cav2                                         caveolin 2   5.115437   \n",
       "4       Klf6                              Kruppel-like factor 6  12.048712   \n",
       "\n",
       "   AT2_04M_F0  AT2_18M_F0  AT2_04M_F10  AT2_18M_F10  Gene start (bp)  \\\n",
       "0    7.151432    7.134999     7.301802     7.126699        108107280   \n",
       "1    1.347537    0.520289     1.752669     1.091367         18780447   \n",
       "2    4.248040    4.163523     4.249110     4.224477        121237253   \n",
       "3    6.162987    5.953024     6.113755     5.937759         17281185   \n",
       "4    6.635019    6.649572     6.795728     6.626275          5861482   \n",
       "\n",
       "   Gene end (bp) Chromosome/scaffold name  \\\n",
       "0      108146146                        3   \n",
       "1       18811987                       16   \n",
       "2      121255856                       11   \n",
       "3       17289115                        6   \n",
       "4        5870394                       13   \n",
       "\n",
       "                                    Gene description  gene length  \n",
       "0  guanine nucleotide binding protein (G protein)...        38866  \n",
       "1  cell division cycle 45 [Source:MGI Symbol;Acc:...        31540  \n",
       "2  nuclear prelamin A recognition factor [Source:...        18603  \n",
       "3      caveolin 2 [Source:MGI Symbol;Acc:MGI:107571]         7930  \n",
       "4  Kruppel-like factor 6 [Source:MGI Symbol;Acc:M...         8912  "
      ]
     },
     "execution_count": 64,
     "metadata": {},
     "output_type": "execute_result"
    }
   ],
   "source": [
    "intersect_chroms_only.head()"
   ]
  },
  {
   "cell_type": "code",
   "execution_count": 65,
   "metadata": {},
   "outputs": [
    {
     "data": {
      "text/plain": [
       "14034"
      ]
     },
     "execution_count": 65,
     "metadata": {},
     "output_type": "execute_result"
    }
   ],
   "source": [
    "len(all_genes)"
   ]
  },
  {
   "cell_type": "code",
   "execution_count": 156,
   "metadata": {},
   "outputs": [
    {
     "data": {
      "text/plain": [
       "14033"
      ]
     },
     "execution_count": 156,
     "metadata": {},
     "output_type": "execute_result"
    }
   ],
   "source": [
    "len(intersect_chroms_only)"
   ]
  },
  {
   "cell_type": "code",
   "execution_count": 48,
   "metadata": {},
   "outputs": [
    {
     "data": {
      "text/plain": [
       "0.009785720805359237"
      ]
     },
     "execution_count": 48,
     "metadata": {},
     "output_type": "execute_result"
    }
   ],
   "source": [
    "897788/91744698\n"
   ]
  },
  {
   "cell_type": "code",
   "execution_count": 49,
   "metadata": {},
   "outputs": [
    {
     "data": {
      "text/plain": [
       "0.010428787939331382"
      ]
     },
     "execution_count": 49,
     "metadata": {},
     "output_type": "execute_result"
    }
   ],
   "source": [
    "956786/91744698"
   ]
  },
  {
   "cell_type": "code",
   "execution_count": 50,
   "metadata": {},
   "outputs": [
    {
     "data": {
      "text/plain": [
       "0.01010725437234531"
      ]
     },
     "execution_count": 50,
     "metadata": {},
     "output_type": "execute_result"
    }
   ],
   "source": [
    "((956786+897788)/2)/91744698"
   ]
  },
  {
   "cell_type": "code",
   "execution_count": 51,
   "metadata": {},
   "outputs": [
    {
     "name": "stdout",
     "output_type": "stream",
     "text": [
      "{'1': 195471971, '2': 182113224, '3': 160039680, '4': 156508116, '5': 151834684, '6': 149736546, '7': 145441459, '8': 129401213, '9': 124595110, '10': 130694993, '11': 122082543, '12': 120129022, '13': 120421639, '14': 124902244, '15': 104043685, '16': 98207768, '17': 94987271, '18': 90702639, '19': 61431566, 'X': 171031299, 'Y': 91744698}\n"
     ]
    }
   ],
   "source": [
    "print(chrom_lengths)"
   ]
  },
  {
   "cell_type": "code",
   "execution_count": 52,
   "metadata": {},
   "outputs": [
    {
     "name": "stdout",
     "output_type": "stream",
     "text": [
      "{'1': 0, '2': 1, '3': 2, '4': 3, '5': 4, '6': 5, '7': 6, '8': 7, '9': 8, '10': 9, '11': 10, '12': 11, '13': 12, '14': 13, '15': 14, '16': 15, '17': 16, '18': 17, '19': 18, 'X': 19, 'Y': 20}\n"
     ]
    }
   ],
   "source": [
    "print(chrom_nums)"
   ]
  },
  {
   "cell_type": "code",
   "execution_count": 53,
   "metadata": {},
   "outputs": [
    {
     "data": {
      "text/html": [
       "<div>\n",
       "<style scoped>\n",
       "    .dataframe tbody tr th:only-of-type {\n",
       "        vertical-align: middle;\n",
       "    }\n",
       "\n",
       "    .dataframe tbody tr th {\n",
       "        vertical-align: top;\n",
       "    }\n",
       "\n",
       "    .dataframe thead th {\n",
       "        text-align: right;\n",
       "    }\n",
       "</style>\n",
       "<table border=\"1\" class=\"dataframe\">\n",
       "  <thead>\n",
       "    <tr style=\"text-align: right;\">\n",
       "      <th></th>\n",
       "      <th>MGI.symbol</th>\n",
       "      <th>AvgChrs</th>\n",
       "      <th>AT2_04M_F0</th>\n",
       "      <th>Gene start (bp)</th>\n",
       "      <th>Gene end (bp)</th>\n",
       "      <th>Chromosome/scaffold name</th>\n",
       "      <th>Gene description</th>\n",
       "    </tr>\n",
       "  </thead>\n",
       "  <tbody>\n",
       "    <tr>\n",
       "      <th>11037</th>\n",
       "      <td>Kdm5d</td>\n",
       "      <td>20.010107</td>\n",
       "      <td>4.039406</td>\n",
       "      <td>897788</td>\n",
       "      <td>956786</td>\n",
       "      <td>Y</td>\n",
       "      <td>lysine (K)-specific demethylase 5D [Source:MGI...</td>\n",
       "    </tr>\n",
       "    <tr>\n",
       "      <th>11887</th>\n",
       "      <td>Uty</td>\n",
       "      <td>20.012767</td>\n",
       "      <td>4.300327</td>\n",
       "      <td>1096861</td>\n",
       "      <td>1245759</td>\n",
       "      <td>Y</td>\n",
       "      <td>ubiquitously transcribed tetratricopeptide rep...</td>\n",
       "    </tr>\n",
       "    <tr>\n",
       "      <th>11925</th>\n",
       "      <td>Ddx3y</td>\n",
       "      <td>20.013883</td>\n",
       "      <td>5.809440</td>\n",
       "      <td>1260771</td>\n",
       "      <td>1286629</td>\n",
       "      <td>Y</td>\n",
       "      <td>DEAD (Asp-Glu-Ala-Asp) box polypeptide 3, Y-li...</td>\n",
       "    </tr>\n",
       "    <tr>\n",
       "      <th>11926</th>\n",
       "      <td>Eif2s3y</td>\n",
       "      <td>20.011114</td>\n",
       "      <td>4.977290</td>\n",
       "      <td>1010543</td>\n",
       "      <td>1028847</td>\n",
       "      <td>Y</td>\n",
       "      <td>eukaryotic translation initiation factor 2, su...</td>\n",
       "    </tr>\n",
       "    <tr>\n",
       "      <th>13555</th>\n",
       "      <td>Gm47283</td>\n",
       "      <td>20.989710</td>\n",
       "      <td>3.394478</td>\n",
       "      <td>90784738</td>\n",
       "      <td>90816464</td>\n",
       "      <td>Y</td>\n",
       "      <td>predicted gene, 47283 [Source:MGI Symbol;Acc:M...</td>\n",
       "    </tr>\n",
       "    <tr>\n",
       "      <th>14124</th>\n",
       "      <td>Gm37158</td>\n",
       "      <td>20.181963</td>\n",
       "      <td>3.334389</td>\n",
       "      <td>16691330</td>\n",
       "      <td>16697033</td>\n",
       "      <td>Y</td>\n",
       "      <td>predicted gene, 37158 [Source:MGI Symbol;Acc:M...</td>\n",
       "    </tr>\n",
       "  </tbody>\n",
       "</table>\n",
       "</div>"
      ],
      "text/plain": [
       "      MGI.symbol    AvgChrs  AT2_04M_F0  Gene start (bp)  Gene end (bp)  \\\n",
       "11037      Kdm5d  20.010107    4.039406           897788         956786   \n",
       "11887        Uty  20.012767    4.300327          1096861        1245759   \n",
       "11925      Ddx3y  20.013883    5.809440          1260771        1286629   \n",
       "11926    Eif2s3y  20.011114    4.977290          1010543        1028847   \n",
       "13555    Gm47283  20.989710    3.394478         90784738       90816464   \n",
       "14124    Gm37158  20.181963    3.334389         16691330       16697033   \n",
       "\n",
       "      Chromosome/scaffold name  \\\n",
       "11037                        Y   \n",
       "11887                        Y   \n",
       "11925                        Y   \n",
       "11926                        Y   \n",
       "13555                        Y   \n",
       "14124                        Y   \n",
       "\n",
       "                                        Gene description  \n",
       "11037  lysine (K)-specific demethylase 5D [Source:MGI...  \n",
       "11887  ubiquitously transcribed tetratricopeptide rep...  \n",
       "11925  DEAD (Asp-Glu-Ala-Asp) box polypeptide 3, Y-li...  \n",
       "11926  eukaryotic translation initiation factor 2, su...  \n",
       "13555  predicted gene, 47283 [Source:MGI Symbol;Acc:M...  \n",
       "14124  predicted gene, 37158 [Source:MGI Symbol;Acc:M...  "
      ]
     },
     "execution_count": 53,
     "metadata": {},
     "output_type": "execute_result"
    }
   ],
   "source": [
    "intersect_chroms_only[intersect_chroms_only['Chromosome/scaffold name']=='Y']"
   ]
  },
  {
   "cell_type": "code",
   "execution_count": 54,
   "metadata": {},
   "outputs": [
    {
     "data": {
      "text/html": [
       "<div>\n",
       "<style scoped>\n",
       "    .dataframe tbody tr th:only-of-type {\n",
       "        vertical-align: middle;\n",
       "    }\n",
       "\n",
       "    .dataframe tbody tr th {\n",
       "        vertical-align: top;\n",
       "    }\n",
       "\n",
       "    .dataframe thead th {\n",
       "        text-align: right;\n",
       "    }\n",
       "</style>\n",
       "<table border=\"1\" class=\"dataframe\">\n",
       "  <thead>\n",
       "    <tr style=\"text-align: right;\">\n",
       "      <th></th>\n",
       "      <th>MGI.symbol</th>\n",
       "      <th>AvgChrs</th>\n",
       "      <th>AT2_04M_F0</th>\n",
       "      <th>Gene start (bp)</th>\n",
       "      <th>Gene end (bp)</th>\n",
       "      <th>Chromosome/scaffold name</th>\n",
       "      <th>Gene description</th>\n",
       "    </tr>\n",
       "  </thead>\n",
       "  <tbody>\n",
       "    <tr>\n",
       "      <th>0</th>\n",
       "      <td>Gnai3</td>\n",
       "      <td>2.675624</td>\n",
       "      <td>7.151432</td>\n",
       "      <td>108107280</td>\n",
       "      <td>108146146</td>\n",
       "      <td>3</td>\n",
       "      <td>guanine nucleotide binding protein (G protein)...</td>\n",
       "    </tr>\n",
       "    <tr>\n",
       "      <th>1</th>\n",
       "      <td>Cdc45</td>\n",
       "      <td>15.191392</td>\n",
       "      <td>1.347537</td>\n",
       "      <td>18780447</td>\n",
       "      <td>18811987</td>\n",
       "      <td>16</td>\n",
       "      <td>cell division cycle 45 [Source:MGI Symbol;Acc:...</td>\n",
       "    </tr>\n",
       "    <tr>\n",
       "      <th>2</th>\n",
       "      <td>Narf</td>\n",
       "      <td>10.993152</td>\n",
       "      <td>4.248040</td>\n",
       "      <td>121237253</td>\n",
       "      <td>121255856</td>\n",
       "      <td>11</td>\n",
       "      <td>nuclear prelamin A recognition factor [Source:...</td>\n",
       "    </tr>\n",
       "    <tr>\n",
       "      <th>3</th>\n",
       "      <td>Cav2</td>\n",
       "      <td>5.115437</td>\n",
       "      <td>6.162987</td>\n",
       "      <td>17281185</td>\n",
       "      <td>17289115</td>\n",
       "      <td>6</td>\n",
       "      <td>caveolin 2 [Source:MGI Symbol;Acc:MGI:107571]</td>\n",
       "    </tr>\n",
       "    <tr>\n",
       "      <th>4</th>\n",
       "      <td>Klf6</td>\n",
       "      <td>12.048712</td>\n",
       "      <td>6.635019</td>\n",
       "      <td>5861482</td>\n",
       "      <td>5870394</td>\n",
       "      <td>13</td>\n",
       "      <td>Kruppel-like factor 6 [Source:MGI Symbol;Acc:M...</td>\n",
       "    </tr>\n",
       "  </tbody>\n",
       "</table>\n",
       "</div>"
      ],
      "text/plain": [
       "  MGI.symbol    AvgChrs  AT2_04M_F0  Gene start (bp)  Gene end (bp)  \\\n",
       "0      Gnai3   2.675624    7.151432        108107280      108146146   \n",
       "1      Cdc45  15.191392    1.347537         18780447       18811987   \n",
       "2       Narf  10.993152    4.248040        121237253      121255856   \n",
       "3       Cav2   5.115437    6.162987         17281185       17289115   \n",
       "4       Klf6  12.048712    6.635019          5861482        5870394   \n",
       "\n",
       "  Chromosome/scaffold name                                   Gene description  \n",
       "0                        3  guanine nucleotide binding protein (G protein)...  \n",
       "1                       16  cell division cycle 45 [Source:MGI Symbol;Acc:...  \n",
       "2                       11  nuclear prelamin A recognition factor [Source:...  \n",
       "3                        6      caveolin 2 [Source:MGI Symbol;Acc:MGI:107571]  \n",
       "4                       13  Kruppel-like factor 6 [Source:MGI Symbol;Acc:M...  "
      ]
     },
     "execution_count": 54,
     "metadata": {},
     "output_type": "execute_result"
    }
   ],
   "source": [
    "intersect_chroms_only.head()"
   ]
  },
  {
   "cell_type": "code",
   "execution_count": null,
   "metadata": {},
   "outputs": [],
   "source": []
  },
  {
   "cell_type": "code",
   "execution_count": 70,
   "metadata": {},
   "outputs": [],
   "source": [
    "norm_pos = intersect_chroms_only['Chromosome/scaffold name'].map(chrom_nums) + ((intersect_chroms_only['Gene end (bp)'] + intersect_chroms_only['Gene start (bp)'])/2/ intersect_chroms_only['Chromosome/scaffold name'].map(chrom_lengths))"
   ]
  },
  {
   "cell_type": "code",
   "execution_count": 73,
   "metadata": {},
   "outputs": [
    {
     "data": {
      "text/plain": [
       "0     2.675624\n",
       "1    15.191392\n",
       "2    10.993152\n",
       "3     5.115437\n",
       "4    12.048712\n",
       "dtype: float64"
      ]
     },
     "execution_count": 73,
     "metadata": {},
     "output_type": "execute_result"
    }
   ],
   "source": [
    "norm_pos.head()"
   ]
  },
  {
   "cell_type": "code",
   "execution_count": 74,
   "metadata": {},
   "outputs": [
    {
     "data": {
      "text/plain": [
       "0     2.675624\n",
       "1    15.191392\n",
       "2    10.993152\n",
       "3     5.115437\n",
       "4    12.048712\n",
       "Name: AvgChrs, dtype: float64"
      ]
     },
     "execution_count": 74,
     "metadata": {},
     "output_type": "execute_result"
    }
   ],
   "source": [
    "intersect_chroms_only['AvgChrs'].head()"
   ]
  },
  {
   "cell_type": "code",
   "execution_count": 56,
   "metadata": {},
   "outputs": [
    {
     "data": {
      "text/plain": [
       "4.6681716717955624e-05"
      ]
     },
     "execution_count": 56,
     "metadata": {},
     "output_type": "execute_result"
    }
   ],
   "source": [
    "max(intersect_chroms_only['AvgChrs']-norm_pos)"
   ]
  },
  {
   "cell_type": "code",
   "execution_count": 57,
   "metadata": {},
   "outputs": [
    {
     "data": {
      "text/plain": [
       "0     2.675624\n",
       "1    15.191392\n",
       "2    10.993152\n",
       "3     5.115437\n",
       "4    12.048712\n",
       "dtype: float64"
      ]
     },
     "execution_count": 57,
     "metadata": {},
     "output_type": "execute_result"
    }
   ],
   "source": [
    "norm_pos.head()"
   ]
  },
  {
   "cell_type": "code",
   "execution_count": 58,
   "metadata": {},
   "outputs": [],
   "source": [
    "chrm1 = norm_pos[norm_pos<=1]"
   ]
  },
  {
   "cell_type": "code",
   "execution_count": 59,
   "metadata": {},
   "outputs": [
    {
     "data": {
      "text/plain": [
       "140    0.186830\n",
       "141    0.186383\n",
       "164    0.955304\n",
       "216    0.621884\n",
       "330    0.025528\n",
       "dtype: float64"
      ]
     },
     "execution_count": 59,
     "metadata": {},
     "output_type": "execute_result"
    }
   ],
   "source": [
    "chrm1.head()"
   ]
  },
  {
   "cell_type": "code",
   "execution_count": 60,
   "metadata": {},
   "outputs": [
    {
     "data": {
      "text/plain": [
       "905"
      ]
     },
     "execution_count": 60,
     "metadata": {},
     "output_type": "execute_result"
    }
   ],
   "source": [
    "len(chrm1)"
   ]
  },
  {
   "cell_type": "code",
   "execution_count": 61,
   "metadata": {},
   "outputs": [
    {
     "data": {
      "text/plain": [
       "Text(0.5, 0, 'Avg chromosome position')"
      ]
     },
     "execution_count": 61,
     "metadata": {},
     "output_type": "execute_result"
    },
    {
     "data": {
      "image/png": "[encoded data removed]",
      "text/plain": [
       "<Figure size 1440x288 with 1 Axes>"
      ]
     },
     "metadata": {
      "needs_background": "light"
     },
     "output_type": "display_data"
    }
   ],
   "source": [
    "fig1 = plt.figure()\n",
    "fig1.set_size_inches((20,4))\n",
    "ax = fig1.add_subplot(111)\n",
    "ax.scatter(chrm1,chrm1)\n",
    "ax.set_xlabel(\"Avg chromosome position\")"
   ]
  },
  {
   "cell_type": "code",
   "execution_count": 62,
   "metadata": {},
   "outputs": [
    {
     "data": {
      "text/plain": [
       "Text(0.5, 0, 'Avg chromosome position')"
      ]
     },
     "execution_count": 62,
     "metadata": {},
     "output_type": "execute_result"
    },
    {
     "data": {
      "image/png": "[encoded data removed]",
      "text/plain": [
       "<Figure size 2160x288 with 1 Axes>"
      ]
     },
     "metadata": {
      "needs_background": "light"
     },
     "output_type": "display_data"
    }
   ],
   "source": [
    "fig1 = plt.figure()\n",
    "fig1.set_size_inches((30,4))\n",
    "ax = fig1.add_subplot(111)\n",
    "ax.scatter(chrm1,intersect_chroms_only['AT2_04M_F0'][norm_pos<=1])\n",
    "ax.set_xlabel(\"Avg chromosome position\")"
   ]
  },
  {
   "cell_type": "code",
   "execution_count": 65,
   "metadata": {},
   "outputs": [
    {
     "data": {
      "text/plain": [
       "Text(0, 0.5, 'rna seq')"
      ]
     },
     "execution_count": 65,
     "metadata": {},
     "output_type": "execute_result"
    },
    {
     "data": {
      "image/png": "[encoded data removed]",
      "text/plain": [
       "<Figure size 720x288 with 1 Axes>"
      ]
     },
     "metadata": {
      "needs_background": "light"
     },
     "output_type": "display_data"
    }
   ],
   "source": [
    "fig1 = plt.figure()\n",
    "fig1.set_size_inches((10,4))\n",
    "ax = fig1.add_subplot(111)\n",
    "ax.scatter(rna_protein['AvgChrs'][rna_protein['AvgChrs']<=1],rna_protein['AT2_18M_F10'][rna_protein['AvgChrs']<=1])\n",
    "ax.set_xlabel(\"norm gene position\")\n",
    "ax.set_ylabel(\"rna seq\")"
   ]
  },
  {
   "cell_type": "code",
   "execution_count": 66,
   "metadata": {},
   "outputs": [
    {
     "data": {
      "text/plain": [
       "(0.14345094390332316, 0.038252593701646326)"
      ]
     },
     "execution_count": 66,
     "metadata": {},
     "output_type": "execute_result"
    }
   ],
   "source": [
    "scipy.stats.pearsonr(rna_protein['AvgChrs'][rna_protein['AvgChrs']<=1],rna_protein['AT2_18M_F10'][rna_protein['AvgChrs']<=1])"
   ]
  },
  {
   "cell_type": "code",
   "execution_count": 67,
   "metadata": {},
   "outputs": [
    {
     "data": {
      "text/plain": [
       "Text(0.5, 0, 'Avg chromosome position')"
      ]
     },
     "execution_count": 67,
     "metadata": {},
     "output_type": "execute_result"
    },
    {
     "data": {
      "image/png": "[encoded data removed]",
      "text/plain": [
       "<Figure size 43200x288 with 1 Axes>"
      ]
     },
     "metadata": {
      "needs_background": "light"
     },
     "output_type": "display_data"
    }
   ],
   "source": [
    "fig1 = plt.figure()\n",
    "fig1.set_size_inches((600,4))\n",
    "ax = fig1.add_subplot(111)\n",
    "ax.scatter(chrm1,intersect_chroms_only['AT2_04M_F0'][norm_pos<=1])\n",
    "ax.set_xlabel(\"Avg chromosome position\")"
   ]
  },
  {
   "cell_type": "code",
   "execution_count": 68,
   "metadata": {},
   "outputs": [
    {
     "data": {
      "text/plain": [
       "(0.003986851023988496, 0.904663747563399)"
      ]
     },
     "execution_count": 68,
     "metadata": {},
     "output_type": "execute_result"
    }
   ],
   "source": [
    "scipy.stats.pearsonr(chrm1,intersect_chroms_only['AT2_04M_F0'][norm_pos<=1])"
   ]
  },
  {
   "cell_type": "code",
   "execution_count": 64,
   "metadata": {},
   "outputs": [
    {
     "data": {
      "text/html": [
       "<div>\n",
       "<style scoped>\n",
       "    .dataframe tbody tr th:only-of-type {\n",
       "        vertical-align: middle;\n",
       "    }\n",
       "\n",
       "    .dataframe tbody tr th {\n",
       "        vertical-align: top;\n",
       "    }\n",
       "\n",
       "    .dataframe thead th {\n",
       "        text-align: right;\n",
       "    }\n",
       "</style>\n",
       "<table border=\"1\" class=\"dataframe\">\n",
       "  <thead>\n",
       "    <tr style=\"text-align: right;\">\n",
       "      <th></th>\n",
       "      <th>Gene.names</th>\n",
       "      <th>Gene.description</th>\n",
       "      <th>AvgChrs</th>\n",
       "      <th>AT2_18M_F10</th>\n",
       "      <th>WSU_Old</th>\n",
       "    </tr>\n",
       "  </thead>\n",
       "  <tbody>\n",
       "    <tr>\n",
       "      <th>0</th>\n",
       "      <td>0610037L13Rik</td>\n",
       "      <td>RIKEN cDNA 0610037L13 gene</td>\n",
       "      <td>3.689387</td>\n",
       "      <td>4.016506</td>\n",
       "      <td>23.808293</td>\n",
       "    </tr>\n",
       "    <tr>\n",
       "      <th>1</th>\n",
       "      <td>1810009A15Rik</td>\n",
       "      <td>RIKEN cDNA 1810009A15 gene</td>\n",
       "      <td>18.144712</td>\n",
       "      <td>0.000000</td>\n",
       "      <td>23.182809</td>\n",
       "    </tr>\n",
       "    <tr>\n",
       "      <th>2</th>\n",
       "      <td>2310011J03Rik</td>\n",
       "      <td>RIKEN cDNA 2310011J03 gene</td>\n",
       "      <td>9.614556</td>\n",
       "      <td>4.487340</td>\n",
       "      <td>23.487317</td>\n",
       "    </tr>\n",
       "    <tr>\n",
       "      <th>3</th>\n",
       "      <td>2610301B20Rik</td>\n",
       "      <td>RIKEN cDNA 2610301B20 gene</td>\n",
       "      <td>3.069562</td>\n",
       "      <td>4.998258</td>\n",
       "      <td>17.000000</td>\n",
       "    </tr>\n",
       "    <tr>\n",
       "      <th>4</th>\n",
       "      <td>2810006K23Rik</td>\n",
       "      <td>RIKEN cDNA 2810006K23 gene</td>\n",
       "      <td>4.818884</td>\n",
       "      <td>1.865742</td>\n",
       "      <td>17.000000</td>\n",
       "    </tr>\n",
       "  </tbody>\n",
       "</table>\n",
       "</div>"
      ],
      "text/plain": [
       "      Gene.names            Gene.description    AvgChrs  AT2_18M_F10  \\\n",
       "0  0610037L13Rik  RIKEN cDNA 0610037L13 gene   3.689387     4.016506   \n",
       "1  1810009A15Rik  RIKEN cDNA 1810009A15 gene  18.144712     0.000000   \n",
       "2  2310011J03Rik  RIKEN cDNA 2310011J03 gene   9.614556     4.487340   \n",
       "3  2610301B20Rik  RIKEN cDNA 2610301B20 gene   3.069562     4.998258   \n",
       "4  2810006K23Rik  RIKEN cDNA 2810006K23 gene   4.818884     1.865742   \n",
       "\n",
       "     WSU_Old  \n",
       "0  23.808293  \n",
       "1  23.182809  \n",
       "2  23.487317  \n",
       "3  17.000000  \n",
       "4  17.000000  "
      ]
     },
     "execution_count": 64,
     "metadata": {},
     "output_type": "execute_result"
    }
   ],
   "source": [
    "rna_protein =  pd.read_csv('Data/VSP_input_AT2_OF_0419.tsv',sep='\\t')\n",
    "rna_protein.head()"
   ]
  },
  {
   "cell_type": "code",
   "execution_count": 69,
   "metadata": {},
   "outputs": [
    {
     "data": {
      "text/plain": [
       "Text(0, 0.5, 'protein level')"
      ]
     },
     "execution_count": 69,
     "metadata": {},
     "output_type": "execute_result"
    },
    {
     "data": {
      "image/png": "[encoded data removed]",
      "text/plain": [
       "<Figure size 720x720 with 1 Axes>"
      ]
     },
     "metadata": {
      "needs_background": "light"
     },
     "output_type": "display_data"
    }
   ],
   "source": [
    "fig1 = plt.figure()\n",
    "fig1.set_size_inches((10,10))\n",
    "ax = fig1.add_subplot(111)\n",
    "ax.scatter(rna_protein['AT2_18M_F10'][rna_protein['AvgChrs']<=1],rna_protein['WSU_Old'][rna_protein['AvgChrs']<=1])\n",
    "ax.set_xlabel(\"rna seq\")\n",
    "ax.set_ylabel(\"protein level\")"
   ]
  },
  {
   "cell_type": "code",
   "execution_count": 70,
   "metadata": {},
   "outputs": [
    {
     "data": {
      "text/plain": [
       "(0.3518109045509676, 1.755519024182921e-07)"
      ]
     },
     "execution_count": 70,
     "metadata": {},
     "output_type": "execute_result"
    }
   ],
   "source": [
    "scipy.stats.pearsonr(rna_protein['AT2_18M_F10'][rna_protein['AvgChrs']<=1],rna_protein['WSU_Old'][rna_protein['AvgChrs']<=1])"
   ]
  },
  {
   "cell_type": "code",
   "execution_count": 71,
   "metadata": {},
   "outputs": [
    {
     "data": {
      "text/plain": [
       "Text(0, 0.5, 'rna seq')"
      ]
     },
     "execution_count": 71,
     "metadata": {},
     "output_type": "execute_result"
    },
    {
     "data": {
      "image/png": "[encoded data removed]",
      "text/plain": [
       "<Figure size 2160x288 with 1 Axes>"
      ]
     },
     "metadata": {
      "needs_background": "light"
     },
     "output_type": "display_data"
    }
   ],
   "source": [
    "fig1 = plt.figure()\n",
    "fig1.set_size_inches((30,4))\n",
    "ax = fig1.add_subplot(111)\n",
    "ax.scatter(rna_protein['AvgChrs'][rna_protein['AvgChrs']<=1],rna_protein['AT2_18M_F10'][rna_protein['AvgChrs']<=1])\n",
    "ax.set_xlabel(\"norm gene position\")\n",
    "ax.set_ylabel(\"rna seq\")"
   ]
  },
  {
   "cell_type": "markdown",
   "metadata": {},
   "source": [
    "# Try with gene length and with unnormalized rna seq values and proteome values"
   ]
  },
  {
   "cell_type": "markdown",
   "metadata": {},
   "source": [
    "unormalized is 2^(val) - 12"
   ]
  },
  {
   "cell_type": "code",
   "execution_count": 89,
   "metadata": {},
   "outputs": [
    {
     "data": {
      "text/html": [
       "<div>\n",
       "<style scoped>\n",
       "    .dataframe tbody tr th:only-of-type {\n",
       "        vertical-align: middle;\n",
       "    }\n",
       "\n",
       "    .dataframe tbody tr th {\n",
       "        vertical-align: top;\n",
       "    }\n",
       "\n",
       "    .dataframe thead th {\n",
       "        text-align: right;\n",
       "    }\n",
       "</style>\n",
       "<table border=\"1\" class=\"dataframe\">\n",
       "  <thead>\n",
       "    <tr style=\"text-align: right;\">\n",
       "      <th></th>\n",
       "      <th>Gene.description</th>\n",
       "      <th>AvgChrs</th>\n",
       "      <th>AT2_18M_F10</th>\n",
       "      <th>WSU_Old</th>\n",
       "    </tr>\n",
       "    <tr>\n",
       "      <th>Gene.names</th>\n",
       "      <th></th>\n",
       "      <th></th>\n",
       "      <th></th>\n",
       "      <th></th>\n",
       "    </tr>\n",
       "  </thead>\n",
       "  <tbody>\n",
       "    <tr>\n",
       "      <th>0610037L13Rik</th>\n",
       "      <td>RIKEN cDNA 0610037L13 gene</td>\n",
       "      <td>3.689387</td>\n",
       "      <td>4.016506</td>\n",
       "      <td>23.808293</td>\n",
       "    </tr>\n",
       "    <tr>\n",
       "      <th>1810009A15Rik</th>\n",
       "      <td>RIKEN cDNA 1810009A15 gene</td>\n",
       "      <td>18.144712</td>\n",
       "      <td>0.000000</td>\n",
       "      <td>23.182809</td>\n",
       "    </tr>\n",
       "    <tr>\n",
       "      <th>2310011J03Rik</th>\n",
       "      <td>RIKEN cDNA 2310011J03 gene</td>\n",
       "      <td>9.614556</td>\n",
       "      <td>4.487340</td>\n",
       "      <td>23.487317</td>\n",
       "    </tr>\n",
       "    <tr>\n",
       "      <th>2610301B20Rik</th>\n",
       "      <td>RIKEN cDNA 2610301B20 gene</td>\n",
       "      <td>3.069562</td>\n",
       "      <td>4.998258</td>\n",
       "      <td>17.000000</td>\n",
       "    </tr>\n",
       "    <tr>\n",
       "      <th>2810006K23Rik</th>\n",
       "      <td>RIKEN cDNA 2810006K23 gene</td>\n",
       "      <td>4.818884</td>\n",
       "      <td>1.865742</td>\n",
       "      <td>17.000000</td>\n",
       "    </tr>\n",
       "  </tbody>\n",
       "</table>\n",
       "</div>"
      ],
      "text/plain": [
       "                         Gene.description    AvgChrs  AT2_18M_F10    WSU_Old\n",
       "Gene.names                                                                  \n",
       "0610037L13Rik  RIKEN cDNA 0610037L13 gene   3.689387     4.016506  23.808293\n",
       "1810009A15Rik  RIKEN cDNA 1810009A15 gene  18.144712     0.000000  23.182809\n",
       "2310011J03Rik  RIKEN cDNA 2310011J03 gene   9.614556     4.487340  23.487317\n",
       "2610301B20Rik  RIKEN cDNA 2610301B20 gene   3.069562     4.998258  17.000000\n",
       "2810006K23Rik  RIKEN cDNA 2810006K23 gene   4.818884     1.865742  17.000000"
      ]
     },
     "execution_count": 89,
     "metadata": {},
     "output_type": "execute_result"
    }
   ],
   "source": [
    "vsp_input = pd.read_csv('Data/VSP_input_AT2_OF_0419.tsv', sep='\\t',index_col=0)\n",
    "vsp_input.head()"
   ]
  },
  {
   "cell_type": "code",
   "execution_count": 75,
   "metadata": {},
   "outputs": [
    {
     "data": {
      "text/html": [
       "<div>\n",
       "<style scoped>\n",
       "    .dataframe tbody tr th:only-of-type {\n",
       "        vertical-align: middle;\n",
       "    }\n",
       "\n",
       "    .dataframe tbody tr th {\n",
       "        vertical-align: top;\n",
       "    }\n",
       "\n",
       "    .dataframe thead th {\n",
       "        text-align: right;\n",
       "    }\n",
       "</style>\n",
       "<table border=\"1\" class=\"dataframe\">\n",
       "  <thead>\n",
       "    <tr style=\"text-align: right;\">\n",
       "      <th></th>\n",
       "      <th>MGI.symbol</th>\n",
       "      <th>AvgChrs</th>\n",
       "      <th>AT2_04M_F0</th>\n",
       "      <th>Gene start (bp)</th>\n",
       "      <th>Gene end (bp)</th>\n",
       "      <th>Chromosome/scaffold name</th>\n",
       "      <th>Gene description</th>\n",
       "    </tr>\n",
       "  </thead>\n",
       "  <tbody>\n",
       "    <tr>\n",
       "      <th>0</th>\n",
       "      <td>Gnai3</td>\n",
       "      <td>2.675624</td>\n",
       "      <td>7.151432</td>\n",
       "      <td>108107280</td>\n",
       "      <td>108146146</td>\n",
       "      <td>3</td>\n",
       "      <td>guanine nucleotide binding protein (G protein)...</td>\n",
       "    </tr>\n",
       "    <tr>\n",
       "      <th>1</th>\n",
       "      <td>Cdc45</td>\n",
       "      <td>15.191392</td>\n",
       "      <td>1.347537</td>\n",
       "      <td>18780447</td>\n",
       "      <td>18811987</td>\n",
       "      <td>16</td>\n",
       "      <td>cell division cycle 45 [Source:MGI Symbol;Acc:...</td>\n",
       "    </tr>\n",
       "    <tr>\n",
       "      <th>2</th>\n",
       "      <td>Narf</td>\n",
       "      <td>10.993152</td>\n",
       "      <td>4.248040</td>\n",
       "      <td>121237253</td>\n",
       "      <td>121255856</td>\n",
       "      <td>11</td>\n",
       "      <td>nuclear prelamin A recognition factor [Source:...</td>\n",
       "    </tr>\n",
       "    <tr>\n",
       "      <th>3</th>\n",
       "      <td>Cav2</td>\n",
       "      <td>5.115437</td>\n",
       "      <td>6.162987</td>\n",
       "      <td>17281185</td>\n",
       "      <td>17289115</td>\n",
       "      <td>6</td>\n",
       "      <td>caveolin 2 [Source:MGI Symbol;Acc:MGI:107571]</td>\n",
       "    </tr>\n",
       "    <tr>\n",
       "      <th>4</th>\n",
       "      <td>Klf6</td>\n",
       "      <td>12.048712</td>\n",
       "      <td>6.635019</td>\n",
       "      <td>5861482</td>\n",
       "      <td>5870394</td>\n",
       "      <td>13</td>\n",
       "      <td>Kruppel-like factor 6 [Source:MGI Symbol;Acc:M...</td>\n",
       "    </tr>\n",
       "  </tbody>\n",
       "</table>\n",
       "</div>"
      ],
      "text/plain": [
       "  MGI.symbol    AvgChrs  AT2_04M_F0  Gene start (bp)  Gene end (bp)  \\\n",
       "0      Gnai3   2.675624    7.151432        108107280      108146146   \n",
       "1      Cdc45  15.191392    1.347537         18780447       18811987   \n",
       "2       Narf  10.993152    4.248040        121237253      121255856   \n",
       "3       Cav2   5.115437    6.162987         17281185       17289115   \n",
       "4       Klf6  12.048712    6.635019          5861482        5870394   \n",
       "\n",
       "  Chromosome/scaffold name                                   Gene description  \n",
       "0                        3  guanine nucleotide binding protein (G protein)...  \n",
       "1                       16  cell division cycle 45 [Source:MGI Symbol;Acc:...  \n",
       "2                       11  nuclear prelamin A recognition factor [Source:...  \n",
       "3                        6      caveolin 2 [Source:MGI Symbol;Acc:MGI:107571]  \n",
       "4                       13  Kruppel-like factor 6 [Source:MGI Symbol;Acc:M...  "
      ]
     },
     "execution_count": 75,
     "metadata": {},
     "output_type": "execute_result"
    }
   ],
   "source": [
    "intersect.head()"
   ]
  },
  {
   "cell_type": "code",
   "execution_count": 77,
   "metadata": {},
   "outputs": [
    {
     "data": {
      "text/plain": [
       "14224"
      ]
     },
     "execution_count": 77,
     "metadata": {},
     "output_type": "execute_result"
    }
   ],
   "source": [
    "len(intersect)"
   ]
  },
  {
   "cell_type": "code",
   "execution_count": 78,
   "metadata": {},
   "outputs": [
    {
     "data": {
      "text/plain": [
       "14044"
      ]
     },
     "execution_count": 78,
     "metadata": {},
     "output_type": "execute_result"
    }
   ],
   "source": [
    "len(intersect_chroms_only)"
   ]
  },
  {
   "cell_type": "code",
   "execution_count": 215,
   "metadata": {},
   "outputs": [],
   "source": [
    "intersect_chroms_only = intersect_chroms_only.set_index('MGI.symbol')"
   ]
  },
  {
   "cell_type": "code",
   "execution_count": 216,
   "metadata": {},
   "outputs": [
    {
     "data": {
      "text/html": [
       "<div>\n",
       "<style scoped>\n",
       "    .dataframe tbody tr th:only-of-type {\n",
       "        vertical-align: middle;\n",
       "    }\n",
       "\n",
       "    .dataframe tbody tr th {\n",
       "        vertical-align: top;\n",
       "    }\n",
       "\n",
       "    .dataframe thead th {\n",
       "        text-align: right;\n",
       "    }\n",
       "</style>\n",
       "<table border=\"1\" class=\"dataframe\">\n",
       "  <thead>\n",
       "    <tr style=\"text-align: right;\">\n",
       "      <th></th>\n",
       "      <th>Gene.description</th>\n",
       "      <th>AvgChrs</th>\n",
       "      <th>AT2_04M_F0</th>\n",
       "      <th>AT2_18M_F0</th>\n",
       "      <th>AT2_04M_F10</th>\n",
       "      <th>AT2_18M_F10</th>\n",
       "      <th>Gene start (bp)</th>\n",
       "      <th>Gene end (bp)</th>\n",
       "      <th>Chromosome/scaffold name</th>\n",
       "      <th>Gene description</th>\n",
       "      <th>gene length</th>\n",
       "    </tr>\n",
       "    <tr>\n",
       "      <th>MGI.symbol</th>\n",
       "      <th></th>\n",
       "      <th></th>\n",
       "      <th></th>\n",
       "      <th></th>\n",
       "      <th></th>\n",
       "      <th></th>\n",
       "      <th></th>\n",
       "      <th></th>\n",
       "      <th></th>\n",
       "      <th></th>\n",
       "      <th></th>\n",
       "    </tr>\n",
       "  </thead>\n",
       "  <tbody>\n",
       "    <tr>\n",
       "      <th>Gcat</th>\n",
       "      <td>glycine C-acetyltransferase (2-amino-3-ketobut...</td>\n",
       "      <td>14.759629</td>\n",
       "      <td>4.370604</td>\n",
       "      <td>4.360897</td>\n",
       "      <td>4.504299</td>\n",
       "      <td>4.328300</td>\n",
       "      <td>79030901</td>\n",
       "      <td>79042531</td>\n",
       "      <td>15</td>\n",
       "      <td>glycine C-acetyltransferase (2-amino-3-ketobut...</td>\n",
       "      <td>11630</td>\n",
       "    </tr>\n",
       "    <tr>\n",
       "      <th>Nudt8</th>\n",
       "      <td>Nucleoside diphosphate-linked moiety X motif 8</td>\n",
       "      <td>18.065166</td>\n",
       "      <td>2.546257</td>\n",
       "      <td>2.243965</td>\n",
       "      <td>1.974596</td>\n",
       "      <td>1.251313</td>\n",
       "      <td>4000580</td>\n",
       "      <td>4002103</td>\n",
       "      <td>19</td>\n",
       "      <td>nudix (nucleoside diphosphate linked moiety X)...</td>\n",
       "      <td>1523</td>\n",
       "    </tr>\n",
       "    <tr>\n",
       "      <th>Hgs</th>\n",
       "      <td>HGF-regulated tyrosine kinase substrate</td>\n",
       "      <td>10.986839</td>\n",
       "      <td>6.076025</td>\n",
       "      <td>5.805691</td>\n",
       "      <td>5.780017</td>\n",
       "      <td>5.870600</td>\n",
       "      <td>120467635</td>\n",
       "      <td>120483984</td>\n",
       "      <td>11</td>\n",
       "      <td>HGF-regulated tyrosine kinase substrate [Sourc...</td>\n",
       "      <td>16349</td>\n",
       "    </tr>\n",
       "    <tr>\n",
       "      <th>Sept2</th>\n",
       "      <td>septin 2</td>\n",
       "      <td>0.478302</td>\n",
       "      <td>7.637620</td>\n",
       "      <td>7.601905</td>\n",
       "      <td>7.463656</td>\n",
       "      <td>7.599219</td>\n",
       "      <td>93478993</td>\n",
       "      <td>93509733</td>\n",
       "      <td>1</td>\n",
       "      <td>septin 2 [Source:NCBI gene;Acc:18000]</td>\n",
       "      <td>30740</td>\n",
       "    </tr>\n",
       "    <tr>\n",
       "      <th>Dpep2</th>\n",
       "      <td>dipeptidase 2</td>\n",
       "      <td>7.819068</td>\n",
       "      <td>4.115259</td>\n",
       "      <td>3.863962</td>\n",
       "      <td>3.421979</td>\n",
       "      <td>3.395437</td>\n",
       "      <td>105984945</td>\n",
       "      <td>105996423</td>\n",
       "      <td>8</td>\n",
       "      <td>dipeptidase 2 [Source:MGI Symbol;Acc:MGI:2442042]</td>\n",
       "      <td>11478</td>\n",
       "    </tr>\n",
       "    <tr>\n",
       "      <th>St6galnac2</th>\n",
       "      <td>ST6 (alpha-N-acetyl-neuraminyl-2,3-beta-galact...</td>\n",
       "      <td>10.955788</td>\n",
       "      <td>6.781071</td>\n",
       "      <td>6.313270</td>\n",
       "      <td>6.938773</td>\n",
       "      <td>6.798824</td>\n",
       "      <td>116677483</td>\n",
       "      <td>116681290</td>\n",
       "      <td>11</td>\n",
       "      <td>ST6 (alpha-N-acetyl-neuraminyl-2,3-beta-galact...</td>\n",
       "      <td>3807</td>\n",
       "    </tr>\n",
       "    <tr>\n",
       "      <th>Zkscan7</th>\n",
       "      <td>zinc finger with KRAB and SCAN domains 7</td>\n",
       "      <td>8.986332</td>\n",
       "      <td>3.515282</td>\n",
       "      <td>2.842217</td>\n",
       "      <td>3.221416</td>\n",
       "      <td>3.415501</td>\n",
       "      <td>122903246</td>\n",
       "      <td>122914154</td>\n",
       "      <td>9</td>\n",
       "      <td>zinc finger with KRAB and SCAN domains 7 [Sour...</td>\n",
       "      <td>10908</td>\n",
       "    </tr>\n",
       "    <tr>\n",
       "      <th>4930594M22Rik</th>\n",
       "      <td>RIKEN cDNA 4930594M22 gene</td>\n",
       "      <td>13.984172</td>\n",
       "      <td>1.012113</td>\n",
       "      <td>0.520289</td>\n",
       "      <td>1.726346</td>\n",
       "      <td>1.091367</td>\n",
       "      <td>122952119</td>\n",
       "      <td>122956343</td>\n",
       "      <td>14</td>\n",
       "      <td>RIKEN cDNA 4930594M22 gene [Source:MGI Symbol;...</td>\n",
       "      <td>4224</td>\n",
       "    </tr>\n",
       "    <tr>\n",
       "      <th>Tmem147os</th>\n",
       "      <td>transmembrane protein 147, opposite strand</td>\n",
       "      <td>6.211341</td>\n",
       "      <td>1.883724</td>\n",
       "      <td>1.748485</td>\n",
       "      <td>1.468928</td>\n",
       "      <td>2.395977</td>\n",
       "      <td>30734739</td>\n",
       "      <td>30756126</td>\n",
       "      <td>7</td>\n",
       "      <td>transmembrane protein 147, opposite strand [So...</td>\n",
       "      <td>21387</td>\n",
       "    </tr>\n",
       "    <tr>\n",
       "      <th>Zc3h11a</th>\n",
       "      <td>zinc finger CCCH type containing 11A</td>\n",
       "      <td>0.683682</td>\n",
       "      <td>3.784564</td>\n",
       "      <td>3.842217</td>\n",
       "      <td>3.718456</td>\n",
       "      <td>3.235124</td>\n",
       "      <td>133619871</td>\n",
       "      <td>133661380</td>\n",
       "      <td>1</td>\n",
       "      <td>zinc finger CCCH type containing 11A [Source:N...</td>\n",
       "      <td>41509</td>\n",
       "    </tr>\n",
       "    <tr>\n",
       "      <th>Gm4430</th>\n",
       "      <td>predicted gene 4430</td>\n",
       "      <td>1.709439</td>\n",
       "      <td>1.500998</td>\n",
       "      <td>0.520289</td>\n",
       "      <td>2.026186</td>\n",
       "      <td>2.051485</td>\n",
       "      <td>129196086</td>\n",
       "      <td>129197126</td>\n",
       "      <td>2</td>\n",
       "      <td>predicted gene 4430 [Source:MGI Symbol;Acc:MGI...</td>\n",
       "      <td>1040</td>\n",
       "    </tr>\n",
       "  </tbody>\n",
       "</table>\n",
       "</div>"
      ],
      "text/plain": [
       "                                                Gene.description    AvgChrs  \\\n",
       "MGI.symbol                                                                    \n",
       "Gcat           glycine C-acetyltransferase (2-amino-3-ketobut...  14.759629   \n",
       "Nudt8            Nucleoside diphosphate-linked moiety X motif 8   18.065166   \n",
       "Hgs                      HGF-regulated tyrosine kinase substrate  10.986839   \n",
       "Sept2                                                   septin 2   0.478302   \n",
       "Dpep2                                              dipeptidase 2   7.819068   \n",
       "St6galnac2     ST6 (alpha-N-acetyl-neuraminyl-2,3-beta-galact...  10.955788   \n",
       "Zkscan7                 zinc finger with KRAB and SCAN domains 7   8.986332   \n",
       "4930594M22Rik                         RIKEN cDNA 4930594M22 gene  13.984172   \n",
       "Tmem147os             transmembrane protein 147, opposite strand   6.211341   \n",
       "Zc3h11a                     zinc finger CCCH type containing 11A   0.683682   \n",
       "Gm4430                                       predicted gene 4430   1.709439   \n",
       "\n",
       "               AT2_04M_F0  AT2_18M_F0  AT2_04M_F10  AT2_18M_F10  \\\n",
       "MGI.symbol                                                        \n",
       "Gcat             4.370604    4.360897     4.504299     4.328300   \n",
       "Nudt8            2.546257    2.243965     1.974596     1.251313   \n",
       "Hgs              6.076025    5.805691     5.780017     5.870600   \n",
       "Sept2            7.637620    7.601905     7.463656     7.599219   \n",
       "Dpep2            4.115259    3.863962     3.421979     3.395437   \n",
       "St6galnac2       6.781071    6.313270     6.938773     6.798824   \n",
       "Zkscan7          3.515282    2.842217     3.221416     3.415501   \n",
       "4930594M22Rik    1.012113    0.520289     1.726346     1.091367   \n",
       "Tmem147os        1.883724    1.748485     1.468928     2.395977   \n",
       "Zc3h11a          3.784564    3.842217     3.718456     3.235124   \n",
       "Gm4430           1.500998    0.520289     2.026186     2.051485   \n",
       "\n",
       "               Gene start (bp)  Gene end (bp) Chromosome/scaffold name  \\\n",
       "MGI.symbol                                                               \n",
       "Gcat                  79030901       79042531                       15   \n",
       "Nudt8                  4000580        4002103                       19   \n",
       "Hgs                  120467635      120483984                       11   \n",
       "Sept2                 93478993       93509733                        1   \n",
       "Dpep2                105984945      105996423                        8   \n",
       "St6galnac2           116677483      116681290                       11   \n",
       "Zkscan7              122903246      122914154                        9   \n",
       "4930594M22Rik        122952119      122956343                       14   \n",
       "Tmem147os             30734739       30756126                        7   \n",
       "Zc3h11a              133619871      133661380                        1   \n",
       "Gm4430               129196086      129197126                        2   \n",
       "\n",
       "                                                Gene description  gene length  \n",
       "MGI.symbol                                                                     \n",
       "Gcat           glycine C-acetyltransferase (2-amino-3-ketobut...        11630  \n",
       "Nudt8          nudix (nucleoside diphosphate linked moiety X)...         1523  \n",
       "Hgs            HGF-regulated tyrosine kinase substrate [Sourc...        16349  \n",
       "Sept2                      septin 2 [Source:NCBI gene;Acc:18000]        30740  \n",
       "Dpep2          dipeptidase 2 [Source:MGI Symbol;Acc:MGI:2442042]        11478  \n",
       "St6galnac2     ST6 (alpha-N-acetyl-neuraminyl-2,3-beta-galact...         3807  \n",
       "Zkscan7        zinc finger with KRAB and SCAN domains 7 [Sour...        10908  \n",
       "4930594M22Rik  RIKEN cDNA 4930594M22 gene [Source:MGI Symbol;...         4224  \n",
       "Tmem147os      transmembrane protein 147, opposite strand [So...        21387  \n",
       "Zc3h11a        zinc finger CCCH type containing 11A [Source:N...        41509  \n",
       "Gm4430         predicted gene 4430 [Source:MGI Symbol;Acc:MGI...         1040  "
      ]
     },
     "execution_count": 216,
     "metadata": {},
     "output_type": "execute_result"
    }
   ],
   "source": [
    "intersect_chroms_only[intersect_chroms_only.index.duplicated() == True]"
   ]
  },
  {
   "cell_type": "code",
   "execution_count": 217,
   "metadata": {},
   "outputs": [
    {
     "data": {
      "text/html": [
       "<div>\n",
       "<style scoped>\n",
       "    .dataframe tbody tr th:only-of-type {\n",
       "        vertical-align: middle;\n",
       "    }\n",
       "\n",
       "    .dataframe tbody tr th {\n",
       "        vertical-align: top;\n",
       "    }\n",
       "\n",
       "    .dataframe thead th {\n",
       "        text-align: right;\n",
       "    }\n",
       "</style>\n",
       "<table border=\"1\" class=\"dataframe\">\n",
       "  <thead>\n",
       "    <tr style=\"text-align: right;\">\n",
       "      <th></th>\n",
       "      <th>Gene.description</th>\n",
       "      <th>AvgChrs</th>\n",
       "      <th>AT2_04M_F0</th>\n",
       "      <th>AT2_18M_F0</th>\n",
       "      <th>AT2_04M_F10</th>\n",
       "      <th>AT2_18M_F10</th>\n",
       "      <th>Gene start (bp)</th>\n",
       "      <th>Gene end (bp)</th>\n",
       "      <th>Chromosome/scaffold name</th>\n",
       "      <th>Gene description</th>\n",
       "      <th>gene length</th>\n",
       "    </tr>\n",
       "    <tr>\n",
       "      <th>MGI.symbol</th>\n",
       "      <th></th>\n",
       "      <th></th>\n",
       "      <th></th>\n",
       "      <th></th>\n",
       "      <th></th>\n",
       "      <th></th>\n",
       "      <th></th>\n",
       "      <th></th>\n",
       "      <th></th>\n",
       "      <th></th>\n",
       "      <th></th>\n",
       "    </tr>\n",
       "  </thead>\n",
       "  <tbody>\n",
       "    <tr>\n",
       "      <th>Gcat</th>\n",
       "      <td>glycine C-acetyltransferase (2-amino-3-ketobut...</td>\n",
       "      <td>14.759629</td>\n",
       "      <td>4.370604</td>\n",
       "      <td>4.360897</td>\n",
       "      <td>4.504299</td>\n",
       "      <td>4.3283</td>\n",
       "      <td>79030874</td>\n",
       "      <td>79038353</td>\n",
       "      <td>15</td>\n",
       "      <td>glycine C-acetyltransferase (2-amino-3-ketobut...</td>\n",
       "      <td>7479</td>\n",
       "    </tr>\n",
       "    <tr>\n",
       "      <th>Gcat</th>\n",
       "      <td>glycine C-acetyltransferase (2-amino-3-ketobut...</td>\n",
       "      <td>14.759629</td>\n",
       "      <td>4.370604</td>\n",
       "      <td>4.360897</td>\n",
       "      <td>4.504299</td>\n",
       "      <td>4.3283</td>\n",
       "      <td>79030901</td>\n",
       "      <td>79042531</td>\n",
       "      <td>15</td>\n",
       "      <td>glycine C-acetyltransferase (2-amino-3-ketobut...</td>\n",
       "      <td>11630</td>\n",
       "    </tr>\n",
       "  </tbody>\n",
       "</table>\n",
       "</div>"
      ],
      "text/plain": [
       "                                             Gene.description    AvgChrs  \\\n",
       "MGI.symbol                                                                 \n",
       "Gcat        glycine C-acetyltransferase (2-amino-3-ketobut...  14.759629   \n",
       "Gcat        glycine C-acetyltransferase (2-amino-3-ketobut...  14.759629   \n",
       "\n",
       "            AT2_04M_F0  AT2_18M_F0  AT2_04M_F10  AT2_18M_F10  Gene start (bp)  \\\n",
       "MGI.symbol                                                                      \n",
       "Gcat          4.370604    4.360897     4.504299       4.3283         79030874   \n",
       "Gcat          4.370604    4.360897     4.504299       4.3283         79030901   \n",
       "\n",
       "            Gene end (bp) Chromosome/scaffold name  \\\n",
       "MGI.symbol                                           \n",
       "Gcat             79038353                       15   \n",
       "Gcat             79042531                       15   \n",
       "\n",
       "                                             Gene description  gene length  \n",
       "MGI.symbol                                                                  \n",
       "Gcat        glycine C-acetyltransferase (2-amino-3-ketobut...         7479  \n",
       "Gcat        glycine C-acetyltransferase (2-amino-3-ketobut...        11630  "
      ]
     },
     "execution_count": 217,
     "metadata": {},
     "output_type": "execute_result"
    }
   ],
   "source": [
    "intersect_chroms_only.loc['Gcat']"
   ]
  },
  {
   "cell_type": "code",
   "execution_count": 218,
   "metadata": {},
   "outputs": [],
   "source": [
    "intersect_chroms_only=intersect_chroms_only.loc[~intersect_chroms_only.index.duplicated(keep='first')]"
   ]
  },
  {
   "cell_type": "code",
   "execution_count": 220,
   "metadata": {},
   "outputs": [
    {
     "data": {
      "text/html": [
       "<div>\n",
       "<style scoped>\n",
       "    .dataframe tbody tr th:only-of-type {\n",
       "        vertical-align: middle;\n",
       "    }\n",
       "\n",
       "    .dataframe tbody tr th {\n",
       "        vertical-align: top;\n",
       "    }\n",
       "\n",
       "    .dataframe thead th {\n",
       "        text-align: right;\n",
       "    }\n",
       "</style>\n",
       "<table border=\"1\" class=\"dataframe\">\n",
       "  <thead>\n",
       "    <tr style=\"text-align: right;\">\n",
       "      <th></th>\n",
       "      <th>Gene.description</th>\n",
       "      <th>AvgChrs</th>\n",
       "      <th>AT2_04M_F0</th>\n",
       "      <th>AT2_18M_F0</th>\n",
       "      <th>AT2_04M_F10</th>\n",
       "      <th>AT2_18M_F10</th>\n",
       "      <th>Gene start (bp)</th>\n",
       "      <th>Gene end (bp)</th>\n",
       "      <th>Chromosome/scaffold name</th>\n",
       "      <th>Gene description</th>\n",
       "      <th>gene length</th>\n",
       "    </tr>\n",
       "    <tr>\n",
       "      <th>MGI.symbol</th>\n",
       "      <th></th>\n",
       "      <th></th>\n",
       "      <th></th>\n",
       "      <th></th>\n",
       "      <th></th>\n",
       "      <th></th>\n",
       "      <th></th>\n",
       "      <th></th>\n",
       "      <th></th>\n",
       "      <th></th>\n",
       "      <th></th>\n",
       "    </tr>\n",
       "  </thead>\n",
       "  <tbody>\n",
       "    <tr>\n",
       "      <th>Gnai3</th>\n",
       "      <td>guanine nucleotide binding protein (G protein)...</td>\n",
       "      <td>2.675624</td>\n",
       "      <td>7.151432</td>\n",
       "      <td>7.134999</td>\n",
       "      <td>7.301802</td>\n",
       "      <td>7.126699</td>\n",
       "      <td>108107280</td>\n",
       "      <td>108146146</td>\n",
       "      <td>3</td>\n",
       "      <td>guanine nucleotide binding protein (G protein)...</td>\n",
       "      <td>38866</td>\n",
       "    </tr>\n",
       "    <tr>\n",
       "      <th>Cdc45</th>\n",
       "      <td>cell division cycle 45</td>\n",
       "      <td>15.191392</td>\n",
       "      <td>1.347537</td>\n",
       "      <td>0.520289</td>\n",
       "      <td>1.752669</td>\n",
       "      <td>1.091367</td>\n",
       "      <td>18780447</td>\n",
       "      <td>18811987</td>\n",
       "      <td>16</td>\n",
       "      <td>cell division cycle 45 [Source:MGI Symbol;Acc:...</td>\n",
       "      <td>31540</td>\n",
       "    </tr>\n",
       "    <tr>\n",
       "      <th>Narf</th>\n",
       "      <td>nuclear prelamin A recognition factor</td>\n",
       "      <td>10.993152</td>\n",
       "      <td>4.248040</td>\n",
       "      <td>4.163523</td>\n",
       "      <td>4.249110</td>\n",
       "      <td>4.224477</td>\n",
       "      <td>121237253</td>\n",
       "      <td>121255856</td>\n",
       "      <td>11</td>\n",
       "      <td>nuclear prelamin A recognition factor [Source:...</td>\n",
       "      <td>18603</td>\n",
       "    </tr>\n",
       "    <tr>\n",
       "      <th>Cav2</th>\n",
       "      <td>caveolin 2</td>\n",
       "      <td>5.115437</td>\n",
       "      <td>6.162987</td>\n",
       "      <td>5.953024</td>\n",
       "      <td>6.113755</td>\n",
       "      <td>5.937759</td>\n",
       "      <td>17281185</td>\n",
       "      <td>17289115</td>\n",
       "      <td>6</td>\n",
       "      <td>caveolin 2 [Source:MGI Symbol;Acc:MGI:107571]</td>\n",
       "      <td>7930</td>\n",
       "    </tr>\n",
       "    <tr>\n",
       "      <th>Klf6</th>\n",
       "      <td>Kruppel-like factor 6</td>\n",
       "      <td>12.048712</td>\n",
       "      <td>6.635019</td>\n",
       "      <td>6.649572</td>\n",
       "      <td>6.795728</td>\n",
       "      <td>6.626275</td>\n",
       "      <td>5861482</td>\n",
       "      <td>5870394</td>\n",
       "      <td>13</td>\n",
       "      <td>Kruppel-like factor 6 [Source:MGI Symbol;Acc:M...</td>\n",
       "      <td>8912</td>\n",
       "    </tr>\n",
       "  </tbody>\n",
       "</table>\n",
       "</div>"
      ],
      "text/plain": [
       "                                             Gene.description    AvgChrs  \\\n",
       "MGI.symbol                                                                 \n",
       "Gnai3       guanine nucleotide binding protein (G protein)...   2.675624   \n",
       "Cdc45                                  cell division cycle 45  15.191392   \n",
       "Narf                    nuclear prelamin A recognition factor  10.993152   \n",
       "Cav2                                               caveolin 2   5.115437   \n",
       "Klf6                                    Kruppel-like factor 6  12.048712   \n",
       "\n",
       "            AT2_04M_F0  AT2_18M_F0  AT2_04M_F10  AT2_18M_F10  Gene start (bp)  \\\n",
       "MGI.symbol                                                                      \n",
       "Gnai3         7.151432    7.134999     7.301802     7.126699        108107280   \n",
       "Cdc45         1.347537    0.520289     1.752669     1.091367         18780447   \n",
       "Narf          4.248040    4.163523     4.249110     4.224477        121237253   \n",
       "Cav2          6.162987    5.953024     6.113755     5.937759         17281185   \n",
       "Klf6          6.635019    6.649572     6.795728     6.626275          5861482   \n",
       "\n",
       "            Gene end (bp) Chromosome/scaffold name  \\\n",
       "MGI.symbol                                           \n",
       "Gnai3           108146146                        3   \n",
       "Cdc45            18811987                       16   \n",
       "Narf            121255856                       11   \n",
       "Cav2             17289115                        6   \n",
       "Klf6              5870394                       13   \n",
       "\n",
       "                                             Gene description  gene length  \n",
       "MGI.symbol                                                                  \n",
       "Gnai3       guanine nucleotide binding protein (G protein)...        38866  \n",
       "Cdc45       cell division cycle 45 [Source:MGI Symbol;Acc:...        31540  \n",
       "Narf        nuclear prelamin A recognition factor [Source:...        18603  \n",
       "Cav2            caveolin 2 [Source:MGI Symbol;Acc:MGI:107571]         7930  \n",
       "Klf6        Kruppel-like factor 6 [Source:MGI Symbol;Acc:M...         8912  "
      ]
     },
     "execution_count": 220,
     "metadata": {},
     "output_type": "execute_result"
    }
   ],
   "source": [
    "intersect_chroms_only.head()"
   ]
  },
  {
   "cell_type": "code",
   "execution_count": 222,
   "metadata": {},
   "outputs": [],
   "source": [
    "#intersect_chroms_only.to_csv('Data/rna_seq_cov.tsv',sep = '\\t')"
   ]
  },
  {
   "cell_type": "code",
   "execution_count": 142,
   "metadata": {},
   "outputs": [
    {
     "data": {
      "text/html": [
       "<div>\n",
       "<style scoped>\n",
       "    .dataframe tbody tr th:only-of-type {\n",
       "        vertical-align: middle;\n",
       "    }\n",
       "\n",
       "    .dataframe tbody tr th {\n",
       "        vertical-align: top;\n",
       "    }\n",
       "\n",
       "    .dataframe thead th {\n",
       "        text-align: right;\n",
       "    }\n",
       "</style>\n",
       "<table border=\"1\" class=\"dataframe\">\n",
       "  <thead>\n",
       "    <tr style=\"text-align: right;\">\n",
       "      <th></th>\n",
       "      <th>Gene.description</th>\n",
       "      <th>AvgChrs</th>\n",
       "      <th>AT2_18M_F10</th>\n",
       "      <th>WSU_Old</th>\n",
       "    </tr>\n",
       "    <tr>\n",
       "      <th>Gene.names</th>\n",
       "      <th></th>\n",
       "      <th></th>\n",
       "      <th></th>\n",
       "      <th></th>\n",
       "    </tr>\n",
       "  </thead>\n",
       "  <tbody>\n",
       "    <tr>\n",
       "      <th>0610037L13Rik</th>\n",
       "      <td>RIKEN cDNA 0610037L13 gene</td>\n",
       "      <td>3.689387</td>\n",
       "      <td>4.016506</td>\n",
       "      <td>23.808293</td>\n",
       "    </tr>\n",
       "    <tr>\n",
       "      <th>1810009A15Rik</th>\n",
       "      <td>RIKEN cDNA 1810009A15 gene</td>\n",
       "      <td>18.144712</td>\n",
       "      <td>0.000000</td>\n",
       "      <td>23.182809</td>\n",
       "    </tr>\n",
       "    <tr>\n",
       "      <th>2310011J03Rik</th>\n",
       "      <td>RIKEN cDNA 2310011J03 gene</td>\n",
       "      <td>9.614556</td>\n",
       "      <td>4.487340</td>\n",
       "      <td>23.487317</td>\n",
       "    </tr>\n",
       "    <tr>\n",
       "      <th>2610301B20Rik</th>\n",
       "      <td>RIKEN cDNA 2610301B20 gene</td>\n",
       "      <td>3.069562</td>\n",
       "      <td>4.998258</td>\n",
       "      <td>17.000000</td>\n",
       "    </tr>\n",
       "    <tr>\n",
       "      <th>2810006K23Rik</th>\n",
       "      <td>RIKEN cDNA 2810006K23 gene</td>\n",
       "      <td>4.818884</td>\n",
       "      <td>1.865742</td>\n",
       "      <td>17.000000</td>\n",
       "    </tr>\n",
       "  </tbody>\n",
       "</table>\n",
       "</div>"
      ],
      "text/plain": [
       "                         Gene.description    AvgChrs  AT2_18M_F10    WSU_Old\n",
       "Gene.names                                                                  \n",
       "0610037L13Rik  RIKEN cDNA 0610037L13 gene   3.689387     4.016506  23.808293\n",
       "1810009A15Rik  RIKEN cDNA 1810009A15 gene  18.144712     0.000000  23.182809\n",
       "2310011J03Rik  RIKEN cDNA 2310011J03 gene   9.614556     4.487340  23.487317\n",
       "2610301B20Rik  RIKEN cDNA 2610301B20 gene   3.069562     4.998258  17.000000\n",
       "2810006K23Rik  RIKEN cDNA 2810006K23 gene   4.818884     1.865742  17.000000"
      ]
     },
     "execution_count": 142,
     "metadata": {},
     "output_type": "execute_result"
    }
   ],
   "source": [
    "vsp_input.head()"
   ]
  },
  {
   "cell_type": "code",
   "execution_count": 101,
   "metadata": {},
   "outputs": [
    {
     "data": {
      "text/plain": [
       "3807"
      ]
     },
     "execution_count": 101,
     "metadata": {},
     "output_type": "execute_result"
    }
   ],
   "source": [
    "len(vsp_input)"
   ]
  },
  {
   "cell_type": "code",
   "execution_count": 68,
   "metadata": {},
   "outputs": [
    {
     "data": {
      "text/html": [
       "<div>\n",
       "<style scoped>\n",
       "    .dataframe tbody tr th:only-of-type {\n",
       "        vertical-align: middle;\n",
       "    }\n",
       "\n",
       "    .dataframe tbody tr th {\n",
       "        vertical-align: top;\n",
       "    }\n",
       "\n",
       "    .dataframe thead th {\n",
       "        text-align: right;\n",
       "    }\n",
       "</style>\n",
       "<table border=\"1\" class=\"dataframe\">\n",
       "  <thead>\n",
       "    <tr style=\"text-align: right;\">\n",
       "      <th></th>\n",
       "      <th>MGI.symbol</th>\n",
       "      <th>Gene.description</th>\n",
       "      <th>AvgChrs</th>\n",
       "      <th>AT2_04M_F0</th>\n",
       "      <th>AT2_18M_F0</th>\n",
       "      <th>AT2_04M_F10</th>\n",
       "      <th>AT2_18M_F10</th>\n",
       "      <th>Gene start (bp)</th>\n",
       "      <th>Gene end (bp)</th>\n",
       "      <th>Chromosome/scaffold name</th>\n",
       "      <th>Gene description</th>\n",
       "      <th>gene length</th>\n",
       "    </tr>\n",
       "  </thead>\n",
       "  <tbody>\n",
       "    <tr>\n",
       "      <th>0</th>\n",
       "      <td>Gnai3</td>\n",
       "      <td>guanine nucleotide binding protein (G protein)...</td>\n",
       "      <td>2.675624</td>\n",
       "      <td>7.151432</td>\n",
       "      <td>7.134999</td>\n",
       "      <td>7.301802</td>\n",
       "      <td>7.126699</td>\n",
       "      <td>108107280</td>\n",
       "      <td>108146146</td>\n",
       "      <td>3</td>\n",
       "      <td>guanine nucleotide binding protein (G protein)...</td>\n",
       "      <td>38866</td>\n",
       "    </tr>\n",
       "    <tr>\n",
       "      <th>1</th>\n",
       "      <td>Cdc45</td>\n",
       "      <td>cell division cycle 45</td>\n",
       "      <td>15.191392</td>\n",
       "      <td>1.347537</td>\n",
       "      <td>0.520289</td>\n",
       "      <td>1.752669</td>\n",
       "      <td>1.091367</td>\n",
       "      <td>18780447</td>\n",
       "      <td>18811987</td>\n",
       "      <td>16</td>\n",
       "      <td>cell division cycle 45 [Source:MGI Symbol;Acc:...</td>\n",
       "      <td>31540</td>\n",
       "    </tr>\n",
       "    <tr>\n",
       "      <th>2</th>\n",
       "      <td>Narf</td>\n",
       "      <td>nuclear prelamin A recognition factor</td>\n",
       "      <td>10.993152</td>\n",
       "      <td>4.248040</td>\n",
       "      <td>4.163523</td>\n",
       "      <td>4.249110</td>\n",
       "      <td>4.224477</td>\n",
       "      <td>121237253</td>\n",
       "      <td>121255856</td>\n",
       "      <td>11</td>\n",
       "      <td>nuclear prelamin A recognition factor [Source:...</td>\n",
       "      <td>18603</td>\n",
       "    </tr>\n",
       "    <tr>\n",
       "      <th>3</th>\n",
       "      <td>Cav2</td>\n",
       "      <td>caveolin 2</td>\n",
       "      <td>5.115437</td>\n",
       "      <td>6.162987</td>\n",
       "      <td>5.953024</td>\n",
       "      <td>6.113755</td>\n",
       "      <td>5.937759</td>\n",
       "      <td>17281185</td>\n",
       "      <td>17289115</td>\n",
       "      <td>6</td>\n",
       "      <td>caveolin 2 [Source:MGI Symbol;Acc:MGI:107571]</td>\n",
       "      <td>7930</td>\n",
       "    </tr>\n",
       "    <tr>\n",
       "      <th>4</th>\n",
       "      <td>Klf6</td>\n",
       "      <td>Kruppel-like factor 6</td>\n",
       "      <td>12.048712</td>\n",
       "      <td>6.635019</td>\n",
       "      <td>6.649572</td>\n",
       "      <td>6.795728</td>\n",
       "      <td>6.626275</td>\n",
       "      <td>5861482</td>\n",
       "      <td>5870394</td>\n",
       "      <td>13</td>\n",
       "      <td>Kruppel-like factor 6 [Source:MGI Symbol;Acc:M...</td>\n",
       "      <td>8912</td>\n",
       "    </tr>\n",
       "  </tbody>\n",
       "</table>\n",
       "</div>"
      ],
      "text/plain": [
       "  MGI.symbol                                   Gene.description    AvgChrs  \\\n",
       "0      Gnai3  guanine nucleotide binding protein (G protein)...   2.675624   \n",
       "1      Cdc45                             cell division cycle 45  15.191392   \n",
       "2       Narf              nuclear prelamin A recognition factor  10.993152   \n",
       "3       Cav2                                         caveolin 2   5.115437   \n",
       "4       Klf6                              Kruppel-like factor 6  12.048712   \n",
       "\n",
       "   AT2_04M_F0  AT2_18M_F0  AT2_04M_F10  AT2_18M_F10  Gene start (bp)  \\\n",
       "0    7.151432    7.134999     7.301802     7.126699        108107280   \n",
       "1    1.347537    0.520289     1.752669     1.091367         18780447   \n",
       "2    4.248040    4.163523     4.249110     4.224477        121237253   \n",
       "3    6.162987    5.953024     6.113755     5.937759         17281185   \n",
       "4    6.635019    6.649572     6.795728     6.626275          5861482   \n",
       "\n",
       "   Gene end (bp) Chromosome/scaffold name  \\\n",
       "0      108146146                        3   \n",
       "1       18811987                       16   \n",
       "2      121255856                       11   \n",
       "3       17289115                        6   \n",
       "4        5870394                       13   \n",
       "\n",
       "                                    Gene description  gene length  \n",
       "0  guanine nucleotide binding protein (G protein)...        38866  \n",
       "1  cell division cycle 45 [Source:MGI Symbol;Acc:...        31540  \n",
       "2  nuclear prelamin A recognition factor [Source:...        18603  \n",
       "3      caveolin 2 [Source:MGI Symbol;Acc:MGI:107571]         7930  \n",
       "4  Kruppel-like factor 6 [Source:MGI Symbol;Acc:M...         8912  "
      ]
     },
     "execution_count": 68,
     "metadata": {},
     "output_type": "execute_result"
    }
   ],
   "source": [
    "intersect_chroms_only.head()"
   ]
  },
  {
   "cell_type": "code",
   "execution_count": 69,
   "metadata": {},
   "outputs": [
    {
     "ename": "NameError",
     "evalue": "name 'vsp_input' is not defined",
     "output_type": "error",
     "traceback": [
      "\u001b[0;31m---------------------------------------------------------------------------\u001b[0m",
      "\u001b[0;31mNameError\u001b[0m                                 Traceback (most recent call last)",
      "\u001b[0;32m<ipython-input-69-9244b60d8dfa>\u001b[0m in \u001b[0;36m<module>\u001b[0;34m\u001b[0m\n\u001b[0;32m----> 1\u001b[0;31m \u001b[0mvsp_input\u001b[0m\u001b[0;34m.\u001b[0m\u001b[0mhead\u001b[0m\u001b[0;34m(\u001b[0m\u001b[0;34m)\u001b[0m\u001b[0;34m\u001b[0m\u001b[0;34m\u001b[0m\u001b[0m\n\u001b[0m",
      "\u001b[0;31mNameError\u001b[0m: name 'vsp_input' is not defined"
     ]
    }
   ],
   "source": [
    "vsp_input.head()"
   ]
  },
  {
   "cell_type": "code",
   "execution_count": 143,
   "metadata": {},
   "outputs": [],
   "source": [
    "test = vsp_input.join(intersect_chroms_only.loc[:,['Gene start (bp)','Gene end (bp)']],how='left')"
   ]
  },
  {
   "cell_type": "code",
   "execution_count": 144,
   "metadata": {},
   "outputs": [
    {
     "data": {
      "text/plain": [
       "3807"
      ]
     },
     "execution_count": 144,
     "metadata": {},
     "output_type": "execute_result"
    }
   ],
   "source": [
    "len(test)"
   ]
  },
  {
   "cell_type": "code",
   "execution_count": 148,
   "metadata": {},
   "outputs": [
    {
     "data": {
      "text/html": [
       "<div>\n",
       "<style scoped>\n",
       "    .dataframe tbody tr th:only-of-type {\n",
       "        vertical-align: middle;\n",
       "    }\n",
       "\n",
       "    .dataframe tbody tr th {\n",
       "        vertical-align: top;\n",
       "    }\n",
       "\n",
       "    .dataframe thead th {\n",
       "        text-align: right;\n",
       "    }\n",
       "</style>\n",
       "<table border=\"1\" class=\"dataframe\">\n",
       "  <thead>\n",
       "    <tr style=\"text-align: right;\">\n",
       "      <th></th>\n",
       "      <th>Gene.description</th>\n",
       "      <th>AvgChrs</th>\n",
       "      <th>AT2_18M_F10</th>\n",
       "      <th>WSU_Old</th>\n",
       "      <th>Gene start (bp)</th>\n",
       "      <th>Gene end (bp)</th>\n",
       "    </tr>\n",
       "    <tr>\n",
       "      <th>Gene.names</th>\n",
       "      <th></th>\n",
       "      <th></th>\n",
       "      <th></th>\n",
       "      <th></th>\n",
       "      <th></th>\n",
       "      <th></th>\n",
       "    </tr>\n",
       "  </thead>\n",
       "  <tbody>\n",
       "    <tr>\n",
       "      <th>0610037L13Rik</th>\n",
       "      <td>RIKEN cDNA 0610037L13 gene</td>\n",
       "      <td>3.689387</td>\n",
       "      <td>4.016506</td>\n",
       "      <td>23.808293</td>\n",
       "      <td>107889813</td>\n",
       "      <td>107899384</td>\n",
       "    </tr>\n",
       "    <tr>\n",
       "      <th>1810009A15Rik</th>\n",
       "      <td>RIKEN cDNA 1810009A15 gene</td>\n",
       "      <td>18.144712</td>\n",
       "      <td>0.000000</td>\n",
       "      <td>23.182809</td>\n",
       "      <td>8888853</td>\n",
       "      <td>8890881</td>\n",
       "    </tr>\n",
       "    <tr>\n",
       "      <th>2310011J03Rik</th>\n",
       "      <td>RIKEN cDNA 2310011J03 gene</td>\n",
       "      <td>9.614556</td>\n",
       "      <td>4.487340</td>\n",
       "      <td>23.487317</td>\n",
       "      <td>80318254</td>\n",
       "      <td>80320537</td>\n",
       "    </tr>\n",
       "    <tr>\n",
       "      <th>2610301B20Rik</th>\n",
       "      <td>RIKEN cDNA 2610301B20 gene</td>\n",
       "      <td>3.069562</td>\n",
       "      <td>4.998258</td>\n",
       "      <td>17.000000</td>\n",
       "      <td>10874498</td>\n",
       "      <td>10899425</td>\n",
       "    </tr>\n",
       "    <tr>\n",
       "      <th>2810006K23Rik</th>\n",
       "      <td>RIKEN cDNA 2810006K23 gene</td>\n",
       "      <td>4.818884</td>\n",
       "      <td>1.865742</td>\n",
       "      <td>17.000000</td>\n",
       "      <td>124328089</td>\n",
       "      <td>124341844</td>\n",
       "    </tr>\n",
       "  </tbody>\n",
       "</table>\n",
       "</div>"
      ],
      "text/plain": [
       "                         Gene.description    AvgChrs  AT2_18M_F10    WSU_Old  \\\n",
       "Gene.names                                                                     \n",
       "0610037L13Rik  RIKEN cDNA 0610037L13 gene   3.689387     4.016506  23.808293   \n",
       "1810009A15Rik  RIKEN cDNA 1810009A15 gene  18.144712     0.000000  23.182809   \n",
       "2310011J03Rik  RIKEN cDNA 2310011J03 gene   9.614556     4.487340  23.487317   \n",
       "2610301B20Rik  RIKEN cDNA 2610301B20 gene   3.069562     4.998258  17.000000   \n",
       "2810006K23Rik  RIKEN cDNA 2810006K23 gene   4.818884     1.865742  17.000000   \n",
       "\n",
       "               Gene start (bp)  Gene end (bp)  \n",
       "Gene.names                                     \n",
       "0610037L13Rik        107889813      107899384  \n",
       "1810009A15Rik          8888853        8890881  \n",
       "2310011J03Rik         80318254       80320537  \n",
       "2610301B20Rik         10874498       10899425  \n",
       "2810006K23Rik        124328089      124341844  "
      ]
     },
     "execution_count": 148,
     "metadata": {},
     "output_type": "execute_result"
    }
   ],
   "source": [
    "test.head()"
   ]
  },
  {
   "cell_type": "code",
   "execution_count": 151,
   "metadata": {},
   "outputs": [],
   "source": [
    "test['gene length'] = test['Gene end (bp)']-test['Gene start (bp)']"
   ]
  },
  {
   "cell_type": "code",
   "execution_count": 152,
   "metadata": {},
   "outputs": [
    {
     "data": {
      "text/html": [
       "<div>\n",
       "<style scoped>\n",
       "    .dataframe tbody tr th:only-of-type {\n",
       "        vertical-align: middle;\n",
       "    }\n",
       "\n",
       "    .dataframe tbody tr th {\n",
       "        vertical-align: top;\n",
       "    }\n",
       "\n",
       "    .dataframe thead th {\n",
       "        text-align: right;\n",
       "    }\n",
       "</style>\n",
       "<table border=\"1\" class=\"dataframe\">\n",
       "  <thead>\n",
       "    <tr style=\"text-align: right;\">\n",
       "      <th></th>\n",
       "      <th>Gene.description</th>\n",
       "      <th>AvgChrs</th>\n",
       "      <th>AT2_18M_F10</th>\n",
       "      <th>WSU_Old</th>\n",
       "      <th>Gene start (bp)</th>\n",
       "      <th>Gene end (bp)</th>\n",
       "      <th>gene length</th>\n",
       "    </tr>\n",
       "    <tr>\n",
       "      <th>Gene.names</th>\n",
       "      <th></th>\n",
       "      <th></th>\n",
       "      <th></th>\n",
       "      <th></th>\n",
       "      <th></th>\n",
       "      <th></th>\n",
       "      <th></th>\n",
       "    </tr>\n",
       "  </thead>\n",
       "  <tbody>\n",
       "    <tr>\n",
       "      <th>0610037L13Rik</th>\n",
       "      <td>RIKEN cDNA 0610037L13 gene</td>\n",
       "      <td>3.689387</td>\n",
       "      <td>4.016506</td>\n",
       "      <td>23.808293</td>\n",
       "      <td>107889813</td>\n",
       "      <td>107899384</td>\n",
       "      <td>9571</td>\n",
       "    </tr>\n",
       "    <tr>\n",
       "      <th>1810009A15Rik</th>\n",
       "      <td>RIKEN cDNA 1810009A15 gene</td>\n",
       "      <td>18.144712</td>\n",
       "      <td>0.000000</td>\n",
       "      <td>23.182809</td>\n",
       "      <td>8888853</td>\n",
       "      <td>8890881</td>\n",
       "      <td>2028</td>\n",
       "    </tr>\n",
       "    <tr>\n",
       "      <th>2310011J03Rik</th>\n",
       "      <td>RIKEN cDNA 2310011J03 gene</td>\n",
       "      <td>9.614556</td>\n",
       "      <td>4.487340</td>\n",
       "      <td>23.487317</td>\n",
       "      <td>80318254</td>\n",
       "      <td>80320537</td>\n",
       "      <td>2283</td>\n",
       "    </tr>\n",
       "    <tr>\n",
       "      <th>2610301B20Rik</th>\n",
       "      <td>RIKEN cDNA 2610301B20 gene</td>\n",
       "      <td>3.069562</td>\n",
       "      <td>4.998258</td>\n",
       "      <td>17.000000</td>\n",
       "      <td>10874498</td>\n",
       "      <td>10899425</td>\n",
       "      <td>24927</td>\n",
       "    </tr>\n",
       "    <tr>\n",
       "      <th>2810006K23Rik</th>\n",
       "      <td>RIKEN cDNA 2810006K23 gene</td>\n",
       "      <td>4.818884</td>\n",
       "      <td>1.865742</td>\n",
       "      <td>17.000000</td>\n",
       "      <td>124328089</td>\n",
       "      <td>124341844</td>\n",
       "      <td>13755</td>\n",
       "    </tr>\n",
       "  </tbody>\n",
       "</table>\n",
       "</div>"
      ],
      "text/plain": [
       "                         Gene.description    AvgChrs  AT2_18M_F10    WSU_Old  \\\n",
       "Gene.names                                                                     \n",
       "0610037L13Rik  RIKEN cDNA 0610037L13 gene   3.689387     4.016506  23.808293   \n",
       "1810009A15Rik  RIKEN cDNA 1810009A15 gene  18.144712     0.000000  23.182809   \n",
       "2310011J03Rik  RIKEN cDNA 2310011J03 gene   9.614556     4.487340  23.487317   \n",
       "2610301B20Rik  RIKEN cDNA 2610301B20 gene   3.069562     4.998258  17.000000   \n",
       "2810006K23Rik  RIKEN cDNA 2810006K23 gene   4.818884     1.865742  17.000000   \n",
       "\n",
       "               Gene start (bp)  Gene end (bp)  gene length  \n",
       "Gene.names                                                  \n",
       "0610037L13Rik        107889813      107899384         9571  \n",
       "1810009A15Rik          8888853        8890881         2028  \n",
       "2310011J03Rik         80318254       80320537         2283  \n",
       "2610301B20Rik         10874498       10899425        24927  \n",
       "2810006K23Rik        124328089      124341844        13755  "
      ]
     },
     "execution_count": 152,
     "metadata": {},
     "output_type": "execute_result"
    }
   ],
   "source": [
    "test.head()"
   ]
  },
  {
   "cell_type": "code",
   "execution_count": 155,
   "metadata": {},
   "outputs": [],
   "source": [
    "#test.to_csv('Data/vsp_input.tsv',sep = '\\t')"
   ]
  }
 ],
 "metadata": {
  "kernelspec": {
   "display_name": "Python 3",
   "language": "python",
   "name": "python3"
  },
  "language_info": {
   "codemirror_mode": {
    "name": "ipython",
    "version": 3
   },
   "file_extension": ".py",
   "mimetype": "text/x-python",
   "name": "python",
   "nbconvert_exporter": "python",
   "pygments_lexer": "ipython3",
   "version": "3.7.3"
  }
 },
 "nbformat": 4,
 "nbformat_minor": 2
}
