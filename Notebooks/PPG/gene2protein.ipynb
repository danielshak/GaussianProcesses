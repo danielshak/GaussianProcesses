{
 "cells": [
  {
   "cell_type": "markdown",
   "metadata": {},
   "source": [
    "## Use the gene names to parse protein groups tables for the protein identifier. Take the matching gene and corresponding protein name to search for protein sequence"
   ]
  },
  {
   "cell_type": "markdown",
   "metadata": {},
   "source": [
    "Number of isoforms detected in AM protein groups 2 <br>\n",
    "Tmpo <br>\n",
    "Tor1aip2 <br>\n",
    "\n",
    "Number of isoforms detected in AM protein groups 1<br>\n",
    "Tmpo <br>\n",
    "\n"
   ]
  },
  {
   "cell_type": "code",
   "execution_count": 423,
   "metadata": {},
   "outputs": [],
   "source": [
    "import pandas as pd\n",
    "import numpy as np\n",
    "import matplotlib.pyplot as plt\n",
    "import scipy.stats\n",
    "from collections import Counter\n"
   ]
  },
  {
   "cell_type": "code",
   "execution_count": 101,
   "metadata": {},
   "outputs": [],
   "source": [
    "proteomics_AM_GeneNames = pd.read_csv('../../Data/RnaProtein_dropbox/PPG_AM_proteomics_covariance_input_0419.tsv',sep='\\t',usecols=[0])\n",
    "proteomics_AM_GeneNames.set_index('Gene.names',inplace=True)\n",
    "proteomics_AT_GeneNames = pd.read_csv('../../Data/RnaProtein_dropbox/PPG_AT2_proteomics_covariance_input_0419.tsv',sep='\\t',usecols=[0])\n",
    "proteomics_AT_GeneNames.set_index('Gene.names',inplace=True)"
   ]
  },
  {
   "cell_type": "code",
   "execution_count": 494,
   "metadata": {},
   "outputs": [
    {
     "data": {
      "text/plain": [
       "(4017, 0)"
      ]
     },
     "execution_count": 494,
     "metadata": {},
     "output_type": "execute_result"
    }
   ],
   "source": [
    "proteomics_AM_GeneNames.shape"
   ]
  },
  {
   "cell_type": "code",
   "execution_count": 495,
   "metadata": {},
   "outputs": [
    {
     "data": {
      "text/plain": [
       "(4017, 3)"
      ]
     },
     "execution_count": 495,
     "metadata": {},
     "output_type": "execute_result"
    }
   ],
   "source": [
    "am_mappings.shape"
   ]
  },
  {
   "cell_type": "code",
   "execution_count": 67,
   "metadata": {},
   "outputs": [],
   "source": [
    "GeneNames = list(proteomics_AM_GeneNames.index) + list(proteomics_AT_GeneNames.index)\n",
    "GeneNames = set(GeneNames) #list of all unique gene names found in both AM and AT2 proteomics tables"
   ]
  },
  {
   "cell_type": "code",
   "execution_count": 298,
   "metadata": {},
   "outputs": [],
   "source": [
    "# ProtGrps_AM = pd.read_csv('../../Data/PPG_ProteinGroups/proteinGroups_AM.txt',sep='\\t',usecols=[0,1,2,5,6])\n",
    "# ProtGrps_AM_missing = ProtGrps_AM[ProtGrps_AM['Gene names'].isna()]\n",
    "# ProtGrps_AM.drop(labels=ProtGrps_AM[ProtGrps_AM['Gene names'].isna()].index,inplace=True)\n",
    "# ProtGrps_AM.set_index('Gene names',inplace=True)\n",
    "\n",
    "# ProtGrps_AT2 = pd.read_csv('../../Data/PPG_ProteinGroups/proteinGroups_AT.txt',sep='\\t',usecols=[0,1,2,5,6])\n",
    "# ProtGrps_AT2_missing = ProtGrps_AT2[ProtGrps_AT2['Gene names'].isna()]\n",
    "# ProtGrps_AT2.drop(labels=ProtGrps_AT2[ProtGrps_AT2['Gene names'].isna()].index,inplace=True)\n",
    "# ProtGrps_AT2.set_index('Gene names',inplace=True)"
   ]
  },
  {
   "cell_type": "code",
   "execution_count": 340,
   "metadata": {},
   "outputs": [],
   "source": [
    "AM_imputed = pd.read_csv('../../Data/PPG_ProteinGroups/PPG_AM_main_imputed.tsv',sep='\\t',usecols=[0,1,2])\n",
    "AM_imputed.set_index('Gene.names',inplace=True)\n",
    "AT2_imputed = pd.read_csv('../../Data/PPG_ProteinGroups/PPG_AT2_main_imputed.tsv',sep='\\t',usecols=[0,1,2])\n",
    "AT2_imputed.set_index('Gene.names',inplace=True)"
   ]
  },
  {
   "cell_type": "markdown",
   "metadata": {},
   "source": [
    "### For the gene names found in the proteomics table extract protein names from imputed, check for differences in majority protein"
   ]
  },
  {
   "cell_type": "code",
   "execution_count": 376,
   "metadata": {},
   "outputs": [],
   "source": [
    "am_genes = list(set(list(AM_imputed.index))&GeneNames) #overlapping gene names from inputed and protein covariance\n",
    "at2_genes = list(set(list(AT2_imputed.index))&GeneNames) #overlapping gene names from inputed and protein covariance"
   ]
  },
  {
   "cell_type": "code",
   "execution_count": 377,
   "metadata": {},
   "outputs": [],
   "source": [
    "am_mappings = AM_imputed.loc[am_genes,:].copy()\n",
    "am_mappings['Majority.protein.IDs'] = am_mappings['Majority.protein.IDs'].str.split(';').str[0]\n",
    "\n",
    "at2_mappings = AT2_imputed.loc[at2_genes,:].copy()\n",
    "at2_mappings['Majority.protein.IDs'] = at2_mappings['Majority.protein.IDs'].str.split(';').str[0]"
   ]
  },
  {
   "cell_type": "markdown",
   "metadata": {},
   "source": [
    "### shows if there is a different majority protein in the first position between am and at2 cells"
   ]
  },
  {
   "cell_type": "code",
   "execution_count": 439,
   "metadata": {},
   "outputs": [
    {
     "name": "stdout",
     "output_type": "stream",
     "text": [
      "Igkv3-2\n",
      "P01654\n",
      "P03977\n",
      "\n",
      "\n"
     ]
    }
   ],
   "source": [
    "for gene in set(am_mappings.index)&set(at2_mappings.index):\n",
    "    if am_mappings.loc[gene,'Majority.protein.IDs'] != at2_mappings.loc[gene,'Majority.protein.IDs']:\n",
    "        print(gene)\n",
    "        print(am_mappings.loc[gene,'Majority.protein.IDs'])\n",
    "        print(at2_mappings.loc[gene,'Majority.protein.IDs'])\n",
    "        print('\\n')"
   ]
  },
  {
   "cell_type": "markdown",
   "metadata": {},
   "source": [
    "#### List below to grab fasta files from uniprot"
   ]
  },
  {
   "cell_type": "code",
   "execution_count": 398,
   "metadata": {},
   "outputs": [],
   "source": [
    "uniprot_names = list(set(am_mappings['Majority.protein.IDs']) | set(at2_mappings['Majority.protein.IDs']))"
   ]
  },
  {
   "cell_type": "code",
   "execution_count": 405,
   "metadata": {},
   "outputs": [],
   "source": [
    "with open(\"Data/uniprot.txt\",\"w+\")  as fp:\n",
    "    for name in uniprot_names:\n",
    "        fp.write(name+'\\n')"
   ]
  },
  {
   "cell_type": "markdown",
   "metadata": {},
   "source": [
    "### combine fasta file to corresponding protein names"
   ]
  },
  {
   "cell_type": "code",
   "execution_count": 415,
   "metadata": {},
   "outputs": [],
   "source": [
    "with open(\"Data/protein_seq.fasta\",\"r+\") as fp:\n",
    "    sequences = fp.read().splitlines()"
   ]
  },
  {
   "cell_type": "code",
   "execution_count": 463,
   "metadata": {},
   "outputs": [],
   "source": [
    "counter = 0\n",
    "sequence_mappings = {protein: [] for protein in uniprot_names} #initialize dict, protein names as keys and value is a list\n",
    "\n",
    "for line in sequences[1::]: #skip first line\n",
    "    if '>' in line:\n",
    "        counter += 1\n",
    "        continue #immediately goes to next iteration\n",
    "    else:\n",
    "        sequence_mappings[uniprot_names[counter]].append(line)\n",
    "        \n",
    "#concatenate all lists into strings\n",
    "for keys in sequence_mappings.keys():\n",
    "    sequence_mappings[keys] = ''.join(sequence_mappings[keys])"
   ]
  },
  {
   "cell_type": "code",
   "execution_count": 471,
   "metadata": {},
   "outputs": [],
   "source": [
    "#Use sequence mappings to match corresponding sequence to protein\n",
    "at2_mappings['ProteinSequence'] = at2_mappings['Majority.protein.IDs'].map(sequence_mappings)\n",
    "am_mappings['ProteinSequence'] = am_mappings['Majority.protein.IDs'].map(sequence_mappings)"
   ]
  },
  {
   "cell_type": "code",
   "execution_count": 493,
   "metadata": {},
   "outputs": [],
   "source": [
    "at2_mappings.to_csv('Data/AT2_SeqMappings.tsv',sep='\\t')\n",
    "am_mappings.to_csv('Data/AM_SeqMappings.tsv',sep='\\t')"
   ]
  }
 ],
 "metadata": {
  "kernelspec": {
   "display_name": "Python 3",
   "language": "python",
   "name": "python3"
  },
  "language_info": {
   "codemirror_mode": {
    "name": "ipython",
    "version": 3
   },
   "file_extension": ".py",
   "mimetype": "text/x-python",
   "name": "python",
   "nbconvert_exporter": "python",
   "pygments_lexer": "ipython3",
   "version": "3.7.3"
  }
 },
 "nbformat": 4,
 "nbformat_minor": 2
}
