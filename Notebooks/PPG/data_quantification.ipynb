{
 "cells": [
  {
   "cell_type": "code",
   "execution_count": 1,
   "metadata": {},
   "outputs": [],
   "source": [
    "import pandas as pd\n",
    "import numpy as np\n",
    "import scipy.stats as stats\n",
    "import matplotlib.pyplot as plt\n",
    "import matplotlib.colors\n",
    "from matplotlib import cm\n",
    "from tqdm import tqdm\n",
    "import time\n",
    "import seaborn as sns"
   ]
  },
  {
   "cell_type": "code",
   "execution_count": 2,
   "metadata": {},
   "outputs": [],
   "source": [
    "#Data class for fast testing of Gpy\n",
    "\n",
    "class GPY_data():\n",
    "    def __init__(self,pdDF,features,cell_lines):\n",
    "        '''\n",
    "        Class that takes in dataframe of all the cell conditions and filters for various parameters. Creates sub dataframes by filtering for\n",
    "        missing gene values, missing protein values and individual chromosome level. Dataframe exists as a 3 column df, to get sub columns of\n",
    "        the index use:\n",
    "            #test.rna['AT2_04M_F0'].index.get_level_values(0) #selects a single index for multiindex\n",
    "        \n",
    "        self.cell_lines has the names of the different conditions, use that as keys to get data from:\n",
    "            self.rna - (dictionary) rows of genes of nonzero mRNA levels\n",
    "            self.rna_protein - (dictinary) rows of genes of nonzero mRNA and protein levels\n",
    "            self.chrm - (dictionary of dictionary) top level dictionary keys are cell lines, second level down are chrm{i}, 1<=i<=21\n",
    "        \n",
    "        Various functions for testing gpy models, and uniform plotting:\n",
    "            -grid to project back onto chrm position\n",
    "            -grid \n",
    "            \n",
    "        '''\n",
    "        assert isinstance(pdDF,pd.DataFrame)\n",
    "        assert isinstance(features, list)\n",
    "        assert isinstance(cell_lines, list)\n",
    "        \n",
    "        self.data = pdDF.copy() #pandas dataframe\n",
    "        self.data['Gene Length'] = np.log2(self.data[['Gene Length']]) #log2 of gene length\n",
    "        self.features = features\n",
    "        self.cell_lines = cell_lines #single list\n",
    "        \n",
    "        self.rna = {} #Dictionary containing dataframe for cell conditions with rows of genes of nonzero mRNA levels\n",
    "        self.rna_chrm = {} #Dictinoary of data frames filtered for each chromosome, contains all genes with nonzero mRNA\n",
    "        self.rna_protein = {} #Dictionary containing dataframe for cell conditions with rows of genes of nonzero mRNA and protein levels\n",
    "        self.rna_protein_chrm = {} #Data frames filtered for each chromosome, contains only nonzero mRNA and protein\n",
    "        num_chrms = 21 #accounting for both x/y chrms\n",
    "        \n",
    "        for cell_condition in cell_lines:\n",
    "            rna_prot = [cell_condition,cell_condition+'_P'] #mRNA and protein names\n",
    "            self.rna[cell_condition] = self.data[features+rna_prot][self.data[cell_condition]!=0] #removes genes where mRNA = 0\n",
    "            self.rna_protein[cell_condition] = self.rna[cell_condition][self.rna[cell_condition][cell_condition+'_P']!=0] #removes genes where mRNA and protein levels are 0\n",
    "            sub_rna_chrm = {}\n",
    "            sub_chrm = {}\n",
    "            for i in range(num_chrms):\n",
    "                sub_rna_chrm[f'chrm{i+1}'] = self.rna[cell_condition][(self.rna[cell_condition]['AvgChrs']>=i) & (self.rna[cell_condition]['AvgChrs']<i+1)] #filters per chromosome level\n",
    "                sub_chrm[f'chrm{i+1}'] = self.rna_protein[cell_condition][(self.rna_protein[cell_condition]['AvgChrs']>=i) & (self.rna_protein[cell_condition]['AvgChrs']<i+1)] #filters per chromosome level\n",
    "            self.rna_chrm[cell_condition] = sub_rna_chrm\n",
    "            self.rna_protein_chrm[cell_condition] = sub_chrm\n",
    "                "
   ]
  },
  {
   "cell_type": "code",
   "execution_count": 3,
   "metadata": {},
   "outputs": [],
   "source": [
    "gp_data = pd.read_csv('Data/GP_data.tsv',sep='\\t',index_col=0)\n",
    "gp_data.set_index(['Gene.names', 'Gene.description'],append=True,inplace=True)\n",
    "\n",
    "features = ['AvgChrs','NormPosition','Gene Length']\n",
    "AT2 = ['AT2_04M_F0','AT2_04M_F10','AT2_18M_F0','AT2_18M_F10']\n",
    "AM = ['AM_04M_F0','AM_04M_F10','AM_18M_F0','AM_18M_F10']\n",
    "cell_lines = AT2+AM\n",
    "\n",
    "data = GPY_data(gp_data,features,cell_lines)"
   ]
  },
  {
   "cell_type": "code",
   "execution_count": 10,
   "metadata": {},
   "outputs": [
    {
     "name": "stdout",
     "output_type": "stream",
     "text": [
      "13117\n",
      "13028\n",
      "12869\n",
      "13101\n",
      "11763\n",
      "11693\n",
      "11721\n",
      "11635\n"
     ]
    }
   ],
   "source": [
    "for cell in cell_lines:\n",
    "    print(len(data.rna[cell]))"
   ]
  },
  {
   "cell_type": "code",
   "execution_count": 5,
   "metadata": {},
   "outputs": [
    {
     "name": "stdout",
     "output_type": "stream",
     "text": [
      "AT2_04M_F0\n",
      "AT2_04M_F10\n",
      "AT2_18M_F0\n",
      "AT2_18M_F10\n",
      "AM_04M_F0\n",
      "AM_04M_F10\n",
      "AM_18M_F0\n",
      "AM_18M_F10\n"
     ]
    }
   ],
   "source": [
    "for cell in cell_lines:\n",
    "    print(cell)"
   ]
  },
  {
   "cell_type": "markdown",
   "metadata": {},
   "source": [
    "## Histogram of abundance"
   ]
  },
  {
   "cell_type": "code",
   "execution_count": 118,
   "metadata": {},
   "outputs": [],
   "source": [
    "for cell in cell_lines:\n",
    "    bins = 50\n",
    "    matplotlib.rcParams.update({'font.size': 13})\n",
    "    fig = plt.figure()\n",
    "    fig.set_size_inches(10,8)\n",
    "    ax = fig.add_subplot(111)\n",
    "\n",
    "    #Hist 1\n",
    "    lbl=f\"{len(data.rna[cell][[cell]].values)} detected on transcript\"\n",
    "    ax.hist(data.rna[cell][[cell]].values,bins=bins,color='silver',label=lbl)\n",
    "\n",
    "    #Hist 2\n",
    "    non_prot_index = data.rna[cell][cell+'_P']==0\n",
    "    lbl2 = f\"{len(data.rna[cell][cell][non_prot_index].values)} not detected on proteome\"\n",
    "    ax.hist(data.rna[cell][cell][non_prot_index].values,bins=bins,color='dodgerblue',label=lbl2) #Not detected as proteins\n",
    "\n",
    "    #Hist 3\n",
    "    lbl3 = f\"{len(data.rna_protein[cell][[cell]].values)} detected on both\"\n",
    "    ax.hist(data.rna_protein[cell][[cell]].values,bins=bins,color='blue',label=lbl3) #Detected as proteins\n",
    "\n",
    "\n",
    "    ax.set_title(f\"{cell} Gene Quantification\")\n",
    "    ax.set_xlabel(\"Log2 TMM Gene Expression\")\n",
    "    ax.set_ylabel(\"# of genes\")\n",
    "    ax.spines['right'].set_visible(False)\n",
    "    ax.spines['top'].set_visible(False)\n",
    "    ax.legend(frameon=False)\n",
    "    fig.savefig(f\"Quantification/{cell}/{cell}_quant.pdf\")\n",
    "    plt.close()"
   ]
  },
  {
   "cell_type": "markdown",
   "metadata": {},
   "source": [
    "## Total abundance of all samples to show dynamic range between proteome and transcriptome"
   ]
  },
  {
   "cell_type": "code",
   "execution_count": 19,
   "metadata": {},
   "outputs": [],
   "source": [
    "matplotlib.rcParams.update({'font.size': 13})\n",
    "bins=50\n",
    "\n",
    "for cell in cell_lines:\n",
    "    fig = plt.figure()\n",
    "    fig.set_size_inches(8,8)\n",
    "    ax = fig.add_subplot(111)\n",
    "    ax.hist(data.rna[cell][[cell]].values,bins=bins,color='blue',label='Transcriptome')\n",
    "    ax.hist(data.rna_protein[cell][[cell+'_P']].values,bins=bins,color='dimgray',label='Proteome')\n",
    "    ax.spines['right'].set_visible(False)\n",
    "    ax.spines['top'].set_visible(False)\n",
    "    ax.legend(frameon=False)\n",
    "    ax.set_title('RNA and Protein Abundance Distributions')\n",
    "    ax.set_xlabel(\"Log2 Intensity\")\n",
    "    ax.set_ylabel(\"Counts\")\n",
    "    fig.savefig(f\"Quantification/{cell}/{cell}_protein_rna_quant.pdf\")\n",
    "    plt.close()"
   ]
  },
  {
   "cell_type": "code",
   "execution_count": 20,
   "metadata": {},
   "outputs": [],
   "source": [
    "matplotlib.rcParams.update({'font.size': 13})\n",
    "bins=50\n",
    "\n",
    "for cell in cell_lines:\n",
    "    fig = plt.figure()\n",
    "    fig.set_size_inches(8,8)\n",
    "    ax = fig.add_subplot(111)\n",
    "    ax.hist(data.rna_protein[cell][[cell]].values,bins=bins,color='blue',label='Transcriptome')\n",
    "    ax.hist(data.rna_protein[cell][[cell+'_P']].values,bins=bins,color='dimgray',label='Proteome')\n",
    "    ax.spines['right'].set_visible(False)\n",
    "    ax.spines['top'].set_visible(False)\n",
    "    ax.legend(frameon=False)\n",
    "    ax.set_title('RNA and Protein Abundance Distributions')\n",
    "    ax.set_xlabel(\"Log2 Intensity\")\n",
    "    ax.set_ylabel(\"Counts\")\n",
    "    fig.savefig(f\"Quantification/{cell}/{cell}_protein_rna_quant2.pdf\")\n",
    "    plt.close()"
   ]
  },
  {
   "cell_type": "markdown",
   "metadata": {},
   "source": [
    "## Correlation plots"
   ]
  },
  {
   "cell_type": "code",
   "execution_count": 164,
   "metadata": {},
   "outputs": [
    {
     "name": "stderr",
     "output_type": "stream",
     "text": [
      "/gpfs/home/dshak/anaconda3/lib/python3.7/site-packages/seaborn/axisgrid.py:1847: UserWarning: JointGrid annotation is deprecated and will be removed in a future release.\n",
      "  warnings.warn(UserWarning(msg))\n",
      "/gpfs/home/dshak/anaconda3/lib/python3.7/site-packages/seaborn/axisgrid.py:1847: UserWarning: JointGrid annotation is deprecated and will be removed in a future release.\n",
      "  warnings.warn(UserWarning(msg))\n",
      "/gpfs/home/dshak/anaconda3/lib/python3.7/site-packages/seaborn/axisgrid.py:1847: UserWarning: JointGrid annotation is deprecated and will be removed in a future release.\n",
      "  warnings.warn(UserWarning(msg))\n",
      "/gpfs/home/dshak/anaconda3/lib/python3.7/site-packages/seaborn/axisgrid.py:1847: UserWarning: JointGrid annotation is deprecated and will be removed in a future release.\n",
      "  warnings.warn(UserWarning(msg))\n",
      "/gpfs/home/dshak/anaconda3/lib/python3.7/site-packages/seaborn/axisgrid.py:1847: UserWarning: JointGrid annotation is deprecated and will be removed in a future release.\n",
      "  warnings.warn(UserWarning(msg))\n",
      "/gpfs/home/dshak/anaconda3/lib/python3.7/site-packages/seaborn/axisgrid.py:1847: UserWarning: JointGrid annotation is deprecated and will be removed in a future release.\n",
      "  warnings.warn(UserWarning(msg))\n",
      "/gpfs/home/dshak/anaconda3/lib/python3.7/site-packages/seaborn/axisgrid.py:1847: UserWarning: JointGrid annotation is deprecated and will be removed in a future release.\n",
      "  warnings.warn(UserWarning(msg))\n",
      "/gpfs/home/dshak/anaconda3/lib/python3.7/site-packages/seaborn/axisgrid.py:1847: UserWarning: JointGrid annotation is deprecated and will be removed in a future release.\n",
      "  warnings.warn(UserWarning(msg))\n"
     ]
    }
   ],
   "source": [
    "for cell in cell_lines:\n",
    "    sns.set(style=\"white\", color_codes=True,font_scale=1.5)\n",
    "    d = data.rna_protein[cell][[cell,cell+'_P']].copy()\n",
    "    d.columns = [\"Log2 TMM RNA-seq\", \"Log2 AUC Protein Level\"]\n",
    "    g = sns.jointplot(\"Log2 TMM RNA-seq\", \"Log2 AUC Protein Level\",data=d,height=10, xlim=(0,15),ylim=(18,30),kind=\"reg\",scatter_kws={'alpha':0.3})\n",
    "    g.annotate(stats.pearsonr,frameon=False)\n",
    "    g.fig.suptitle(f\"RNA to Protein Correlation {cell}\")\n",
    "    g.savefig(f'Quantification/{cell}/{cell}_correlation.pdf')\n",
    "    plt.close()"
   ]
  },
  {
   "cell_type": "markdown",
   "metadata": {},
   "source": [
    "## Abundance ranking"
   ]
  },
  {
   "cell_type": "code",
   "execution_count": 322,
   "metadata": {},
   "outputs": [],
   "source": [
    "log=np.e\n",
    "matplotlib.rcParams.update({'font.size': 13})\n",
    "for cell in cell_lines:\n",
    "    fig = plt.figure()\n",
    "    fig.set_size_inches(8,8)\n",
    "    ax = fig.add_subplot(111)\n",
    "    index = data.rna_protein[cell][[cell]].sort_values(by=[cell], ascending=False).index.get_level_values(1)\n",
    "    total = (log**data.rna_protein[cell][[cell]]).sum()\n",
    "    cum_intensity = (log**data.rna_protein[cell][[cell]]).sort_values(by=[cell], ascending=False).cumsum()/total\n",
    "    cum_intensity.index = index\n",
    "    cum_intensity = cum_intensity[cell].reset_index()\n",
    "    sc = ax.scatter(cum_intensity.index,cum_intensity[cell],label='Transcriptome',color='royalblue')\n",
    "\n",
    "\n",
    "    index = data.rna_protein[cell][[cell+'_P']].sort_values(by=[cell+'_P'], ascending=False).index.get_level_values(1)\n",
    "    total = (log**data.rna_protein[cell][[cell+'_P']]).sum()\n",
    "    cum_intensity = (log**data.rna_protein[cell][[cell+'_P']]).sort_values(by=[cell+'_P'], ascending=False).cumsum()/total\n",
    "    cum_intensity.index = index\n",
    "    cum_intensity = cum_intensity[cell+'_P'].reset_index()\n",
    "    sc = ax.scatter(cum_intensity.index,cum_intensity[cell+'_P'],label='Proteome',color='dimgray')\n",
    "\n",
    "    ax.set_xscale('log')\n",
    "    ax.set_xlim([0.9, 4000])\n",
    "    ax.set_title(f\"{cell} Cumlative ranked abundance\")\n",
    "    ax.legend(frameon=False)\n",
    "    ax.set_xlabel(\"Ordered abundance rank\")\n",
    "    ax.set_ylabel(\"Cumlative percentage\")\n",
    "    ax.spines['right'].set_visible(False)\n",
    "    ax.spines['top'].set_visible(False)\n",
    "    fig.savefig(f\"Quantification/{cell}/{cell}_abundance.pdf\")\n",
    "    plt.close()"
   ]
  },
  {
   "cell_type": "code",
   "execution_count": null,
   "metadata": {},
   "outputs": [],
   "source": []
  }
 ],
 "metadata": {
  "kernelspec": {
   "display_name": "Python 3",
   "language": "python",
   "name": "python3"
  },
  "language_info": {
   "codemirror_mode": {
    "name": "ipython",
    "version": 3
   },
   "file_extension": ".py",
   "mimetype": "text/x-python",
   "name": "python",
   "nbconvert_exporter": "python",
   "pygments_lexer": "ipython3",
   "version": "3.7.3"
  }
 },
 "nbformat": 4,
 "nbformat_minor": 2
}
